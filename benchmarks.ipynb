{
 "cells": [
  {
   "attachments": {},
   "cell_type": "markdown",
   "metadata": {},
   "source": [
    "# Benchmarks\n",
    "\n",
    "These benchmarks seek to establish the performance of tablite as a user sees it.\n",
    "\n",
    "Overview\n",
    "\n",
    "**Input/Output:**\n",
    "\n",
    "- Save / Load .tpz format\n",
    "- Save tables to various formats\n",
    "- Import data from various formats\n",
    "\n",
    "**Various column functions:**\n",
    "\n",
    "- Setitem / getitem\n",
    "- iter\n",
    "- equal, not equal\n",
    "- copy\n",
    "- t += t\n",
    "- t *= t\n",
    "- contains\n",
    "- remove all\n",
    "- replace\n",
    "- index\n",
    "- unique\n",
    "- histogram\n",
    "- statistics\n",
    "- count\n",
    "\n",
    "\n",
    "**Various table functions**\n",
    "\n",
    "- **base**\n",
    "  - Setitem / getitem\n",
    "  - iter / rows\n",
    "  - equal, not equal\n",
    "  - load\n",
    "  - save\n",
    "  - copy\n",
    "  - stack\n",
    "  - types\n",
    "  - display_dict\n",
    "  - show\n",
    "  - to_dict\n",
    "  - as_json_serializable\n",
    "  - index\n",
    "- **core**\n",
    "  - expression\n",
    "  - filter\n",
    "  - sort_index\n",
    "  - reindex\n",
    "  - drop_duplicates\n",
    "  - sort\n",
    "  - is_sorted\n",
    "  - any\n",
    "  - all\n",
    "  - drop \n",
    "  - replace\n",
    "  - groupby\n",
    "  - pivot\n",
    "  - joins\n",
    "  - lookup\n",
    "  - replace missing values\n",
    "  - transpose\n",
    "  - pivot_transpose\n",
    "  - diff\n",
    "\n",
    "\n",
    "\n",
    "\n"
   ]
  },
  {
   "cell_type": "code",
   "execution_count": 1,
   "metadata": {},
   "outputs": [],
   "source": [
    "from tablite import Table\n",
    "from tablite.datasets import synthetic_order_data\n",
    "import psutil, os, gc\n",
    "import tempfile\n",
    "from pathlib import Path\n",
    "from time import perf_counter, time\n",
    "from tablite.config import Config"
   ]
  },
  {
   "attachments": {},
   "cell_type": "markdown",
   "metadata": {},
   "source": [
    "### Create tables from synthetic data."
   ]
  },
  {
   "cell_type": "code",
   "execution_count": 2,
   "metadata": {},
   "outputs": [
    {
     "name": "stdout",
     "output_type": "stream",
     "text": [
      "Table 1,000,000 rows is 240 Mb on disk\n",
      "Table 2,000,000 rows is 480 Mb on disk\n",
      "Table 5,000,000 rows is 1,200 Mb on disk\n",
      "Table 10,000,000 rows is 2,400 Mb on disk\n",
      "Table 50,000,000 rows is 12,000 Mb on disk\n",
      "Table 100,000,000 rows is 24,000 Mb on disk\n",
      "+===========+=======+=============+===================+=====+===+=====+====+===+====+===+====================+==================+\n",
      "|     ~     |   #   |      1      |         2         |  3  | 4 |  5  | 6  | 7 | 8  | 9 |         10         |        11        |\n",
      "+-----------+-------+-------------+-------------------+-----+---+-----+----+---+----+---+--------------------+------------------+\n",
      "|          0|      1|1897876237916|2021-11-24T00:00:00|50868|  0| 8387|C4-3|WGA|21° |   |  1.5878192881433402|9.046682540914231 |\n",
      "|          1|      2|2191019820422|2021-09-25T00:00:00|50164|  1|11017|C2-1|NRK|None|ABC|0.010731545998969043|15.3822483763811  |\n",
      "|          2|      3| 466194288952|2021-11-09T00:00:00|50491|  1| 4773|C3-5|FCD|21° |XYZ|  2.0598485514016818|3.383346544302269 |\n",
      "|          3|      4| 462279372300|2021-10-03T00:00:00|50056|  1|15795|C1-4|DGJ|0°  |XYZ|   1.172530164495776|23.897040989106515|\n",
      "|          4|      5| 383393175664|2021-08-30T00:00:00|50611|  1| 4224|C5-2|HMR|0°  |XYZ|   2.479862301516114|16.519491032402463|\n",
      "|          5|      6|2085544917621|2021-10-27T00:00:00|50306|  0|23370|C4-4|RAB|21° |XYZ|  1.1088621109543726|7.83512110879981  |\n",
      "|          6|      7|1483043670659|2021-08-13T00:00:00|50573|  1| 5698|C2-2|AOG|21° |ABC|  1.1504936584444034|15.846360495159445|\n",
      "|...        |...    |...          |...                |...  |...|...  |... |...|... |...|...                 |...               |\n",
      "| 99,999,993| 999994|1432234436812|2021-07-30T00:00:00|50281|  1|15769|C1-4|IYP|None|XYZ|  0.7240483405574372|12.841974345098839|\n",
      "| 99,999,994| 999995|1230764160747|2021-12-22T00:00:00|50278|  1|24869|C3-3|VZX|None|ABC|   1.533255925732429|15.589212656748845|\n",
      "| 99,999,995| 999996|2173200405103|2021-09-26T00:00:00|50349|  1|19504|C4-3|JZR|6°  |   |   1.579767267658179|17.038810091566116|\n",
      "| 99,999,996| 999997| 489769427783|2021-10-15T00:00:00|50938|  0|29511|C2-3|PRO|None|   |  0.6853904253035814|16.201031916814916|\n",
      "| 99,999,997| 999998|1772982232745|2021-10-28T00:00:00|50125|  0| 3502|C2-4|AZQ|6°  |XYZ|   0.865498669446661|22.651015021296963|\n",
      "| 99,999,998| 999999|2045269058460|2021-12-09T00:00:00|50345|  1|17484|C4-4|TGV|None|   |  0.8954223670689897|2.25255705827165  |\n",
      "| 99,999,999|1000000|2087984209427|2021-12-11T00:00:00|50309|  1|20160|C5-2|ZED|None|ABC|   2.123413032376791|14.071089770836334|\n",
      "+===========+=======+=============+===================+=====+===+=====+====+===+====+===+====================+==================+\n"
     ]
    }
   ],
   "source": [
    "process = psutil.Process(os.getpid())\n",
    "\n",
    "# The last tables are too big for RAM (~24Gb), so I create subtables of 1M rows and append them.\n",
    "t = synthetic_order_data(Config.PAGE_SIZE)\n",
    "real, flat = t.nbytes()\n",
    "print(f\"Table {len(t):,} rows is {real/1e6:,.0f} Mb on disk\")\n",
    "\n",
    "tables = [t]  # 1M rows.\n",
    "\n",
    "for i in [2,5,10,50,100]:\n",
    "    t2 = synthetic_order_data(Config.PAGE_SIZE)\n",
    "    for _ in range(i-1):\n",
    "        t2 += synthetic_order_data(Config.PAGE_SIZE)  # these are all unique\n",
    "    real, flat = t2.nbytes()\n",
    "    tables.append(t2)\n",
    "    print(f\"Table {len(t2):,} rows is {real/1e6:,.0f} Mb on disk\")\n",
    "\n",
    "tables[-1].show()\n"
   ]
  },
  {
   "attachments": {},
   "cell_type": "markdown",
   "metadata": {},
   "source": [
    "The values in the tables above are all unique!"
   ]
  },
  {
   "attachments": {},
   "cell_type": "markdown",
   "metadata": {},
   "source": [
    "### Save / Load .tpz format\n",
    "\n",
    "Without compression (fastest)"
   ]
  },
  {
   "cell_type": "code",
   "execution_count": 3,
   "metadata": {},
   "outputs": [
    {
     "name": "stdout",
     "output_type": "stream",
     "text": [
      "saving 1,000,000 rows (240 Mb) took 0.4755823000014061 seconds\n"
     ]
    },
    {
     "name": "stderr",
     "output_type": "stream",
     "text": [
      "importing '1000000.tpz' file: 100%|██████████| 12/12 [00:00<00:00, 21.45it/s]\n"
     ]
    },
    {
     "name": "stdout",
     "output_type": "stream",
     "text": [
      "loading 1,000,000 tows took 0.5728237000002991 seconds\n",
      "saving 2,000,000 rows (480 Mb) took 0.9596193000033963 seconds\n"
     ]
    },
    {
     "name": "stderr",
     "output_type": "stream",
     "text": [
      "importing '2000000.tpz' file: 100%|██████████| 24/24 [00:01<00:00, 20.00it/s]\n"
     ]
    },
    {
     "name": "stdout",
     "output_type": "stream",
     "text": [
      "loading 2,000,000 tows took 1.2175401999993483 seconds\n",
      "saving 5,000,000 rows (1,200 Mb) took 2.417090199996892 seconds\n"
     ]
    },
    {
     "name": "stderr",
     "output_type": "stream",
     "text": [
      "importing '5000000.tpz' file: 100%|██████████| 60/60 [00:03<00:00, 19.67it/s]\n"
     ]
    },
    {
     "name": "stdout",
     "output_type": "stream",
     "text": [
      "loading 5,000,000 tows took 3.0794375999976182 seconds\n",
      "saving 10,000,000 rows (2,400 Mb) took 4.631444800004829 seconds\n"
     ]
    },
    {
     "name": "stderr",
     "output_type": "stream",
     "text": [
      "importing '10000000.tpz' file: 100%|██████████| 120/120 [00:06<00:00, 19.80it/s]\n"
     ]
    },
    {
     "name": "stdout",
     "output_type": "stream",
     "text": [
      "loading 10,000,000 tows took 6.088362100002996 seconds\n",
      "saving 50,000,000 rows (12,000 Mb) took 24.71230110000033 seconds\n"
     ]
    },
    {
     "name": "stderr",
     "output_type": "stream",
     "text": [
      "importing '50000000.tpz' file: 100%|██████████| 600/600 [00:34<00:00, 17.40it/s]\n"
     ]
    },
    {
     "name": "stdout",
     "output_type": "stream",
     "text": [
      "loading 50,000,000 tows took 34.57949820000067 seconds\n",
      "saving 100,000,000 rows (24,000 Mb) took 48.25354669999797 seconds\n"
     ]
    },
    {
     "name": "stderr",
     "output_type": "stream",
     "text": [
      "importing '100000000.tpz' file: 100%|██████████| 1200/1200 [01:18<00:00, 15.24it/s]\n"
     ]
    },
    {
     "name": "stdout",
     "output_type": "stream",
     "text": [
      "loading 100,000,000 tows took 78.92228220000106 seconds\n"
     ]
    }
   ],
   "source": [
    "tmp = Path(tempfile.gettempdir()) / \"junk\"\n",
    "tmp.mkdir(exist_ok=True)\n",
    "\n",
    "results = Table()\n",
    "results.add_columns('rows', 'save (sec)', 'load (sec)')\n",
    "for t in tables:\n",
    "    fn = tmp / f'{len(t)}.tpz'\n",
    "    start = perf_counter()\n",
    "    t.save(fn)\n",
    "    end = perf_counter()\n",
    "    save = round(end-start,3)\n",
    "    assert fn.exists()\n",
    "    print(f\"saving {len(t):,} rows ({fn.stat().st_size/1e6:,.0f} Mb) took {end-start:,} seconds\")\n",
    "    \n",
    "    start = perf_counter()\n",
    "    t2 = Table.load(fn)\n",
    "    end = perf_counter()\n",
    "    load = round(end-start,3)\n",
    "    print(f\"loading {len(t2):,} tows took {end-start:,} seconds\")\n",
    "    del t2\n",
    "    fn.unlink()\n",
    "    results.add_rows(len(t), save, load)"
   ]
  },
  {
   "cell_type": "code",
   "execution_count": 4,
   "metadata": {},
   "outputs": [
    {
     "data": {
      "text/html": [
       "<div><table border=1><tr><th>#</th><th>rows</th><th>save (sec)</th><th>load (sec)</th><th>save r/sec</th><th>load r/sec</th></tr><tr><th> 0</th><th>1000000</th><th>0.476</th><th>0.573</th><th>2100840</th><th>1745200</th></tr><tr><th> 1</th><th>2000000</th><th>0.96</th><th>1.218</th><th>2083333</th><th>1642036</th></tr><tr><th> 2</th><th>5000000</th><th>2.417</th><th>3.079</th><th>2068680</th><th>1623903</th></tr><tr><th> 3</th><th>10000000</th><th>4.631</th><th>6.088</th><th>2159360</th><th>1642575</th></tr><tr><th> 4</th><th>50000000</th><th>24.712</th><th>34.579</th><th>2023308</th><th>1445964</th></tr><tr><th> 5</th><th>100000000</th><th>48.254</th><th>78.922</th><th>2072367</th><th>1267073</th></tr></table></div>"
      ],
      "text/plain": [
       "Table(5 columns, 6 rows)"
      ]
     },
     "execution_count": 4,
     "metadata": {},
     "output_type": "execute_result"
    }
   ],
   "source": [
    "results['save r/sec'] = [int(a/b) if b!=0  else \"nil\" for a,b in zip(results['rows'], results['save (sec)']) ]\n",
    "results['load r/sec'] = [int(a/b) if b!=0  else \"nil\" for a,b in zip(results['rows'], results['load (sec)'])]\n",
    "results"
   ]
  },
  {
   "attachments": {},
   "cell_type": "markdown",
   "metadata": {},
   "source": [
    "With various compression options"
   ]
  },
  {
   "cell_type": "code",
   "execution_count": 5,
   "metadata": {},
   "outputs": [
    {
     "name": "stdout",
     "output_type": "stream",
     "text": [
      "saving 1,000,000 rows (240 Mb) took 0.487 secconds with zip stored(level=None)\n"
     ]
    },
    {
     "name": "stderr",
     "output_type": "stream",
     "text": [
      "importing '1000000.tpz' file: 100%|██████████| 12/12 [00:00<00:00, 21.07it/s]\n"
     ]
    },
    {
     "name": "stdout",
     "output_type": "stream",
     "text": [
      "loading 1,000,000 rows took 0.5881239999944228 seconds\n",
      "saving 1,000,000 rows (29 Mb) took 100.386 secconds with zip lzma(level=None)\n"
     ]
    },
    {
     "name": "stderr",
     "output_type": "stream",
     "text": [
      "importing '1000000.tpz' file: 100%|██████████| 12/12 [00:02<00:00,  5.52it/s]\n"
     ]
    },
    {
     "name": "stdout",
     "output_type": "stream",
     "text": [
      "loading 1,000,000 rows took 2.2067826999991667 seconds\n",
      "saving 1,000,000 rows (240 Mb) took 0.485 secconds with zip deflated(level=0)\n"
     ]
    },
    {
     "name": "stderr",
     "output_type": "stream",
     "text": [
      "importing '1000000.tpz' file: 100%|██████████| 12/12 [00:00<00:00, 17.77it/s]\n"
     ]
    },
    {
     "name": "stdout",
     "output_type": "stream",
     "text": [
      "loading 1,000,000 rows took 0.6990915999995195 seconds\n",
      "saving 1,000,000 rows (48 Mb) took 2.072 secconds with zip deflated(level=1)\n"
     ]
    },
    {
     "name": "stderr",
     "output_type": "stream",
     "text": [
      "importing '1000000.tpz' file: 100%|██████████| 12/12 [00:00<00:00, 12.34it/s]\n"
     ]
    },
    {
     "name": "stdout",
     "output_type": "stream",
     "text": [
      "loading 1,000,000 rows took 1.0050537999995868 seconds\n",
      "saving 1,000,000 rows (46 Mb) took 2.209 secconds with zip deflated(level=2)\n"
     ]
    },
    {
     "name": "stderr",
     "output_type": "stream",
     "text": [
      "importing '1000000.tpz' file: 100%|██████████| 12/12 [00:00<00:00, 12.21it/s]\n"
     ]
    },
    {
     "name": "stdout",
     "output_type": "stream",
     "text": [
      "loading 1,000,000 rows took 0.9996115999965696 seconds\n",
      "saving 1,000,000 rows (43 Mb) took 3.056 secconds with zip deflated(level=3)\n"
     ]
    },
    {
     "name": "stderr",
     "output_type": "stream",
     "text": [
      "importing '1000000.tpz' file: 100%|██████████| 12/12 [00:00<00:00, 12.47it/s]\n"
     ]
    },
    {
     "name": "stdout",
     "output_type": "stream",
     "text": [
      "loading 1,000,000 rows took 0.9797398999944562 seconds\n",
      "saving 1,000,000 rows (43 Mb) took 3.047 secconds with zip deflated(level=4)\n"
     ]
    },
    {
     "name": "stderr",
     "output_type": "stream",
     "text": [
      "importing '1000000.tpz' file: 100%|██████████| 12/12 [00:00<00:00, 13.09it/s]\n"
     ]
    },
    {
     "name": "stdout",
     "output_type": "stream",
     "text": [
      "loading 1,000,000 rows took 0.9479739000016707 seconds\n",
      "saving 1,000,000 rows (42 Mb) took 4.622 secconds with zip deflated(level=5)\n"
     ]
    },
    {
     "name": "stderr",
     "output_type": "stream",
     "text": [
      "importing '1000000.tpz' file: 100%|██████████| 12/12 [00:00<00:00, 13.12it/s]\n"
     ]
    },
    {
     "name": "stdout",
     "output_type": "stream",
     "text": [
      "loading 1,000,000 rows took 0.9351310000056401 seconds\n",
      "saving 1,000,000 rows (39 Mb) took 8.494 secconds with zip deflated(level=6)\n"
     ]
    },
    {
     "name": "stderr",
     "output_type": "stream",
     "text": [
      "importing '1000000.tpz' file: 100%|██████████| 12/12 [00:00<00:00, 14.97it/s]\n"
     ]
    },
    {
     "name": "stdout",
     "output_type": "stream",
     "text": [
      "loading 1,000,000 rows took 0.8191517000013846 seconds\n",
      "saving 1,000,000 rows (39 Mb) took 13.968 secconds with zip deflated(level=7)\n"
     ]
    },
    {
     "name": "stderr",
     "output_type": "stream",
     "text": [
      "importing '1000000.tpz' file: 100%|██████████| 12/12 [00:00<00:00, 12.85it/s]\n"
     ]
    },
    {
     "name": "stdout",
     "output_type": "stream",
     "text": [
      "loading 1,000,000 rows took 0.957268699996348 seconds\n",
      "saving 1,000,000 rows (38 Mb) took 55.835 secconds with zip deflated(level=8)\n"
     ]
    },
    {
     "name": "stderr",
     "output_type": "stream",
     "text": [
      "importing '1000000.tpz' file: 100%|██████████| 12/12 [00:00<00:00, 14.15it/s]\n"
     ]
    },
    {
     "name": "stdout",
     "output_type": "stream",
     "text": [
      "loading 1,000,000 rows took 0.8678541999979643 seconds\n",
      "saving 1,000,000 rows (37 Mb) took 115.164 secconds with zip deflated(level=9)\n"
     ]
    },
    {
     "name": "stderr",
     "output_type": "stream",
     "text": [
      "importing '1000000.tpz' file: 100%|██████████| 12/12 [00:00<00:00, 13.79it/s]\n"
     ]
    },
    {
     "name": "stdout",
     "output_type": "stream",
     "text": [
      "loading 1,000,000 rows took 0.8996915000025183 seconds\n",
      "saving 1,000,000 rows (29 Mb) took 14.368 secconds with zip bzip2(level=1)\n"
     ]
    },
    {
     "name": "stderr",
     "output_type": "stream",
     "text": [
      "importing '1000000.tpz' file: 100%|██████████| 12/12 [00:03<00:00,  3.13it/s]\n"
     ]
    },
    {
     "name": "stdout",
     "output_type": "stream",
     "text": [
      "loading 1,000,000 rows took 3.8538355999990017 seconds\n",
      "saving 1,000,000 rows (29 Mb) took 15.24 secconds with zip bzip2(level=2)\n"
     ]
    },
    {
     "name": "stderr",
     "output_type": "stream",
     "text": [
      "importing '1000000.tpz' file: 100%|██████████| 12/12 [00:04<00:00,  2.99it/s]\n"
     ]
    },
    {
     "name": "stdout",
     "output_type": "stream",
     "text": [
      "loading 1,000,000 rows took 4.038587100003497 seconds\n",
      "saving 1,000,000 rows (29 Mb) took 16.722 secconds with zip bzip2(level=3)\n"
     ]
    },
    {
     "name": "stderr",
     "output_type": "stream",
     "text": [
      "importing '1000000.tpz' file: 100%|██████████| 12/12 [00:04<00:00,  2.75it/s]\n"
     ]
    },
    {
     "name": "stdout",
     "output_type": "stream",
     "text": [
      "loading 1,000,000 rows took 4.371564500004752 seconds\n",
      "saving 1,000,000 rows (29 Mb) took 17.355 secconds with zip bzip2(level=4)\n"
     ]
    },
    {
     "name": "stderr",
     "output_type": "stream",
     "text": [
      "importing '1000000.tpz' file: 100%|██████████| 12/12 [00:04<00:00,  2.57it/s]\n"
     ]
    },
    {
     "name": "stdout",
     "output_type": "stream",
     "text": [
      "loading 1,000,000 rows took 4.6704499999978 seconds\n",
      "saving 1,000,000 rows (29 Mb) took 17.892 secconds with zip bzip2(level=5)\n"
     ]
    },
    {
     "name": "stderr",
     "output_type": "stream",
     "text": [
      "importing '1000000.tpz' file: 100%|██████████| 12/12 [00:05<00:00,  2.31it/s]\n"
     ]
    },
    {
     "name": "stdout",
     "output_type": "stream",
     "text": [
      "loading 1,000,000 rows took 5.212135200003104 seconds\n",
      "saving 1,000,000 rows (29 Mb) took 18.313 secconds with zip bzip2(level=6)\n"
     ]
    },
    {
     "name": "stderr",
     "output_type": "stream",
     "text": [
      "importing '1000000.tpz' file: 100%|██████████| 12/12 [00:05<00:00,  2.29it/s]\n"
     ]
    },
    {
     "name": "stdout",
     "output_type": "stream",
     "text": [
      "loading 1,000,000 rows took 5.262236700000358 seconds\n",
      "saving 1,000,000 rows (29 Mb) took 19.496 secconds with zip bzip2(level=7)\n"
     ]
    },
    {
     "name": "stderr",
     "output_type": "stream",
     "text": [
      "importing '1000000.tpz' file: 100%|██████████| 12/12 [00:05<00:00,  2.21it/s]\n"
     ]
    },
    {
     "name": "stdout",
     "output_type": "stream",
     "text": [
      "loading 1,000,000 rows took 5.467584300000453 seconds\n",
      "saving 1,000,000 rows (29 Mb) took 20.858 secconds with zip bzip2(level=8)\n"
     ]
    },
    {
     "name": "stderr",
     "output_type": "stream",
     "text": [
      "importing '1000000.tpz' file: 100%|██████████| 12/12 [00:05<00:00,  2.31it/s]\n"
     ]
    },
    {
     "name": "stdout",
     "output_type": "stream",
     "text": [
      "loading 1,000,000 rows took 5.222707900000387 seconds\n",
      "saving 1,000,000 rows (29 Mb) took 20.54 secconds with zip bzip2(level=9)\n"
     ]
    },
    {
     "name": "stderr",
     "output_type": "stream",
     "text": [
      "importing '1000000.tpz' file: 100%|██████████| 12/12 [00:05<00:00,  2.09it/s]"
     ]
    },
    {
     "name": "stdout",
     "output_type": "stream",
     "text": [
      "loading 1,000,000 rows took 5.758435000003374 seconds\n"
     ]
    },
    {
     "name": "stderr",
     "output_type": "stream",
     "text": [
      "\n"
     ]
    }
   ],
   "source": [
    "tmp = Path(tempfile.gettempdir()) / \"junk\"\n",
    "tmp.mkdir(exist_ok=True)\n",
    "\n",
    "t = tables[0]  # 1 m rows\n",
    "\n",
    "import zipfile  # https://docs.python.org/3/library/zipfile.html#zipfile.ZipFile\n",
    "methods = [(None, zipfile.ZIP_STORED, \"zip stored\"), (None, zipfile.ZIP_LZMA, \"zip lzma\")]\n",
    "methods += [(i, zipfile.ZIP_DEFLATED, \"zip deflated\") for i in range(0,10)]\n",
    "methods += [(i, zipfile.ZIP_BZIP2, \"zip bzip2\") for i in range(1,10)]\n",
    "\n",
    "results = Table()\n",
    "results.add_columns('file size (Mb)', 'method', 'write (sec)', 'read (sec)')\n",
    "for level, method, name in methods:\n",
    "    fn = tmp / f'{len(t)}.tpz'\n",
    "    start = perf_counter()  \n",
    "    t.save(fn, compression_method=method, compression_level=level)\n",
    "    end = perf_counter()\n",
    "    write = round(end-start,3)\n",
    "    assert fn.exists()\n",
    "    size = int(fn.stat().st_size/1e6)\n",
    "    print(f\"saving {len(t):,} rows ({size} Mb) took {write} secconds with {name}(level={level})\")\n",
    "    \n",
    "    start = perf_counter()\n",
    "    t2 = Table.load(fn)\n",
    "    end = perf_counter()\n",
    "    read = round(end-start,3)\n",
    "    print(f\"loading {len(t2):,} rows took {end-start:,} seconds\")\n",
    "    \n",
    "    del t2\n",
    "    fn.unlink()\n",
    "    results.add_rows(size, f\"{name}(level={level})\", write, read)"
   ]
  },
  {
   "cell_type": "code",
   "execution_count": 6,
   "metadata": {},
   "outputs": [
    {
     "name": "stderr",
     "output_type": "stream",
     "text": [
      "creating sort index: 100%|██████████| 1/1 [00:00<?, ?it/s]\n"
     ]
    },
    {
     "data": {
      "text/html": [
       "<div><table border=1><tr><th>#</th><th>file size (Mb)</th><th>method</th><th>write (sec)</th><th>read (sec)</th></tr><tr><th> 0</th><th>37</th><th>zip deflated(level=9)</th><th>115.164</th><th>0.9</th></tr><tr><th> 1</th><th>29</th><th>zip lzma(level=None)</th><th>100.386</th><th>2.207</th></tr><tr><th> 2</th><th>38</th><th>zip deflated(level=8)</th><th>55.835</th><th>0.868</th></tr><tr><th> 3</th><th>29</th><th>zip bzip2(level=8)</th><th>20.858</th><th>5.223</th></tr><tr><th> 4</th><th>29</th><th>zip bzip2(level=9)</th><th>20.54</th><th>5.758</th></tr><tr><th> 5</th><th>29</th><th>zip bzip2(level=7)</th><th>19.496</th><th>5.468</th></tr><tr><th> 6</th><th>29</th><th>zip bzip2(level=6)</th><th>18.313</th><th>5.262</th></tr><tr><th>...</th><th>...</th><th>...</th><th>...</th><th>...</th></tr><tr><th>14</th><th>42</th><th>zip deflated(level=5)</th><th>4.622</th><th>0.935</th></tr><tr><th>15</th><th>43</th><th>zip deflated(level=3)</th><th>3.056</th><th>0.98</th></tr><tr><th>16</th><th>43</th><th>zip deflated(level=4)</th><th>3.047</th><th>0.948</th></tr><tr><th>17</th><th>46</th><th>zip deflated(level=2)</th><th>2.209</th><th>1.0</th></tr><tr><th>18</th><th>48</th><th>zip deflated(level=1)</th><th>2.072</th><th>1.005</th></tr><tr><th>19</th><th>240</th><th>zip stored(level=None)</th><th>0.487</th><th>0.588</th></tr><tr><th>20</th><th>240</th><th>zip deflated(level=0)</th><th>0.485</th><th>0.699</th></tr></table></div>"
      ],
      "text/plain": [
       "Table(4 columns, 21 rows)"
      ]
     },
     "execution_count": 6,
     "metadata": {},
     "output_type": "execute_result"
    }
   ],
   "source": [
    "results.sort({'write (sec)':True})\n",
    "load_and_save_results = results.copy()\n",
    "load_and_save_results"
   ]
  },
  {
   "attachments": {},
   "cell_type": "markdown",
   "metadata": {},
   "source": [
    "### Save / load tables to / from various formats\n",
    "\n",
    "The handlers for saving / export are:\n",
    "\n",
    "- to_sql\n",
    "- to_json\n",
    "- to_xls\n",
    "- to_ods\n",
    "- to_csv\n",
    "- to_tsv\n",
    "- to_text\n",
    "- to_html\n",
    "- to_hdf5\n"
   ]
  },
  {
   "cell_type": "code",
   "execution_count": 7,
   "metadata": {},
   "outputs": [],
   "source": [
    "n_rows = 10_000_000\n",
    "L = [t for t in tables if len(t)>=n_rows]\n",
    "t = L[0]\n",
    "\n",
    "tmp = Path(tempfile.gettempdir()) / \"junk\"\n",
    "tmp.mkdir(exist_ok=True)"
   ]
  },
  {
   "cell_type": "code",
   "execution_count": 8,
   "metadata": {},
   "outputs": [],
   "source": [
    "tmp = Path(tempfile.gettempdir()) / \"junk\"\n",
    "tmp.mkdir(exist_ok=True)\n",
    "\n",
    "results = Table()\n",
    "results.add_columns('method', 'write (s)', 'read (s)', 'rows', 'size (Mb)', 'config')"
   ]
  },
  {
   "cell_type": "code",
   "execution_count": 9,
   "metadata": {},
   "outputs": [],
   "source": [
    "def to_sql_benchmark(t, rows=1_000_000):\n",
    "    t2 = t[:rows]\n",
    "    write_start = time()\n",
    "    _ = t2.to_sql(name='1')\n",
    "    write_end = time()\n",
    "    write = round(write_end-write_start,3)\n",
    "    results.add_rows( t.to_sql.__name__, write, 0, len(t), \"\" , \"\" ) \n",
    "\n",
    "to_sql_benchmark(t)"
   ]
  },
  {
   "cell_type": "code",
   "execution_count": 10,
   "metadata": {},
   "outputs": [],
   "source": [
    "def to_json_benchmark(t, rows=1_000_000):\n",
    "    t2 = t[:rows]\n",
    "    path = tmp / \"1.json\"    \n",
    "    write_start = time()\n",
    "    bytestr = t2.to_json()\n",
    "    with path.open('w') as fo:\n",
    "        fo.write(bytestr)\n",
    "    write_end = time()\n",
    "    write = round(write_end-write_start,3)\n",
    "\n",
    "    read_start = time()\n",
    "    with path.open('r') as fi:\n",
    "        _ = Table.from_json(fi.read())  # <-- JSON\n",
    "    read_end = time()\n",
    "    read = round(read_end-read_start,3)\n",
    "\n",
    "    results.add_rows( t.to_json.__name__, write, read, len(t), int(path.stat().st_size/1e6), \"\" ) \n",
    "\n",
    "to_json_benchmark(t)"
   ]
  },
  {
   "cell_type": "code",
   "execution_count": null,
   "metadata": {},
   "outputs": [],
   "source": [
    "def f(results, t, args):\n",
    "    rows, c1, c1_kw, c2, c2_kw = args\n",
    "    t2 = t[:rows]\n",
    "\n",
    "    call = getattr(t2, c1)\n",
    "    assert callable(call)\n",
    "\n",
    "    write_start = time()\n",
    "    call(**c1_kw)\n",
    "    write_end = time()\n",
    "    write = round(write_end-write_start,3)\n",
    "\n",
    "    for _ in range(10):\n",
    "        gc.collect()\n",
    "\n",
    "    read_start = time()\n",
    "    if callable(c2):\n",
    "        c2(**c2_kw)\n",
    "    read_end = time()\n",
    "    read = round(read_end-read_start,3)\n",
    "\n",
    "    fn = c2_kw['path']\n",
    "    assert fn.exists()\n",
    "    fs = int(fn.stat().st_size/1e6)\n",
    "    config = {k:v for k,v in c2_kw.items() if k!= 'path'}\n",
    "\n",
    "    results.add_rows( c1, write, read, len(t2), fs , str(config))\n",
    "\n",
    "args = [\n",
    "    (   100_000, \"to_xlsx\", {'path': tmp/'1.xlsx'}, Table.from_file, {\"path\":tmp/'1.xlsx', \"sheet\":\"pyexcel_sheet1\"}),\n",
    "    (   100_000,  \"to_ods\",  {'path': tmp/'1.ods'}, Table.from_file, {\"path\":tmp/'1.ods', \"sheet\":\"pyexcel_sheet1\"} ),\n",
    "    ( 1_000_000,  \"to_csv\",  {'path': tmp/'1.csv'}, Table.from_file, {\"path\":tmp/'1.csv'}                           ),\n",
    "    ( 1_000_000,  \"to_csv\",  {'path': tmp/'1.csv'}, Table.from_file, {\"path\":tmp/'1.csv', \"guess_datatypes\":False}),\n",
    "    (10_000_000,  \"to_csv\",  {'path': tmp/'1.csv'}, Table.from_file, {\"path\":tmp/'1.csv', \"guess_datatypes\":False}),\n",
    "    ( 1_000_000,  \"to_tsv\",  {'path': tmp/'1.tsv'}, Table.from_file, {\"path\":tmp/'1.tsv'}                           ),\n",
    "    ( 1_000_000, \"to_text\",  {'path': tmp/'1.txt'}, Table.from_file, {\"path\":tmp/'1.txt'}                           ),\n",
    "    ( 1_000_000, \"to_html\", {'path': tmp/'1.html'}, Table.from_file, {\"path\":tmp/'1.html'}                          ),\n",
    "    ( 1_000_000, \"to_hdf5\", {'path': tmp/'1.hdf5'}, Table.from_file, {\"path\":tmp/'1.hdf5'}                          )\n",
    "]\n",
    "\n",
    "Config.PROCESSING_MODE = Config.FALSE\n",
    "for arg in args:\n",
    "    assert len(t)>=arg[0]\n",
    "    print(arg[1], arg[0])\n",
    "    f(results, t, arg)\n",
    "\n",
    "import shutil\n",
    "shutil.rmtree(tmp)"
   ]
  },
  {
   "cell_type": "code",
   "execution_count": 12,
   "metadata": {},
   "outputs": [],
   "source": [
    "results['read r/sec'] = [int(a/b) if b!=0  else \"nil\" for a,b in zip(results['rows'], results['read (s)']) ]\n",
    "results['write r/sec'] = [int(a/b) if b!=0  else \"nil\" for a,b in zip(results['rows'], results['write (s)'])]"
   ]
  },
  {
   "cell_type": "code",
   "execution_count": 13,
   "metadata": {},
   "outputs": [
    {
     "data": {
      "text/html": [
       "<div><table border=1><tr><th>~</th><th>#</th><th>1</th><th>2</th><th>3</th><th>4</th><th>5</th><th>6</th><th>7</th><th>8</th><th>9</th><th>10</th><th>11</th></tr><tr><th>         0</th><th>1</th><th>542679287742</th><th>2021-12-23T00:00:00</th><th>50095</th><th>1</th><th>17266</th><th>C1-1</th><th>XYM</th><th>0°</th><th>ABC</th><th>1.8986304837702648</th><th>15.097150545026425</th></tr><tr><th>         1</th><th>2</th><th>2191550797369</th><th>2021-09-10T00:00:00</th><th>50436</th><th>1</th><th>5417</th><th>C5-2</th><th>FHD</th><th>None</th><th></th><th>1.043372674764467</th><th>24.25713722018791</th></tr><tr><th>         2</th><th>3</th><th>351721316579</th><th>2021-10-18T00:00:00</th><th>50751</th><th>0</th><th>9423</th><th>C2-2</th><th>TSK</th><th>6°</th><th></th><th>1.7526701991849603</th><th>7.297518443741395</th></tr><tr><th>         3</th><th>4</th><th>1831394352386</th><th>2021-11-14T00:00:00</th><th>50754</th><th>0</th><th>16770</th><th>C1-2</th><th>DQF</th><th>None</th><th>XYZ</th><th>1.9261726704599242</th><th>18.82744378973711</th></tr><tr><th>         4</th><th>5</th><th>472316342615</th><th>2021-10-21T00:00:00</th><th>50292</th><th>1</th><th>10201</th><th>C1-4</th><th>RYO</th><th>6°</th><th>ABC</th><th>2.028002535079511</th><th>22.61428795844147</th></tr><tr><th>         5</th><th>6</th><th>1553288002456</th><th>2021-09-14T00:00:00</th><th>50114</th><th>0</th><th>29954</th><th>C5-2</th><th>NOK</th><th>6°</th><th>XYZ</th><th>0.8669425726157858</th><th>24.875695709430403</th></tr><tr><th>         6</th><th>7</th><th>636893104834</th><th>2021-11-25T00:00:00</th><th>50101</th><th>1</th><th>27681</th><th>C1-4</th><th>RQK</th><th>21°</th><th>ABC</th><th>2.0567125627667115</th><th>7.112373810350086</th></tr><tr><th>...</th><th>...</th><th>...</th><th>...</th><th>...</th><th>...</th><th>...</th><th>...</th><th>...</th><th>...</th><th>...</th><th>...</th><th>...</th></tr><tr><th> 9,999,993</th><th>999994</th><th>2197750112850</th><th>2021-09-19T00:00:00</th><th>50397</th><th>1</th><th>10238</th><th>C4-4</th><th>EWQ</th><th>6°</th><th></th><th>1.612314295262871</th><th>15.466396322377262</th></tr><tr><th> 9,999,994</th><th>999995</th><th>1584493442566</th><th>2021-12-18T00:00:00</th><th>50869</th><th>0</th><th>23183</th><th>C2-3</th><th>OHN</th><th>None</th><th>ABC</th><th>1.013647495864597</th><th>19.50264374400631</th></tr><tr><th> 9,999,995</th><th>999996</th><th>168390943274</th><th>2021-10-24T00:00:00</th><th>50494</th><th>1</th><th>8329</th><th>C1-4</th><th>CNH</th><th>0°</th><th>ABC</th><th>1.8819334352246124</th><th>16.572654053504113</th></tr><tr><th> 9,999,996</th><th>999997</th><th>1378848691555</th><th>2021-07-30T00:00:00</th><th>50875</th><th>1</th><th>26599</th><th>C5-4</th><th>EGG</th><th>None</th><th>XYZ</th><th>1.5002822943739924</th><th>22.460765429830104</th></tr><tr><th> 9,999,997</th><th>999998</th><th>601550942641</th><th>2021-12-16T00:00:00</th><th>50536</th><th>1</th><th>13275</th><th>C1-4</th><th>RPT</th><th>None</th><th>XYZ</th><th>1.3817648802362876</th><th>14.110618856992053</th></tr><tr><th> 9,999,998</th><th>999999</th><th>1301329537489</th><th>2021-10-21T00:00:00</th><th>50095</th><th>0</th><th>6801</th><th>C5-3</th><th>VTQ</th><th>21°</th><th>ABC</th><th>1.7346629195862737</th><th>8.271902185269754</th></tr><tr><th> 9,999,999</th><th>1000000</th><th>69118260322</th><th>2021-10-02T00:00:00</th><th>50051</th><th>1</th><th>8809</th><th>C1-2</th><th>PLW</th><th>21°</th><th></th><th>1.1628641644551068</th><th>16.81932955829112</th></tr></table></div>"
      ],
      "text/plain": [
       "Table(12 columns, 10,000,000 rows)"
      ]
     },
     "execution_count": 13,
     "metadata": {},
     "output_type": "execute_result"
    }
   ],
   "source": [
    "t"
   ]
  },
  {
   "cell_type": "code",
   "execution_count": 14,
   "metadata": {},
   "outputs": [
    {
     "data": {
      "text/html": [
       "<div><table border=1><tr><th>#</th><th>method</th><th>write (s)</th><th>read (s)</th><th>rows</th><th>size (Mb)</th><th>config</th><th>read r/sec</th><th>write r/sec</th></tr><tr><th> 0</th><th>to_sql</th><th>13.467</th><th>0</th><th>10000000</th><th></th><th></th><th>nil</th><th>742555</th></tr><tr><th> 1</th><th>to_json</th><th>13.384</th><th>4.252</th><th>10000000</th><th>142</th><th></th><th>2351834</th><th>747160</th></tr><tr><th> 2</th><th>to_xlsx</th><th>12.555</th><th>24.601</th><th>100000</th><th>9</th><th>{'sheet': 'pyexcel_sheet1'}</th><th>4064</th><th>7964</th></tr><tr><th> 3</th><th>to_ods</th><th>73.045</th><th>68.588</th><th>100000</th><th>7</th><th>{'sheet': 'pyexcel_sheet1'}</th><th>1457</th><th>1369</th></tr><tr><th> 4</th><th>to_csv</th><th>19.061</th><th>20.04</th><th>1000000</th><th>109</th><th>{}</th><th>49900</th><th>52463</th></tr><tr><th> 5</th><th>to_csv</th><th>19.46</th><th>10.722</th><th>1000000</th><th>109</th><th>{'guess_datatypes': False}</th><th>93266</th><th>51387</th></tr><tr><th> 6</th><th>to_csv</th><th>185.77</th><th>126.405</th><th>10000000</th><th>1090</th><th>{'guess_datatypes': False}</th><th>79110</th><th>53830</th></tr><tr><th> 7</th><th>to_tsv</th><th>13.882</th><th>15.947</th><th>1000000</th><th>109</th><th>{}</th><th>62707</th><th>72035</th></tr><tr><th> 8</th><th>to_text</th><th>14.052</th><th>16.023</th><th>1000000</th><th>109</th><th>{}</th><th>62410</th><th>71164</th></tr><tr><th> 9</th><th>to_html</th><th>11.957</th><th>71.13</th><th>1000000</th><th>228</th><th>{}</th><th>14058</th><th>83633</th></tr><tr><th>10</th><th>to_hdf5</th><th>5.267</th><th>11.85</th><th>1000000</th><th>300</th><th>{}</th><th>84388</th><th>189861</th></tr></table></div>"
      ],
      "text/plain": [
       "Table(8 columns, 11 rows)"
      ]
     },
     "execution_count": 14,
     "metadata": {},
     "output_type": "execute_result"
    }
   ],
   "source": [
    "data_format_results = results.copy()\n",
    "data_format_results"
   ]
  }
 ],
 "metadata": {
  "kernelspec": {
   "display_name": "tablite310",
   "language": "python",
   "name": "python3"
  },
  "language_info": {
   "codemirror_mode": {
    "name": "ipython",
    "version": 3
   },
   "file_extension": ".py",
   "mimetype": "text/x-python",
   "name": "python",
   "nbconvert_exporter": "python",
   "pygments_lexer": "ipython3",
   "version": "3.10.11"
  },
  "orig_nbformat": 4
 },
 "nbformat": 4,
 "nbformat_minor": 2
}
