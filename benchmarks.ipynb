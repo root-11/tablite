{
 "cells": [
  {
   "attachments": {},
   "cell_type": "markdown",
   "metadata": {},
   "source": [
    "# Benchmarks\n",
    "\n",
    "These benchmarks seek to establish the performance of tablite as a user sees it.\n",
    "\n",
    "Overview\n",
    "\n",
    "**Input/Output:**\n",
    "\n",
    "- Save / Load .tpz format\n",
    "- Save tables to various formats\n",
    "- Import data from various formats\n",
    "\n",
    "**Various column functions:**\n",
    "\n",
    "- Setitem / getitem\n",
    "- iter\n",
    "- equal, not equal\n",
    "- copy\n",
    "- t += t\n",
    "- t *= t\n",
    "- contains\n",
    "- remove all\n",
    "- replace\n",
    "- index\n",
    "- unique\n",
    "- histogram\n",
    "- statistics\n",
    "- count\n",
    "\n",
    "\n",
    "**Various table functions**\n",
    "\n",
    "- **base**\n",
    "- Setitem / getitem\n",
    "- iter / rows\n",
    "- equal, not equal\n",
    "- load\n",
    "- save\n",
    "- copy\n",
    "- stack\n",
    "- types\n",
    "- display_dict\n",
    "- show\n",
    "- to_dict\n",
    "- as_json_serializable\n",
    "- index\n",
    "- **core**\n",
    "- expression\n",
    "- filter\n",
    "- sort_index\n",
    "- reindex\n",
    "- drop_duplicates\n",
    "- sort\n",
    "- is_sorted\n",
    "- any\n",
    "- all\n",
    "- drop \n",
    "- replace\n",
    "- groupby\n",
    "- pivot\n",
    "- joins\n",
    "- lookup\n",
    "- replace missing values\n",
    "- transpose\n",
    "- pivot_transpose\n",
    "- diff\n",
    "\n",
    "\n",
    "\n",
    "\n"
   ]
  },
  {
   "cell_type": "code",
   "execution_count": 2,
   "metadata": {},
   "outputs": [],
   "source": [
    "from tablite import Table\n",
    "from tablite.datasets import synthetic_order_data\n",
    "import psutil, os, gc\n",
    "import tempfile\n",
    "from pathlib import Path\n",
    "from time import process_time\n",
    "from tablite.config import Config"
   ]
  },
  {
   "attachments": {},
   "cell_type": "markdown",
   "metadata": {},
   "source": [
    "### Create tables from synthetic data."
   ]
  },
  {
   "cell_type": "code",
   "execution_count": null,
   "metadata": {},
   "outputs": [],
   "source": [
    "process = psutil.Process(os.getpid())\n",
    "\n",
    "# The last tables are too big for RAM (~24Gb), so I create subtables of 1M rows and append them.\n",
    "ram_start = process.memory_info().rss\n",
    "t = synthetic_order_data(Config.PAGE_SIZE)\n",
    "ram_end = process.memory_info().rss\n",
    "real, flat = t.nbytes()\n",
    "print(f\"Table {len(t):,} rows is {real/1e6:,.0f} Mb on disk, using {(ram_end - ram_start)/1e6:,.0f} Mb ram\")\n",
    "\n",
    "tables = [t]  # 1M rows.\n",
    "\n",
    "for i in [2,5,10,50,100]:\n",
    "    for i in range(10):\n",
    "        gc.collect()\n",
    "\n",
    "    ram_start = process.memory_info().rss\n",
    "    t2 = synthetic_order_data(Config.PAGE_SIZE)\n",
    "\n",
    "    for i in range(i-1):\n",
    "        t2 += synthetic_order_data(Config.PAGE_SIZE)  # these are all unique\n",
    "\n",
    "    ram_end = process.memory_info().rss\n",
    "    real, flat = t2.nbytes()\n",
    "    tables.append(t2)\n",
    "    print(f\"Table {len(t2):,} rows is {real/1e6:,.0f} Mb on disk, using {(ram_end - ram_start)/1e6:,.0f} Mb ram\")\n",
    "\n",
    "tables[-1].show()\n"
   ]
  },
  {
   "cell_type": "code",
   "execution_count": null,
   "metadata": {},
   "outputs": [],
   "source": [
    "tx = tables[-1]"
   ]
  },
  {
   "attachments": {},
   "cell_type": "markdown",
   "metadata": {},
   "source": [
    "### Save / Load .tpz format"
   ]
  },
  {
   "cell_type": "code",
   "execution_count": null,
   "metadata": {},
   "outputs": [],
   "source": [
    "tmp = Path(tempfile.gettempdir()) / \"junk\"\n",
    "tmp.mkdir(exist_ok=True)\n",
    "\n",
    "for t in tables:\n",
    "    fn = tmp / f'{len(t)}.tpz'\n",
    "    start = process_time()\n",
    "    t.save(fn)\n",
    "    end = process_time()\n",
    "    assert fn.exists()\n",
    "    print(f\"saving {len(t):,} rows ({fn.stat().st_size/1e6:,.0f} Mb) took {end-start:,} secconds\")\n",
    "    \n",
    "    start = process_time()\n",
    "    t2 = Table.load(fn)\n",
    "    end = process_time()\n",
    "    print(f\"loading {len(t2):,} tows took {end-start:,} seconds\")\n",
    "    del t2\n",
    "    fn.unlink()\n"
   ]
  },
  {
   "attachments": {},
   "cell_type": "markdown",
   "metadata": {},
   "source": [
    "### Save / load tables to / from various formats\n",
    "\n",
    "The handlers for saving / export are:\n",
    "\n",
    "- to_sql\n",
    "- to_json\n",
    "- to_xls\n",
    "- to_ods\n",
    "- to_csv\n",
    "- to_tsv\n",
    "- to_text\n",
    "- to_html\n",
    "- to_hdf5\n"
   ]
  },
  {
   "cell_type": "code",
   "execution_count": 4,
   "metadata": {},
   "outputs": [],
   "source": [
    "t = synthetic_order_data(1_000_000)\n",
    "tmp = Path(tempfile.gettempdir()) / \"junk\"\n",
    "tmp.mkdir(exist_ok=True)\n"
   ]
  },
  {
   "cell_type": "code",
   "execution_count": null,
   "metadata": {},
   "outputs": [],
   "source": [
    "start = process_time()\n",
    "string = t.to_sql(name='t')  # --> SQL\n",
    "end = process_time()\n",
    "print(f\"to_sql() took {end-start:,.2f} secs for {len(t):,} rows\")\n",
    "\n",
    "# start = process_time() TODO\n",
    "# Table.from_sql(string)  # <-- SQL\n",
    "# end = process_time()\n",
    "# print(f\"from_sql() took {end-start:,.2f} secs for {len(t):,} rows\")\n",
    "del string"
   ]
  },
  {
   "cell_type": "code",
   "execution_count": null,
   "metadata": {},
   "outputs": [],
   "source": [
    "\n",
    "\n",
    "start = process_time()\n",
    "bytestr = t.to_json()  # --> JSON\n",
    "end = process_time()\n",
    "print(f\"to_json() took {end-start:,.2f} secs for {len(t):,} rows\")\n",
    "\n",
    "start = process_time()\n",
    "Table.from_json(bytestr)  # <-- JSON\n",
    "end = process_time()\n",
    "print(f\"from_json() took {end-start:,.2f} secs for {len(t):,} rows\")\n",
    "del bytestr\n"
   ]
  },
  {
   "cell_type": "code",
   "execution_count": null,
   "metadata": {},
   "outputs": [],
   "source": [
    "\n",
    "fn = tmp / '1.xlsx'  # --> XLS\n",
    "start = process_time()\n",
    "t.to_xlsx(fn)\n",
    "end = process_time()\n",
    "print(f\"t.to_xls({fn.name}) took {end-start:,.2f} secs for {len(t):,} rows\")\n",
    "\n",
    "start = process_time()\n",
    "Table.from_file(fn, sheet=\"pyexcel_sheet1\")  # <-- XLS\n",
    "end = process_time()\n",
    "print(f\"Table.from_file({fn.name}) took {end-start:,.2f} secs for {len(t):,} rows\")\n",
    "fn.unlink()\n"
   ]
  },
  {
   "cell_type": "code",
   "execution_count": 6,
   "metadata": {},
   "outputs": [
    {
     "name": "stdout",
     "output_type": "stream",
     "text": [
      "t.to_ods(100000.ods) took 68.16 secs for 100,000 rows\n",
      "Table.from_file(100000.ods) took 65.22 secs for 100,000 rows\n"
     ]
    }
   ],
   "source": [
    "fn = tmp / '1.ods' # --> ODS\n",
    "start = process_time()\n",
    "t[:100_000].to_ods(fn)  # limit the memory footprint.\n",
    "end = process_time()\n",
    "print(f\"t.to_ods({fn.name}) took {end-start:,.2f} secs for {len(t):,} rows\")\n",
    "\n",
    "start = process_time()\n",
    "Table.from_file(fn, sheet=\"pyexcel_sheet1\")  # <-- ODS\n",
    "end = process_time()\n",
    "print(f\"Table.from_file({fn.name}) took {end-start:,.2f} secs for {len(t):,} rows\")\n",
    "fn.unlink()\n",
    "\n"
   ]
  },
  {
   "cell_type": "code",
   "execution_count": null,
   "metadata": {},
   "outputs": [],
   "source": [
    "\n",
    "fn = tmp / '1.csv'  # --> CSV\n",
    "start = process_time()\n",
    "t.to_csv(fn)\n",
    "end = process_time()\n",
    "print(f\"t.to_csv({fn.name}) took {end-start:,.2f} secs for {len(t):,} rows\")\n",
    "\n",
    "start = process_time()\n",
    "Table.from_file(fn)  # <-- CSV\n",
    "end = process_time()\n",
    "print(f\"Table.from_file({fn.name}) took {end-start:,.2f} secs for {len(t):,} rows\")\n",
    "fn.unlink()\n"
   ]
  },
  {
   "cell_type": "code",
   "execution_count": null,
   "metadata": {},
   "outputs": [],
   "source": [
    "\n",
    "\n",
    "fn = tmp / '1.tsv'  # --> TSV\n",
    "start = process_time()\n",
    "t.to_tsv(fn)\n",
    "end = process_time()\n",
    "print(f\"t.to_tsv({fn.name}) took {end-start:,.2f} secs for {len(t):,} rows\")\n",
    "\n",
    "start = process_time()\n",
    "Table.from_file(fn)  # <-- TSV\n",
    "end = process_time()\n",
    "print(f\"Table.from_file({fn.name}) took {end-start:,.2f} secs for {len(t):,} rows\")\n",
    "fn.unlink()\n",
    "\n"
   ]
  },
  {
   "cell_type": "code",
   "execution_count": null,
   "metadata": {},
   "outputs": [],
   "source": [
    "\n",
    "fn = tmp / '1.txt'  # --> TXT\n",
    "start = process_time()\n",
    "t.to_text(fn)\n",
    "end = process_time()\n",
    "print(f\"t.to_txt({fn.name}) took {end-start:,.2f} secs for {len(t):,} rows\")\n",
    "\n",
    "start = process_time()\n",
    "Table.from_file(fn)  # <-- TXT\n",
    "end = process_time()\n",
    "print(f\"Table.from_file({fn.name}) took {end-start:,.2f} secs for {len(t):,} rows\")\n",
    "fn.unlink()\n",
    "\n"
   ]
  },
  {
   "cell_type": "code",
   "execution_count": null,
   "metadata": {},
   "outputs": [],
   "source": [
    "\n",
    "fn = tmp / '1.html'  # --> HTML\n",
    "start = process_time()\n",
    "t.to_html(fn)\n",
    "end = process_time()\n",
    "print(f\"t.to_html({fn.name}) took {end-start:,.2f} secs for {len(t):,} rows\")\n",
    "\n",
    "start = process_time()\n",
    "Table.from_file(fn)  # <-- HTML\n",
    "end = process_time()\n",
    "print(f\"Table.from_file({fn.name}) took {end-start:,.2f} secs for {len(t):,} rows\")\n",
    "fn.unlink()\n"
   ]
  },
  {
   "cell_type": "code",
   "execution_count": null,
   "metadata": {},
   "outputs": [],
   "source": [
    "\n",
    "\n",
    "fn = tmp / '1.hdf5'  # --> HDF5\n",
    "start = process_time()\n",
    "t.to_hdf5(fn)\n",
    "end = process_time()\n",
    "print(f\"t.to_hdf5({fn.name}) took {end-start:,.2f} secs for {len(t):,} rows\")\n",
    "\n",
    "start = process_time()\n",
    "Table.from_file(fn)  # <-- HDF5\n",
    "end = process_time()\n",
    "print(f\"Table.from_file({fn.name}) took {end-start:,.2f} secs for {len(t):,} rows\")\n",
    "fn.unlink()\n",
    "\n"
   ]
  }
 ],
 "metadata": {
  "kernelspec": {
   "display_name": "tablite310",
   "language": "python",
   "name": "python3"
  },
  "language_info": {
   "codemirror_mode": {
    "name": "ipython",
    "version": 3
   },
   "file_extension": ".py",
   "mimetype": "text/x-python",
   "name": "python",
   "nbconvert_exporter": "python",
   "pygments_lexer": "ipython3",
   "version": "3.10.11"
  },
  "orig_nbformat": 4
 },
 "nbformat": 4,
 "nbformat_minor": 2
}
