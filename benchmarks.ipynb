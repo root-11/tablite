{
 "cells": [
  {
   "attachments": {},
   "cell_type": "markdown",
   "metadata": {},
   "source": [
    "# Benchmarks\n",
    "\n",
    "These benchmarks seek to establish the performance of tablite as a user sees it.\n",
    "\n",
    "Overview\n",
    "\n",
    "|Input/Output|Various column functions|Base functions|Core functions|\n",
    "|---|---|---|---|\n",
    "|- Save / Load .tpz format<br>- Save tables to various formats<br>- Import data from various formats|- Setitem / getitem<br>- iter<br>- equal, not equal<br>- copy<br>- t += t<br>- t *= t<br>- contains<br>- remove all<br>- replace<br>- index<br>- unique<br>- histogram<br>- statistics<br>- count<br>|- Setitem / getitem<br>- iter / rows<br>- equal, not equal<br>- load<br>- save<br>- copy<br>- stack<br>- types<br>- display_dict<br>- show<br>- to_dict<br>- as_json_serializable<br>- index|- expression<br>- filter<br>- sort_index<br>- reindex<br>- drop_duplicates<br>- sort<br>- is_sorted<br>- any<br>- all<br>- drop <br>- replace<br>- groupby<br>- pivot<br>- joins<br>- lookup<br>- replace missing values<br>- transpose<br>- pivot_transpose<br>- diff|\n"
   ]
  },
  {
   "cell_type": "code",
   "execution_count": 1,
   "metadata": {},
   "outputs": [],
   "source": [
    "import psutil, os, gc, shutil, tempfile\n",
    "from pathlib import Path\n",
    "from time import perf_counter, time\n",
    "from tablite import Table\n",
    "from tablite.datasets import synthetic_order_data\n",
    "from tablite.config import Config\n",
    "\n",
    "Config.TQDM_DISABLE = True"
   ]
  },
  {
   "attachments": {},
   "cell_type": "markdown",
   "metadata": {},
   "source": [
    "## Input / Output"
   ]
  },
  {
   "attachments": {},
   "cell_type": "markdown",
   "metadata": {},
   "source": [
    "### Create tables from synthetic data."
   ]
  },
  {
   "cell_type": "code",
   "execution_count": 3,
   "metadata": {},
   "outputs": [
    {
     "name": "stdout",
     "output_type": "stream",
     "text": [
      "Table 1,000,000 rows is 240 Mb on disk\n",
      "Table 2,000,000 rows is 480 Mb on disk\n",
      "Table 5,000,000 rows is 1,200 Mb on disk\n",
      "Table 20,000,000 rows is 4,800 Mb on disk\n",
      "Table 50,000,000 rows is 12,000 Mb on disk\n"
     ]
    }
   ],
   "source": [
    "process = psutil.Process(os.getpid())\n",
    "\n",
    "def make_tables(sizes=[1,2,5,20,50]):\n",
    "    # The last tables are too big for RAM (~24Gb), so I create subtables of 1M rows and append them.\n",
    "    t = synthetic_order_data(Config.PAGE_SIZE)\n",
    "    real, flat = t.nbytes()\n",
    "    print(f\"Table {len(t):,} rows is {real/1e6:,.0f} Mb on disk\")\n",
    "\n",
    "    tables = [t]  # 1M rows.\n",
    "\n",
    "    last = 1\n",
    "    t2 = t.copy()\n",
    "    for i in sizes[1:]:\n",
    "        t2 = t2.copy()\n",
    "        for _ in range(i-last):\n",
    "            t2 += synthetic_order_data(Config.PAGE_SIZE)  # these are all unique\n",
    "        last = i\n",
    "        real, flat = t2.nbytes()\n",
    "        tables.append(t2)\n",
    "        print(f\"Table {len(t2):,} rows is {real/1e6:,.0f} Mb on disk\")\n",
    "    return tables\n",
    "\n",
    "tables = make_tables()"
   ]
  },
  {
   "attachments": {},
   "cell_type": "markdown",
   "metadata": {},
   "source": [
    "The values in the tables above are all unique!"
   ]
  },
  {
   "cell_type": "code",
   "execution_count": 4,
   "metadata": {},
   "outputs": [
    {
     "data": {
      "text/html": [
       "<div><table border=1><tr><th>~</th><th>#</th><th>1</th><th>2</th><th>3</th><th>4</th><th>5</th><th>6</th><th>7</th><th>8</th><th>9</th><th>10</th><th>11</th></tr><tr><th>         0</th><th>1</th><th>866088607833</th><th>2021-12-14T00:00:00</th><th>50792</th><th>0</th><th>28579</th><th>C4-5</th><th>TXA</th><th>21°</th><th>XYZ</th><th>2.413094444107509</th><th>7.158784443176018</th></tr><tr><th>         1</th><th>2</th><th>1264922588121</th><th>2021-10-07T00:00:00</th><th>50558</th><th>1</th><th>9311</th><th>C3-1</th><th>DNZ</th><th>0°</th><th>XYZ</th><th>0.9405439270647659</th><th>12.002922482892865</th></tr><tr><th>         2</th><th>3</th><th>1693677910610</th><th>2021-08-14T00:00:00</th><th>50161</th><th>1</th><th>26171</th><th>C2-4</th><th>UGU</th><th>None</th><th>ABC</th><th>0.4334689107772425</th><th>18.49455882597236</th></tr><tr><th>         3</th><th>4</th><th>2150548547429</th><th>2021-11-04T00:00:00</th><th>50677</th><th>0</th><th>29154</th><th>C1-1</th><th>BYO</th><th>None</th><th>XYZ</th><th>2.153033955110845</th><th>2.7728169582981046</th></tr><tr><th>         4</th><th>5</th><th>2218120210661</th><th>2021-08-17T00:00:00</th><th>50428</th><th>1</th><th>24930</th><th>C1-2</th><th>KET</th><th>0°</th><th></th><th>1.1318493606962958</th><th>20.905608247775177</th></tr><tr><th>         5</th><th>6</th><th>1304421366860</th><th>2021-11-28T00:00:00</th><th>50690</th><th>1</th><th>9716</th><th>C3-1</th><th>MTN</th><th>None</th><th>ABC</th><th>0.1051957139922998</th><th>19.271321525316935</th></tr><tr><th>         6</th><th>7</th><th>2127275742795</th><th>2021-12-26T00:00:00</th><th>50047</th><th>1</th><th>13674</th><th>C2-2</th><th>UQP</th><th>0°</th><th></th><th>0.2582644784204695</th><th>18.484706291306413</th></tr><tr><th>...</th><th>...</th><th>...</th><th>...</th><th>...</th><th>...</th><th>...</th><th>...</th><th>...</th><th>...</th><th>...</th><th>...</th><th>...</th></tr><tr><th>49,999,993</th><th>999994</th><th>1394133667597</th><th>2021-09-01T00:00:00</th><th>50255</th><th>1</th><th>15995</th><th>C1-4</th><th>ZJR</th><th>21°</th><th></th><th>1.8738566597571995</th><th>18.380782230118417</th></tr><tr><th>49,999,994</th><th>999995</th><th>78567921929</th><th>2021-08-09T00:00:00</th><th>50395</th><th>0</th><th>14841</th><th>C2-5</th><th>WUL</th><th>21°</th><th>XYZ</th><th>0.7780558673036411</th><th>4.145561354884791</th></tr><tr><th>49,999,995</th><th>999996</th><th>200922997379</th><th>2021-08-31T00:00:00</th><th>50881</th><th>1</th><th>12118</th><th>C4-1</th><th>BQF</th><th>0°</th><th>ABC</th><th>2.149568126979221</th><th>7.594456023293691</th></tr><tr><th>49,999,996</th><th>999997</th><th>23914347174</th><th>2021-08-13T00:00:00</th><th>50806</th><th>0</th><th>7158</th><th>C5-1</th><th>XYC</th><th>6°</th><th></th><th>2.4348405686880685</th><th>5.24830711259708</th></tr><tr><th>49,999,997</th><th>999998</th><th>2046874844029</th><th>2021-10-19T00:00:00</th><th>50997</th><th>0</th><th>13700</th><th>C5-1</th><th>ARY</th><th>6°</th><th></th><th>1.7183288196665856</th><th>17.82848361284343</th></tr><tr><th>49,999,998</th><th>999999</th><th>1361584032544</th><th>2021-10-14T00:00:00</th><th>50250</th><th>1</th><th>16203</th><th>C3-1</th><th>AIH</th><th>None</th><th>XYZ</th><th>2.092686151605976</th><th>4.187510574956948</th></tr><tr><th>49,999,999</th><th>1000000</th><th>1864034423815</th><th>2021-12-04T00:00:00</th><th>50067</th><th>1</th><th>15357</th><th>C5-2</th><th>EUC</th><th>None</th><th>ABC</th><th>2.4120617714155346</th><th>0.798741734874422</th></tr></table></div>"
      ],
      "text/plain": [
       "Table(12 columns, 50,000,000 rows)"
      ]
     },
     "execution_count": 4,
     "metadata": {},
     "output_type": "execute_result"
    }
   ],
   "source": [
    "tables[-1]"
   ]
  },
  {
   "attachments": {},
   "cell_type": "markdown",
   "metadata": {},
   "source": [
    "### Save / Load .tpz format\n",
    "\n",
    "Without default compression settings (10% slower than uncompressed, 20% of uncompressed filesize)"
   ]
  },
  {
   "cell_type": "code",
   "execution_count": 4,
   "metadata": {},
   "outputs": [],
   "source": [
    "def save_load_benchmarks(tables):\n",
    "    tmp = Path(tempfile.gettempdir()) / \"junk\"\n",
    "    tmp.mkdir(exist_ok=True)\n",
    "\n",
    "    results = Table()\n",
    "    results.add_columns('rows', 'save (sec)', 'load (sec)')\n",
    "    for t in tables:\n",
    "        fn = tmp / f'{len(t)}.tpz'\n",
    "        start = perf_counter()\n",
    "        t.save(fn)\n",
    "        end = perf_counter()\n",
    "        save = round(end-start,3)\n",
    "        assert fn.exists()\n",
    "        \n",
    "        \n",
    "        start = perf_counter()\n",
    "        t2 = Table.load(fn)\n",
    "        end = perf_counter()\n",
    "        load = round(end-start,3)\n",
    "        print(f\"saving {len(t):,} rows ({fn.stat().st_size/1e6:,.0f} Mb) took {save:,.3f} seconds. loading took {load:,.3f} seconds\")\n",
    "        del t2\n",
    "        fn.unlink()\n",
    "        results.add_rows(len(t), save, load)\n",
    "    \n",
    "    r = results\n",
    "    r['save r/sec'] = [int(a/b) if b!=0  else \"nil\" for a,b in zip(r['rows'], r['save (sec)']) ]\n",
    "    r['load r/sec'] = [int(a/b) if b!=0  else \"nil\" for a,b in zip(r['rows'], r['load (sec)'])]\n",
    "\n",
    "    return results\n"
   ]
  },
  {
   "cell_type": "code",
   "execution_count": 5,
   "metadata": {},
   "outputs": [
    {
     "name": "stdout",
     "output_type": "stream",
     "text": [
      "saving 1,000,000 rows (48 Mb) took 2.083 seconds. loading took 0.885 seconds\n",
      "saving 2,000,000 rows (97 Mb) took 4.476 seconds. loading took 1.895 seconds\n",
      "saving 5,000,000 rows (242 Mb) took 11.253 seconds. loading took 4.713 seconds\n",
      "saving 20,000,000 rows (969 Mb) took 45.884 seconds. loading took 19.211 seconds\n",
      "saving 50,000,000 rows (2,423 Mb) took 108.921 seconds. loading took 51.598 seconds\n"
     ]
    }
   ],
   "source": [
    "slb = save_load_benchmarks(tables)"
   ]
  },
  {
   "cell_type": "code",
   "execution_count": 6,
   "metadata": {},
   "outputs": [
    {
     "data": {
      "text/html": [
       "<div><table border=1><tr><th>#</th><th>rows</th><th>save (sec)</th><th>load (sec)</th><th>save r/sec</th><th>load r/sec</th></tr><tr><th> 0</th><th>1000000</th><th>2.083</th><th>0.885</th><th>480076</th><th>1129943</th></tr><tr><th> 1</th><th>2000000</th><th>4.476</th><th>1.895</th><th>446827</th><th>1055408</th></tr><tr><th> 2</th><th>5000000</th><th>11.253</th><th>4.713</th><th>444325</th><th>1060895</th></tr><tr><th> 3</th><th>20000000</th><th>45.884</th><th>19.211</th><th>435881</th><th>1041070</th></tr><tr><th> 4</th><th>50000000</th><th>108.921</th><th>51.598</th><th>459048</th><th>969029</th></tr></table></div>"
      ],
      "text/plain": [
       "Table(5 columns, 5 rows)"
      ]
     },
     "execution_count": 6,
     "metadata": {},
     "output_type": "execute_result"
    }
   ],
   "source": [
    "slb"
   ]
  },
  {
   "attachments": {},
   "cell_type": "markdown",
   "metadata": {},
   "source": [
    "With various compression options"
   ]
  },
  {
   "cell_type": "code",
   "execution_count": 7,
   "metadata": {},
   "outputs": [],
   "source": [
    "def save_compression_benchmarks(t):\n",
    "    tmp = Path(tempfile.gettempdir()) / \"junk\"\n",
    "    tmp.mkdir(exist_ok=True)\n",
    "\n",
    "    import zipfile  # https://docs.python.org/3/library/zipfile.html#zipfile.ZipFile\n",
    "    methods = [(None, zipfile.ZIP_STORED, \"zip stored\"), (None, zipfile.ZIP_LZMA, \"zip lzma\")]\n",
    "    methods += [(i, zipfile.ZIP_DEFLATED, \"zip deflated\") for i in range(0,10)]\n",
    "    methods += [(i, zipfile.ZIP_BZIP2, \"zip bzip2\") for i in range(1,10)]\n",
    "\n",
    "    results = Table()\n",
    "    results.add_columns('file size (Mb)', 'method', 'write (sec)', 'read (sec)')\n",
    "    for level, method, name in methods:\n",
    "        fn = tmp / f'{len(t)}.tpz'\n",
    "        start = perf_counter()  \n",
    "        t.save(fn, compression_method=method, compression_level=level)\n",
    "        end = perf_counter()\n",
    "        write = round(end-start,3)\n",
    "        assert fn.exists()\n",
    "        size = int(fn.stat().st_size/1e6)\n",
    "        # print(f\"{name}(level={level}): {len(t):,} rows ({size} Mb) took {write:,.3f} secconds to save\", end='')\n",
    "        \n",
    "        start = perf_counter()\n",
    "        t2 = Table.load(fn)\n",
    "        end = perf_counter()\n",
    "        read = round(end-start,3)\n",
    "        # print(f\" and {end-start:,.3} seconds to load\")\n",
    "        print(\".\", end='')\n",
    "        \n",
    "        del t2\n",
    "        fn.unlink()\n",
    "        results.add_rows(size, f\"{name}(level={level})\", write, read)\n",
    "        \n",
    "    \n",
    "    r = results\n",
    "    r.sort({'write (sec)':True})\n",
    "    r['write (rps)'] = [int(1_000_000/b) for b in r['write (sec)']]\n",
    "    r['read (rps)'] = [int(1_000_000/b) for b in r['read (sec)']]\n",
    "    return results"
   ]
  },
  {
   "cell_type": "code",
   "execution_count": 8,
   "metadata": {},
   "outputs": [
    {
     "name": "stdout",
     "output_type": "stream",
     "text": [
      "....................."
     ]
    },
    {
     "name": "stderr",
     "output_type": "stream",
     "text": [
      "creating sort index: 100%|██████████| 1/1 [00:00<00:00, 137.93it/s]\n"
     ]
    }
   ],
   "source": [
    "scb = save_compression_benchmarks(tables[0])"
   ]
  },
  {
   "cell_type": "code",
   "execution_count": 9,
   "metadata": {},
   "outputs": [
    {
     "data": {
      "text/html": [
       "<div><table border=1><tr><th>#</th><th>file size (Mb)</th><th>method</th><th>write (sec)</th><th>read (sec)</th><th>write (rps)</th><th>read (rps)</th></tr><tr><th> 0</th><th>240</th><th>zip stored(level=None)</th><th>0.533</th><th>0.417</th><th>1876172</th><th>2398081</th></tr><tr><th> 1</th><th>29</th><th>zip lzma(level=None)</th><th>105.541</th><th>2.052</th><th>9474</th><th>487329</th></tr><tr><th> 2</th><th>240</th><th>zip deflated(level=0)</th><th>0.514</th><th>0.561</th><th>1945525</th><th>1782531</th></tr><tr><th> 3</th><th>48</th><th>zip deflated(level=1)</th><th>2.108</th><th>0.907</th><th>474383</th><th>1102535</th></tr><tr><th> 4</th><th>46</th><th>zip deflated(level=2)</th><th>2.316</th><th>0.879</th><th>431778</th><th>1137656</th></tr><tr><th> 5</th><th>43</th><th>zip deflated(level=3)</th><th>3.087</th><th>0.793</th><th>323939</th><th>1261034</th></tr><tr><th> 6</th><th>43</th><th>zip deflated(level=4)</th><th>3.213</th><th>0.89</th><th>311235</th><th>1123595</th></tr><tr><th> 7</th><th>42</th><th>zip deflated(level=5)</th><th>4.587</th><th>0.804</th><th>218007</th><th>1243781</th></tr><tr><th> 8</th><th>39</th><th>zip deflated(level=6)</th><th>9.139</th><th>0.799</th><th>109421</th><th>1251564</th></tr><tr><th> 9</th><th>39</th><th>zip deflated(level=7)</th><th>14.714</th><th>0.78</th><th>67962</th><th>1282051</th></tr><tr><th>10</th><th>38</th><th>zip deflated(level=8)</th><th>46.102</th><th>0.592</th><th>21691</th><th>1689189</th></tr><tr><th>11</th><th>37</th><th>zip deflated(level=9)</th><th>91.267</th><th>0.579</th><th>10956</th><th>1727115</th></tr><tr><th>12</th><th>29</th><th>zip bzip2(level=1)</th><th>11.26</th><th>2.822</th><th>88809</th><th>354358</th></tr><tr><th>13</th><th>29</th><th>zip bzip2(level=2)</th><th>12.445</th><th>2.967</th><th>80353</th><th>337040</th></tr><tr><th>14</th><th>29</th><th>zip bzip2(level=3)</th><th>12.81</th><th>3.073</th><th>78064</th><th>325414</th></tr><tr><th>15</th><th>29</th><th>zip bzip2(level=4)</th><th>13.566</th><th>3.48</th><th>73713</th><th>287356</th></tr><tr><th>16</th><th>29</th><th>zip bzip2(level=5)</th><th>14.194</th><th>3.787</th><th>70452</th><th>264061</th></tr><tr><th>17</th><th>29</th><th>zip bzip2(level=6)</th><th>14.747</th><th>3.961</th><th>67810</th><th>252461</th></tr><tr><th>18</th><th>29</th><th>zip bzip2(level=7)</th><th>14.792</th><th>4.118</th><th>67604</th><th>242836</th></tr><tr><th>19</th><th>29</th><th>zip bzip2(level=8)</th><th>15.103</th><th>4.238</th><th>66212</th><th>235960</th></tr></table></div>"
      ],
      "text/plain": [
       "Table(6 columns, 20 rows)"
      ]
     },
     "execution_count": 9,
     "metadata": {},
     "output_type": "execute_result"
    }
   ],
   "source": [
    "scb[0:20]"
   ]
  },
  {
   "attachments": {},
   "cell_type": "markdown",
   "metadata": {},
   "source": [
    "**Conclusions**\n",
    "\n",
    "- Fastest: zip stored with no compression takes handles "
   ]
  },
  {
   "attachments": {},
   "cell_type": "markdown",
   "metadata": {},
   "source": [
    "### Save / load tables to / from various formats\n",
    "\n",
    "The handlers for saving / export are:\n",
    "\n",
    "- to_sql\n",
    "- to_json\n",
    "- to_xls\n",
    "- to_ods\n",
    "- to_csv\n",
    "- to_tsv\n",
    "- to_text\n",
    "- to_html\n",
    "- to_hdf5\n"
   ]
  },
  {
   "cell_type": "code",
   "execution_count": 11,
   "metadata": {},
   "outputs": [],
   "source": [
    "def to_sql_benchmark(t, rows=1_000_000):\n",
    "    t2 = t[:rows]\n",
    "    write_start = time()\n",
    "    _ = t2.to_sql(name='1')\n",
    "    write_end = time()\n",
    "    write = round(write_end-write_start,3)\n",
    "    return ( t.to_sql.__name__, write, 0, len(t2), \"\" , \"\" ) "
   ]
  },
  {
   "cell_type": "code",
   "execution_count": 12,
   "metadata": {},
   "outputs": [],
   "source": [
    "def to_json_benchmark(t, rows=1_000_000):\n",
    "    t2 = t[:rows]\n",
    "\n",
    "    tmp = Path(tempfile.gettempdir()) / \"junk\"\n",
    "    tmp.mkdir(exist_ok=True)\n",
    "    path = tmp / \"1.json\" \n",
    "    \n",
    "    write_start = time()\n",
    "    bytestr = t2.to_json()\n",
    "    with path.open('w') as fo:\n",
    "        fo.write(bytestr)\n",
    "    write_end = time()\n",
    "    write = round(write_end-write_start,3)\n",
    "\n",
    "    read_start = time()\n",
    "    with path.open('r') as fi:\n",
    "        _ = Table.from_json(fi.read())  # <-- JSON\n",
    "    read_end = time()\n",
    "    read = round(read_end-read_start,3)\n",
    "\n",
    "    return ( t.to_json.__name__, write, read, len(t2), int(path.stat().st_size/1e6), \"\" ) "
   ]
  },
  {
   "cell_type": "code",
   "execution_count": 13,
   "metadata": {},
   "outputs": [],
   "source": [
    "def f(t, args):\n",
    "    rows, c1, c1_kw, c2, c2_kw = args\n",
    "    t2 = t[:rows]\n",
    "\n",
    "    call = getattr(t2, c1)\n",
    "    assert callable(call)\n",
    "\n",
    "    write_start = time()\n",
    "    call(**c1_kw)\n",
    "    write_end = time()\n",
    "    write = round(write_end-write_start,3)\n",
    "\n",
    "    for _ in range(10):\n",
    "        gc.collect()\n",
    "\n",
    "    read_start = time()\n",
    "    if callable(c2):\n",
    "        c2(**c2_kw)\n",
    "    read_end = time()\n",
    "    read = round(read_end-read_start,3)\n",
    "\n",
    "    fn = c2_kw['path']\n",
    "    assert fn.exists()\n",
    "    fs = int(fn.stat().st_size/1e6)\n",
    "    config = {k:v for k,v in c2_kw.items() if k!= 'path'}\n",
    "\n",
    "    return ( c1, write, read, len(t2), fs , str(config))\n"
   ]
  },
  {
   "cell_type": "code",
   "execution_count": 14,
   "metadata": {},
   "outputs": [],
   "source": [
    "def import_export_benchmarks(tables):\n",
    "    Config.PROCESSING_MODE = Config.FALSE\n",
    "        \n",
    "    t = sorted(tables, key=lambda x: len(x), reverse=True)[0]\n",
    "    \n",
    "    tmp = Path(tempfile.gettempdir()) / \"junk\"\n",
    "    tmp.mkdir(exist_ok=True)   \n",
    "\n",
    "    args = [\n",
    "        (   100_000, \"to_xlsx\", {'path': tmp/'1.xlsx'}, Table.from_file, {\"path\":tmp/'1.xlsx', \"sheet\":\"pyexcel_sheet1\"}),\n",
    "        (    50_000,  \"to_ods\",  {'path': tmp/'1.ods'}, Table.from_file, {\"path\":tmp/'1.ods', \"sheet\":\"pyexcel_sheet1\"} ),  # 50k rows, otherwise MemoryError.\n",
    "        ( 1_000_000,  \"to_csv\",  {'path': tmp/'1.csv'}, Table.from_file, {\"path\":tmp/'1.csv'}                           ),\n",
    "        ( 1_000_000,  \"to_csv\",  {'path': tmp/'1.csv'}, Table.from_file, {\"path\":tmp/'1.csv', \"guess_datatypes\":False}),\n",
    "        (10_000_000,  \"to_csv\",  {'path': tmp/'1.csv'}, Table.from_file, {\"path\":tmp/'1.csv', \"guess_datatypes\":False}),\n",
    "        ( 1_000_000,  \"to_tsv\",  {'path': tmp/'1.tsv'}, Table.from_file, {\"path\":tmp/'1.tsv'}                           ),\n",
    "        ( 1_000_000, \"to_text\",  {'path': tmp/'1.txt'}, Table.from_file, {\"path\":tmp/'1.txt'}                           ),\n",
    "        ( 1_000_000, \"to_html\", {'path': tmp/'1.html'}, Table.from_file, {\"path\":tmp/'1.html'}                          ),\n",
    "        ( 1_000_000, \"to_hdf5\", {'path': tmp/'1.hdf5'}, Table.from_file, {\"path\":tmp/'1.hdf5'}                          )\n",
    "    ]\n",
    "\n",
    "    results = Table()\n",
    "    results.add_columns('method', 'write (s)', 'read (s)', 'rows', 'size (Mb)', 'config')\n",
    "\n",
    "    results.add_rows( to_sql_benchmark(t) )\n",
    "    results.add_rows( to_json_benchmark(t) )\n",
    "\n",
    "    for arg in args:\n",
    "        if len(t)<arg[0]:\n",
    "            continue\n",
    "        print(\".\", end='')\n",
    "        try:\n",
    "            results.add_rows( f(t, arg) )\n",
    "        except MemoryError:\n",
    "            results.add_rows( arg[1], \"Memory Error\", \"NIL\", args[0], \"NIL\", \"N/A\")\n",
    "    \n",
    "    r = results\n",
    "    r['read r/sec'] = [int(a/b) if b!=0  else \"nil\" for a,b in zip(r['rows'], r['read (s)']) ]\n",
    "    r['write r/sec'] = [int(a/b) if b!=0  else \"nil\" for a,b in zip(r['rows'], r['write (s)'])]\n",
    "\n",
    "    shutil.rmtree(tmp)\n",
    "    return results"
   ]
  },
  {
   "cell_type": "code",
   "execution_count": 15,
   "metadata": {},
   "outputs": [
    {
     "name": "stdout",
     "output_type": "stream",
     "text": [
      ".........writing 12,000,000 records to C:\\Users\\madsenbj\\AppData\\Local\\Temp\\junk\\1.hdf5... done\n"
     ]
    }
   ],
   "source": [
    "ieb = import_export_benchmarks(tables)"
   ]
  },
  {
   "cell_type": "code",
   "execution_count": 22,
   "metadata": {},
   "outputs": [
    {
     "name": "stderr",
     "output_type": "stream",
     "text": [
      "creating sort index: 100%|██████████| 1/1 [00:00<?, ?it/s]\n"
     ]
    },
    {
     "data": {
      "text/html": [
       "<div><table border=1><tr><th>#</th><th>method</th><th>write (s)</th><th>read (s)</th><th>rows</th><th>size (Mb)</th><th>config</th><th>read r/sec</th><th>write r/sec</th></tr><tr><th> 0</th><th>to_html</th><th>13.329</th><th>70.57</th><th>1000000</th><th>228</th><th>{}</th><th>nil</th><th>4042363</th></tr><tr><th> 1</th><th>to_hdf5</th><th>5.253</th><th>11.932</th><th>1000000</th><th>300</th><th>{}</th><th>14388489</th><th>4441680</th></tr><tr><th> 2</th><th>to_csv</th><th>199.192</th><th>128.055</th><th>10000000</th><th>1090</th><th>{'guess_datatypes': False}</th><th>121966</th><th>58197</th></tr><tr><th> 3</th><th>to_text</th><th>19.277</th><th>15.395</th><th>1000000</th><th>109</th><th>{}</th><th>83808</th><th>190367</th></tr><tr><th> 4</th><th>to_xlsx</th><th>11.009</th><th>19.834</th><th>100000</th><th>9</th><th>{'sheet': 'pyexcel_sheet1'}</th><th>78091</th><th>50202</th></tr><tr><th> 5</th><th>to_ods</th><th>30.187</th><th>32.11</th><th>50000</th><th>3</th><th>{'sheet': 'pyexcel_sheet1'}</th><th>64956</th><th>51875</th></tr><tr><th> 6</th><th>to_csv</th><th>17.183</th><th>8.199</th><th>1000000</th><th>109</th><th>{'guess_datatypes': False}</th><th>56360</th><th>56097</th></tr><tr><th> 7</th><th>to_csv</th><th>17.826</th><th>17.743</th><th>1000000</th><th>109</th><th>{}</th><th>54854</th><th>53668</th></tr><tr><th> 8</th><th>to_tsv</th><th>18.633</th><th>18.23</th><th>1000000</th><th>109</th><th>{}</th><th>14170</th><th>75024</th></tr><tr><th> 9</th><th>to_json</th><th>11.257</th><th>3.475</th><th>1000000</th><th>142</th><th></th><th>5041</th><th>9083</th></tr><tr><th>10</th><th>to_sql</th><th>12.369</th><th>0</th><th>1000000</th><th></th><th></th><th>1557</th><th>1656</th></tr></table></div>"
      ],
      "text/plain": [
       "Table(8 columns, 11 rows)"
      ]
     },
     "execution_count": 22,
     "metadata": {},
     "output_type": "execute_result"
    }
   ],
   "source": [
    "ieb"
   ]
  },
  {
   "attachments": {},
   "cell_type": "markdown",
   "metadata": {},
   "source": [
    "**Conclusions**\n",
    "\n",
    "Best:\n",
    "- to/from JSON wins with 2.3M rps read\n",
    "- to/from CSV/TSV/TEXT comes 2nd with config `guess_datatypes=False` with ~ 100k rps\n",
    "\n",
    "Worst:\n",
    "- to/from ods burst the memory footprint and hence had to be reduced to 100k rows. It also had the slowest read rate with 1450 rps.\n"
   ]
  },
  {
   "attachments": {},
   "cell_type": "markdown",
   "metadata": {},
   "source": [
    "## Various column functions\n",
    "\n",
    "- Setitem / getitem\n",
    "- iter\n",
    "- equal, not equal\n",
    "- copy\n",
    "- t += t\n",
    "- t *= t\n",
    "- contains\n",
    "- remove all\n",
    "- replace\n",
    "- index\n",
    "- unique\n",
    "- histogram\n",
    "- statistics\n",
    "- count"
   ]
  },
  {
   "cell_type": "code",
   "execution_count": 15,
   "metadata": {},
   "outputs": [],
   "source": [
    "def contains_benchmark(table):\n",
    "    results = Table()\n",
    "    results.add_columns( \"column\", \"time (s)\" )\n",
    "    for name,col in table.columns.items():\n",
    "        n = len(col)\n",
    "        start,stop,step = int(n*0.02), int(n*0.98), int(n/100)\n",
    "        selection = col[start:stop:step]\n",
    "        total_time = 0.0\n",
    "        for v in selection:\n",
    "            start_time = perf_counter()\n",
    "            v in col  # <--- test!\n",
    "            end_time = perf_counter()\n",
    "            total_time += (end_time - start_time)\n",
    "        avg_time = total_time / len(selection)\n",
    "        results.add_rows( name, round(avg_time,3) )\n",
    "\n",
    "    return results\n",
    "    "
   ]
  },
  {
   "cell_type": "code",
   "execution_count": 16,
   "metadata": {},
   "outputs": [
    {
     "data": {
      "text/html": [
       "<div><table border=1><tr><th>#</th><th>column</th><th>time (s)</th></tr><tr><th> 0</th><th>#</th><th>0.002</th></tr><tr><th> 1</th><th>1</th><th>0.089</th></tr><tr><th> 2</th><th>2</th><th>0.034</th></tr><tr><th> 3</th><th>3</th><th>0.002</th></tr><tr><th> 4</th><th>4</th><th>0.002</th></tr><tr><th> 5</th><th>5</th><th>0.002</th></tr><tr><th> 6</th><th>6</th><th>0.01</th></tr><tr><th> 7</th><th>7</th><th>0.006</th></tr><tr><th> 8</th><th>8</th><th>0.01</th></tr><tr><th> 9</th><th>9</th><th>0.008</th></tr><tr><th>10</th><th>10</th><th>0.088</th></tr><tr><th>11</th><th>11</th><th>0.883</th></tr></table></div>"
      ],
      "text/plain": [
       "Table(2 columns, 12 rows)"
      ]
     },
     "execution_count": 16,
     "metadata": {},
     "output_type": "execute_result"
    }
   ],
   "source": [
    "has_it = contains_benchmark(tables[-1])\n",
    "has_it"
   ]
  },
  {
   "attachments": {},
   "cell_type": "markdown",
   "metadata": {},
   "source": [
    "## Various table functions"
   ]
  },
  {
   "attachments": {},
   "cell_type": "markdown",
   "metadata": {},
   "source": [
    "### Slicing\n",
    "\n",
    "Slicing operations are used in many places."
   ]
  },
  {
   "cell_type": "code",
   "execution_count": 17,
   "metadata": {},
   "outputs": [],
   "source": [
    "def slicing_benchmark(table):\n",
    "    n = len(table)\n",
    "    start,stop,step = int(0.02*n), int(0.98*n), int(n / 20)  # from 2% to 98% in 20 large steps\n",
    "    start_time = perf_counter()\n",
    "    snip = table[start:stop:step]\n",
    "    end_time = perf_counter()\n",
    "    print(f\"reading {len(table):,} rows to find {len(snip):,} rows took {end_time-start_time:.3f} sec\")\n",
    "    return snip"
   ]
  },
  {
   "cell_type": "code",
   "execution_count": 18,
   "metadata": {},
   "outputs": [
    {
     "name": "stdout",
     "output_type": "stream",
     "text": [
      "reading 50,000,000 rows to find 20 rows took 4.188 sec\n"
     ]
    }
   ],
   "source": [
    "slice_it = slicing_benchmark(tables[-1])"
   ]
  },
  {
   "cell_type": "code",
   "execution_count": 19,
   "metadata": {},
   "outputs": [],
   "source": [
    "def column_selection_benchmark(tables):\n",
    "    results = Table()\n",
    "    results.add_columns( 'rows')\n",
    "    results.add_columns(*[f\"n cols={i}\" for i,_ in enumerate(tables[0].columns,start=1)])\n",
    "\n",
    "    for table in tables:\n",
    "        rr = [len(table)]\n",
    "        for ix, name in enumerate(table.columns):\n",
    "            cols = list(table.columns)[:ix+1]\n",
    "            start_time = perf_counter()\n",
    "            table.__getitem__(*cols)\n",
    "            end_time = perf_counter()\n",
    "            rr.append(f\"{end_time-start_time:.5f}\")\n",
    "        results.add_rows( rr )\n",
    "    return results"
   ]
  },
  {
   "cell_type": "code",
   "execution_count": 20,
   "metadata": {},
   "outputs": [
    {
     "name": "stdout",
     "output_type": "stream",
     "text": [
      "times below are are in seconds\n"
     ]
    },
    {
     "data": {
      "text/html": [
       "<div><table border=1><tr><th>#</th><th>rows</th><th>n cols=1</th><th>n cols=2</th><th>n cols=3</th><th>n cols=4</th><th>n cols=5</th><th>n cols=6</th><th>n cols=7</th><th>n cols=8</th><th>n cols=9</th><th>n cols=10</th><th>n cols=11</th><th>n cols=12</th></tr><tr><th> 0</th><th>1000000</th><th>0.00001</th><th>0.00008</th><th>0.00007</th><th>0.00007</th><th>0.00007</th><th>0.00006</th><th>0.00008</th><th>0.00008</th><th>0.00006</th><th>0.00008</th><th>0.00007</th><th>0.00007</th></tr><tr><th> 1</th><th>2000000</th><th>0.00001</th><th>0.00012</th><th>0.00007</th><th>0.00006</th><th>0.00006</th><th>0.00006</th><th>0.00006</th><th>0.00006</th><th>0.00006</th><th>0.00006</th><th>0.00007</th><th>0.00007</th></tr><tr><th> 2</th><th>5000000</th><th>0.00002</th><th>0.00012</th><th>0.00008</th><th>0.00007</th><th>0.00007</th><th>0.00007</th><th>0.00007</th><th>0.00007</th><th>0.00008</th><th>0.00008</th><th>0.00008</th><th>0.00007</th></tr><tr><th> 3</th><th>20000000</th><th>0.00004</th><th>0.00015</th><th>0.00011</th><th>0.00010</th><th>0.00011</th><th>0.00012</th><th>0.00010</th><th>0.00010</th><th>0.00010</th><th>0.00010</th><th>0.00010</th><th>0.00011</th></tr><tr><th> 4</th><th>50000000</th><th>0.00008</th><th>0.00019</th><th>0.00016</th><th>0.00013</th><th>0.00013</th><th>0.00013</th><th>0.00013</th><th>0.00013</th><th>0.00013</th><th>0.00013</th><th>0.00014</th><th>0.00013</th></tr></table></div>"
      ],
      "text/plain": [
       "Table(13 columns, 5 rows)"
      ]
     },
     "execution_count": 20,
     "metadata": {},
     "output_type": "execute_result"
    }
   ],
   "source": [
    "csb = column_selection_benchmark(tables)\n",
    "print(\"times below are are in seconds\")\n",
    "csb"
   ]
  },
  {
   "cell_type": "code",
   "execution_count": 21,
   "metadata": {},
   "outputs": [],
   "source": [
    "def iterrows_benchmark(table):\n",
    "    results = Table()\n",
    "    results.add_columns( 'n columns', 'time (s)')\n",
    "\n",
    "    columns = ['1']\n",
    "    for column in list(table.columns):\n",
    "        columns.append(column)\n",
    "        snip = table.__getitem__(*columns, slice(500_000,1_500_000))\n",
    "        start_time = perf_counter()\n",
    "        counts = 0\n",
    "        for row in snip.rows:\n",
    "            counts += 1\n",
    "        end_time = perf_counter()\n",
    "        results.add_rows( len(columns), round(end_time-start_time,3))\n",
    "\n",
    "    return results\n"
   ]
  },
  {
   "cell_type": "code",
   "execution_count": 22,
   "metadata": {},
   "outputs": [
    {
     "data": {
      "text/html": [
       "<div><table border=1><tr><th>#</th><th>n columns</th><th>time (s)</th></tr><tr><th> 0</th><th>2</th><th>1.672</th></tr><tr><th> 1</th><th>3</th><th>1.66</th></tr><tr><th> 2</th><th>4</th><th>2.626</th></tr><tr><th> 3</th><th>5</th><th>3.332</th></tr><tr><th> 4</th><th>6</th><th>4.01</th></tr><tr><th> 5</th><th>7</th><th>4.619</th></tr><tr><th> 6</th><th>8</th><th>5.517</th></tr><tr><th> 7</th><th>9</th><th>6.451</th></tr><tr><th> 8</th><th>10</th><th>7.691</th></tr><tr><th> 9</th><th>11</th><th>8.571</th></tr><tr><th>10</th><th>12</th><th>9.27</th></tr><tr><th>11</th><th>13</th><th>10.305</th></tr></table></div>"
      ],
      "text/plain": [
       "Table(2 columns, 12 rows)"
      ]
     },
     "execution_count": 22,
     "metadata": {},
     "output_type": "execute_result"
    }
   ],
   "source": [
    "iterb = iterrows_benchmark(tables[-1])\n",
    "iterb"
   ]
  },
  {
   "cell_type": "code",
   "execution_count": 23,
   "metadata": {},
   "outputs": [
    {
     "data": {
      "image/png": "[encoded data removed]",
      "text/plain": [
       "<Figure size 432x288 with 1 Axes>"
      ]
     },
     "metadata": {
      "needs_background": "light"
     },
     "output_type": "display_data"
    }
   ],
   "source": [
    "import matplotlib.pyplot as plt\n",
    "plt.plot(iterb['n columns'], iterb['time (s)'])\n",
    "plt.show()\n"
   ]
  },
  {
   "attachments": {},
   "cell_type": "markdown",
   "metadata": {},
   "source": [
    "### Table.dtypes()\n",
    "\n",
    "Table.dtypes() is implemented for near constant speed lookup."
   ]
  },
  {
   "cell_type": "code",
   "execution_count": 24,
   "metadata": {},
   "outputs": [],
   "source": [
    "def dtypes_benchmark(tables):\n",
    "    dtypes_results = Table()\n",
    "    dtypes_results.add_columns(\"rows\", \"time (s)\")\n",
    "\n",
    "    for table in tables:\n",
    "        start_time = perf_counter()\n",
    "        dt = table.dtypes()\n",
    "        end_time = perf_counter()\n",
    "        assert isinstance(dt, dict) and len(dt) != 0\n",
    "        dtypes_results.add_rows( len(table), round(end_time-start_time, 3) )\n",
    "\n",
    "    return dtypes_results"
   ]
  },
  {
   "cell_type": "code",
   "execution_count": 25,
   "metadata": {},
   "outputs": [
    {
     "data": {
      "text/html": [
       "<div><table border=1><tr><th>#</th><th>rows</th><th>time (s)</th></tr><tr><th> 0</th><th>1000000</th><th>0.0</th></tr><tr><th> 1</th><th>2000000</th><th>0.0</th></tr><tr><th> 2</th><th>5000000</th><th>0.0</th></tr><tr><th> 3</th><th>20000000</th><th>0.0</th></tr><tr><th> 4</th><th>50000000</th><th>0.0</th></tr></table></div>"
      ],
      "text/plain": [
       "Table(2 columns, 5 rows)"
      ]
     },
     "execution_count": 25,
     "metadata": {},
     "output_type": "execute_result"
    }
   ],
   "source": [
    "dtype_b = dtypes_benchmark(tables)\n",
    "dtype_b"
   ]
  },
  {
   "attachments": {},
   "cell_type": "markdown",
   "metadata": {},
   "source": [
    "### Table.any"
   ]
  },
  {
   "cell_type": "code",
   "execution_count": 26,
   "metadata": {},
   "outputs": [],
   "source": [
    "def any_benchmark(tables):\n",
    "    results = Table()\n",
    "    results.add_columns(\"rows\", *list(tables[0].columns))\n",
    "\n",
    "    for table in tables:\n",
    "        tmp = [len(table)]\n",
    "        for column in list(table.columns):\n",
    "            v = table[column][0]\n",
    "            start_time = perf_counter()\n",
    "            _ = table.any(**{column: v})\n",
    "            end_time = perf_counter()           \n",
    "            tmp.append(round(end_time-start_time,3))\n",
    "\n",
    "        results.add_rows( tmp )\n",
    "    return results\n"
   ]
  },
  {
   "cell_type": "code",
   "execution_count": 27,
   "metadata": {},
   "outputs": [
    {
     "data": {
      "text/html": [
       "<div><table border=1><tr><th>~</th><th>rows</th><th>#</th><th>1</th><th>2</th><th>3</th><th>4</th><th>5</th><th>6</th><th>7</th><th>8</th><th>9</th><th>10</th><th>11</th></tr><tr><th> 0</th><th>1000000</th><th>0.175</th><th>0.148</th><th>0.201</th><th>0.15</th><th>0.264</th><th>0.154</th><th>0.182</th><th>0.149</th><th>0.217</th><th>0.238</th><th>0.153</th><th>0.192</th></tr><tr><th> 1</th><th>2000000</th><th>0.31</th><th>0.295</th><th>0.4</th><th>0.305</th><th>0.638</th><th>0.299</th><th>0.361</th><th>0.331</th><th>0.451</th><th>0.477</th><th>0.287</th><th>0.357</th></tr><tr><th> 2</th><th>5000000</th><th>0.952</th><th>0.776</th><th>1.097</th><th>0.854</th><th>1.472</th><th>0.918</th><th>1.061</th><th>0.932</th><th>1.225</th><th>1.372</th><th>0.745</th><th>0.92</th></tr><tr><th> 3</th><th>20000000</th><th>4.4</th><th>2.922</th><th>4.108</th><th>3.156</th><th>6.581</th><th>3.289</th><th>3.631</th><th>2.958</th><th>4.596</th><th>9.02</th><th>2.835</th><th>3.197</th></tr><tr><th> 4</th><th>50000000</th><th>11.566</th><th>12.211</th><th>15.841</th><th>13.27</th><th>21.225</th><th>13.837</th><th>15.249</th><th>13.299</th><th>17.733</th><th>20.207</th><th>15.621</th><th>16.013</th></tr></table></div>"
      ],
      "text/plain": [
       "Table(13 columns, 5 rows)"
      ]
     },
     "execution_count": 27,
     "metadata": {},
     "output_type": "execute_result"
    }
   ],
   "source": [
    "\n",
    "anyb = any_benchmark(tables)\n",
    "anyb"
   ]
  },
  {
   "attachments": {},
   "cell_type": "markdown",
   "metadata": {},
   "source": [
    "### Table.all"
   ]
  },
  {
   "cell_type": "code",
   "execution_count": 28,
   "metadata": {},
   "outputs": [],
   "source": [
    "def all_benchmark(tables):\n",
    "    results = Table()\n",
    "    results.add_columns(\"rows\", *list(tables[0].columns))\n",
    "\n",
    "    for table in tables:\n",
    "        tmp = [len(table)]\n",
    "        for column in list(table.columns):\n",
    "            v = table[column][0]\n",
    "            start_time = perf_counter()\n",
    "            _ = table.all(**{column: v})\n",
    "            end_time = perf_counter()           \n",
    "            tmp.append(round(end_time-start_time,3))\n",
    "\n",
    "        results.add_rows( tmp )\n",
    "    return results\n"
   ]
  },
  {
   "cell_type": "code",
   "execution_count": 29,
   "metadata": {},
   "outputs": [
    {
     "data": {
      "text/html": [
       "<div><table border=1><tr><th>~</th><th>rows</th><th>#</th><th>1</th><th>2</th><th>3</th><th>4</th><th>5</th><th>6</th><th>7</th><th>8</th><th>9</th><th>10</th><th>11</th></tr><tr><th> 0</th><th>1000000</th><th>0.249</th><th>0.192</th><th>0.269</th><th>0.185</th><th>0.332</th><th>0.183</th><th>0.234</th><th>0.22</th><th>0.301</th><th>0.339</th><th>0.185</th><th>0.228</th></tr><tr><th> 1</th><th>2000000</th><th>0.391</th><th>0.385</th><th>0.553</th><th>0.431</th><th>0.701</th><th>0.408</th><th>0.446</th><th>0.36</th><th>0.507</th><th>0.538</th><th>0.338</th><th>0.429</th></tr><tr><th> 2</th><th>5000000</th><th>1.06</th><th>0.81</th><th>1.099</th><th>0.875</th><th>1.564</th><th>0.884</th><th>0.987</th><th>0.852</th><th>1.2</th><th>1.38</th><th>0.82</th><th>0.868</th></tr><tr><th> 3</th><th>20000000</th><th>3.843</th><th>3.125</th><th>4.383</th><th>3.518</th><th>6.362</th><th>3.64</th><th>3.951</th><th>3.377</th><th>5.131</th><th>6.056</th><th>3.516</th><th>4.167</th></tr><tr><th> 4</th><th>50000000</th><th>12.227</th><th>12.484</th><th>15.884</th><th>13.27</th><th>21.759</th><th>13.896</th><th>16.25</th><th>13.369</th><th>20.37</th><th>21.406</th><th>14.346</th><th>16.428</th></tr></table></div>"
      ],
      "text/plain": [
       "Table(13 columns, 5 rows)"
      ]
     },
     "execution_count": 29,
     "metadata": {},
     "output_type": "execute_result"
    }
   ],
   "source": [
    "allb = all_benchmark(tables)\n",
    "allb"
   ]
  },
  {
   "attachments": {},
   "cell_type": "markdown",
   "metadata": {},
   "source": [
    "### Table.filter"
   ]
  },
  {
   "cell_type": "code",
   "execution_count": null,
   "metadata": {},
   "outputs": [],
   "source": []
  },
  {
   "attachments": {},
   "cell_type": "markdown",
   "metadata": {},
   "source": [
    "### Table.unique"
   ]
  },
  {
   "cell_type": "code",
   "execution_count": 33,
   "metadata": {},
   "outputs": [],
   "source": [
    "def unique_benchmark(tables):\n",
    "    results = Table()\n",
    "    results.add_columns(\"rows\", *list(tables[0].columns))\n",
    "    \n",
    "    for table in tables:\n",
    "        length = len(table)\n",
    "\n",
    "        tmp = [len(table)]\n",
    "        for column in list(table.columns):\n",
    "            start_time = perf_counter()\n",
    "            try:\n",
    "                L = table[column].unique()\n",
    "                dt = perf_counter() - start_time\n",
    "            except MemoryError:\n",
    "                dt = -1\n",
    "            tmp.append(round(dt,3))\n",
    "            assert 0 < len(L) <= length    \n",
    "\n",
    "        results.add_rows( tmp )\n",
    "    return results"
   ]
  },
  {
   "cell_type": "code",
   "execution_count": 34,
   "metadata": {},
   "outputs": [
    {
     "data": {
      "text/html": [
       "<div><table border=1><tr><th>~</th><th>rows</th><th>#</th><th>1</th><th>2</th><th>3</th><th>4</th><th>5</th><th>6</th><th>7</th><th>8</th><th>9</th><th>10</th><th>11</th></tr><tr><th> 0</th><th>1000000</th><th>0.029</th><th>0.076</th><th>0.285</th><th>0.035</th><th>0.015</th><th>0.048</th><th>0.105</th><th>0.111</th><th>0.083</th><th>0.06</th><th>0.08</th><th>0.46</th></tr><tr><th> 1</th><th>2000000</th><th>0.145</th><th>0.23</th><th>0.561</th><th>0.077</th><th>0.032</th><th>0.103</th><th>0.189</th><th>0.215</th><th>0.159</th><th>0.128</th><th>0.259</th><th>1.489</th></tr><tr><th> 2</th><th>5000000</th><th>0.232</th><th>0.504</th><th>1.352</th><th>0.177</th><th>0.07</th><th>0.236</th><th>0.455</th><th>0.586</th><th>0.467</th><th>0.422</th><th>0.587</th><th>3.309</th></tr><tr><th> 3</th><th>20000000</th><th>1.035</th><th>2.299</th><th>6.413</th><th>0.868</th><th>0.377</th><th>1.205</th><th>2.429</th><th>2.742</th><th>2.122</th><th>1.552</th><th>2.733</th><th>-1</th></tr><tr><th> 4</th><th>50000000</th><th>2.517</th><th>5.242</th><th>13.554</th><th>1.764</th><th>0.742</th><th>2.508</th><th>5.817</th><th>6.229</th><th>4.924</th><th>3.568</th><th>6.202</th><th>-1</th></tr></table></div>"
      ],
      "text/plain": [
       "Table(13 columns, 5 rows)"
      ]
     },
     "execution_count": 34,
     "metadata": {},
     "output_type": "execute_result"
    }
   ],
   "source": [
    "ubm = unique_benchmark(tables)\n",
    "ubm"
   ]
  },
  {
   "attachments": {},
   "cell_type": "markdown",
   "metadata": {},
   "source": [
    "### Table.index\n",
    "\n",
    "Single column index first:"
   ]
  },
  {
   "cell_type": "code",
   "execution_count": 5,
   "metadata": {},
   "outputs": [],
   "source": [
    "def index_benchmark(tables):\n",
    "    results = Table()\n",
    "    results.add_columns(\"rows\", *list(tables[0].columns))\n",
    "    \n",
    "    for table in tables:\n",
    "\n",
    "        tmp = [len(table)]\n",
    "        for column in list(table.columns):\n",
    "            start_time = perf_counter()\n",
    "            try:\n",
    "                _ = table.index(column)\n",
    "                dt = perf_counter() - start_time\n",
    "            except MemoryError:\n",
    "                dt = -1\n",
    "            tmp.append(round(dt,3))\n",
    "            \n",
    "        results.add_rows( tmp )\n",
    "    return results  "
   ]
  },
  {
   "cell_type": "code",
   "execution_count": 6,
   "metadata": {},
   "outputs": [
    {
     "data": {
      "text/html": [
       "<div><table border=1><tr><th>~</th><th>rows</th><th>#</th><th>1</th><th>2</th><th>3</th><th>4</th><th>5</th><th>6</th><th>7</th><th>8</th><th>9</th><th>10</th><th>11</th></tr><tr><th> 0</th><th>1000000</th><th>2.137</th><th>2.217</th><th>1.969</th><th>1.474</th><th>1.349</th><th>1.686</th><th>1.777</th><th>1.726</th><th>1.688</th><th>1.804</th><th>2.539</th><th>2.608</th></tr><tr><th> 1</th><th>2000000</th><th>3.256</th><th>4.309</th><th>3.397</th><th>2.78</th><th>2.582</th><th>3.069</th><th>3.483</th><th>3.765</th><th>3.595</th><th>3.398</th><th>4.414</th><th>5.382</th></tr><tr><th> 2</th><th>5000000</th><th>7.703</th><th>11.054</th><th>9.294</th><th>6.899</th><th>6.492</th><th>7.611</th><th>8.761</th><th>9.233</th><th>8.573</th><th>8.615</th><th>12.064</th><th>13.628</th></tr><tr><th> 3</th><th>20000000</th><th>27.416</th><th>44.765</th><th>35.887</th><th>27.172</th><th>25.231</th><th>32.585</th><th>36.949</th><th>40.579</th><th>36.218</th><th>36.233</th><th>53.008</th><th>-1</th></tr><tr><th> 4</th><th>50000000</th><th>77.05</th><th>-1</th><th>94.48</th><th>73.235</th><th>68.547</th><th>89.568</th><th>93.316</th><th>107.612</th><th>94.574</th><th>87.615</th><th>-1</th><th>-1</th></tr></table></div>"
      ],
      "text/plain": [
       "Table(13 columns, 5 rows)"
      ]
     },
     "execution_count": 6,
     "metadata": {},
     "output_type": "execute_result"
    }
   ],
   "source": [
    "ibm = index_benchmark(tables)\n",
    "ibm"
   ]
  },
  {
   "attachments": {},
   "cell_type": "markdown",
   "metadata": {},
   "source": [
    "Multi-column index next:"
   ]
  },
  {
   "cell_type": "code",
   "execution_count": 7,
   "metadata": {},
   "outputs": [],
   "source": [
    "def multi_column_index_benchmark(tables):\n",
    "    \n",
    "    selection = [\"4\", \"7\", \"8\", \"9\"]\n",
    "    results = Table()\n",
    "    results.add_columns(\"rows\", *range(1,len(selection)+1))\n",
    "    \n",
    "    for table in tables:\n",
    "\n",
    "        tmp = [len(table)]\n",
    "        for index in range(1,5):\n",
    "            start_time = perf_counter()\n",
    "            try:\n",
    "                _ = table.index(*selection[:index])\n",
    "                dt = perf_counter() - start_time\n",
    "            except MemoryError:\n",
    "                dt = -1\n",
    "            tmp.append(round(dt,3))\n",
    "            print('.', end='')\n",
    "            \n",
    "        results.add_rows( tmp )\n",
    "    return results  "
   ]
  },
  {
   "cell_type": "code",
   "execution_count": 8,
   "metadata": {},
   "outputs": [
    {
     "name": "stdout",
     "output_type": "stream",
     "text": [
      "...................."
     ]
    },
    {
     "data": {
      "text/html": [
       "<div><table border=1><tr><th>#</th><th>rows</th><th>1</th><th>2</th><th>3</th><th>4</th></tr><tr><th> 0</th><th>1000000</th><th>1.39</th><th>2.821</th><th>4.397</th><th>5.727</th></tr><tr><th> 1</th><th>2000000</th><th>2.784</th><th>6.422</th><th>9.504</th><th>11.846</th></tr><tr><th> 2</th><th>5000000</th><th>7.428</th><th>15.633</th><th>24.345</th><th>29.918</th></tr><tr><th> 3</th><th>20000000</th><th>26.137</th><th>58.634</th><th>71.697</th><th>88.014</th></tr><tr><th> 4</th><th>50000000</th><th>51.248</th><th>111.458</th><th>199.711</th><th>277.871</th></tr></table></div>"
      ],
      "text/plain": [
       "Table(5 columns, 5 rows)"
      ]
     },
     "execution_count": 8,
     "metadata": {},
     "output_type": "execute_result"
    }
   ],
   "source": [
    "mcib = multi_column_index_benchmark(tables)\n",
    "mcib"
   ]
  },
  {
   "attachments": {},
   "cell_type": "markdown",
   "metadata": {},
   "source": []
  },
  {
   "attachments": {},
   "cell_type": "markdown",
   "metadata": {},
   "source": [
    "### drop duplicates"
   ]
  },
  {
   "cell_type": "code",
   "execution_count": 9,
   "metadata": {},
   "outputs": [],
   "source": [
    "def drop_duplicates_benchmark(tables):\n",
    "    results = Table()\n",
    "    results.add_columns(\"rows\", *list(tables[0].columns))\n",
    "    \n",
    "    for table in tables:\n",
    "        result = [len(table)]\n",
    "        cols = []\n",
    "        for name in list(table.columns):\n",
    "            cols.append(name)\n",
    "            start_time = perf_counter()\n",
    "            try:\n",
    "                _ = table.drop_duplicates(*cols)\n",
    "                dt = perf_counter() - start_time\n",
    "            except MemoryError:\n",
    "                dt = -1\n",
    "            result.append(round(dt,3))\n",
    "            print('.', end='')\n",
    "        \n",
    "        results.add_rows( result )\n",
    "    return results  "
   ]
  },
  {
   "cell_type": "code",
   "execution_count": 10,
   "metadata": {},
   "outputs": [
    {
     "name": "stdout",
     "output_type": "stream",
     "text": [
      "............................................................"
     ]
    },
    {
     "data": {
      "text/html": [
       "<div><table border=1><tr><th>~</th><th>rows</th><th>#</th><th>1</th><th>2</th><th>3</th><th>4</th><th>5</th><th>6</th><th>7</th><th>8</th><th>9</th><th>10</th><th>11</th></tr><tr><th> 0</th><th>1000000</th><th>1.938</th><th>2.618</th><th>3.642</th><th>4.134</th><th>4.671</th><th>5.35</th><th>6.122</th><th>7.023</th><th>8.177</th><th>8.803</th><th>9.732</th><th>10.592</th></tr><tr><th> 1</th><th>2000000</th><th>3.293</th><th>5.43</th><th>7.463</th><th>8.477</th><th>9.877</th><th>11.128</th><th>12.827</th><th>14.525</th><th>16.132</th><th>17.881</th><th>19.425</th><th>21.139</th></tr><tr><th> 2</th><th>5000000</th><th>7.659</th><th>15.548</th><th>20.223</th><th>24.287</th><th>26.38</th><th>29.184</th><th>34.305</th><th>37.783</th><th>43.767</th><th>47.242</th><th>51.103</th><th>54.436</th></tr><tr><th> 3</th><th>20000000</th><th>28.678</th><th>95.208</th><th>115.217</th><th>128.839</th><th>145.537</th><th>153.951</th><th>168.905</th><th>199.555</th><th>260.216</th><th>291.375</th><th>310.241</th><th>318.941</th></tr><tr><th> 4</th><th>50000000</th><th>93.145</th><th>-1</th><th>-1</th><th>-1</th><th>-1</th><th>-1</th><th>-1</th><th>-1</th><th>-1</th><th>-1</th><th>-1</th><th>-1</th></tr></table></div>"
      ],
      "text/plain": [
       "Table(13 columns, 5 rows)"
      ]
     },
     "execution_count": 10,
     "metadata": {},
     "output_type": "execute_result"
    }
   ],
   "source": [
    "ddb = drop_duplicates_benchmark(tables)\n",
    "ddb"
   ]
  }
 ],
 "metadata": {
  "kernelspec": {
   "display_name": "tablite310",
   "language": "python",
   "name": "python3"
  },
  "language_info": {
   "codemirror_mode": {
    "name": "ipython",
    "version": 3
   },
   "file_extension": ".py",
   "mimetype": "text/x-python",
   "name": "python",
   "nbconvert_exporter": "python",
   "pygments_lexer": "ipython3",
   "version": "3.10.11"
  },
  "orig_nbformat": 4
 },
 "nbformat": 4,
 "nbformat_minor": 2
}
