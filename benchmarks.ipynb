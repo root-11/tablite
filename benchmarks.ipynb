{
 "cells": [
  {
   "attachments": {},
   "cell_type": "markdown",
   "metadata": {},
   "source": [
    "# Benchmarks\n",
    "\n",
    "These benchmarks seek to establish the performance of tablite as a user sees it.\n",
    "\n",
    "Overview\n",
    "\n",
    "**Input/Output:**\n",
    "\n",
    "- Save / Load .tpz format\n",
    "- Save tables to various formats\n",
    "- Import data from various formats\n",
    "\n",
    "**Various column functions:**\n",
    "\n",
    "- Setitem / getitem\n",
    "- iter\n",
    "- equal, not equal\n",
    "- copy\n",
    "- t += t\n",
    "- t *= t\n",
    "- contains\n",
    "- remove all\n",
    "- replace\n",
    "- index\n",
    "- unique\n",
    "- histogram\n",
    "- statistics\n",
    "- count\n",
    "\n",
    "\n",
    "**Various table functions**\n",
    "\n",
    "- **base**\n",
    "  - Setitem / getitem\n",
    "  - iter / rows\n",
    "  - equal, not equal\n",
    "  - load\n",
    "  - save\n",
    "  - copy\n",
    "  - stack\n",
    "  - types\n",
    "  - display_dict\n",
    "  - show\n",
    "  - to_dict\n",
    "  - as_json_serializable\n",
    "  - index\n",
    "- **core**\n",
    "  - expression\n",
    "  - filter\n",
    "  - sort_index\n",
    "  - reindex\n",
    "  - drop_duplicates\n",
    "  - sort\n",
    "  - is_sorted\n",
    "  - any\n",
    "  - all\n",
    "  - drop \n",
    "  - replace\n",
    "  - groupby\n",
    "  - pivot\n",
    "  - joins\n",
    "  - lookup\n",
    "  - replace missing values\n",
    "  - transpose\n",
    "  - pivot_transpose\n",
    "  - diff\n",
    "\n",
    "\n",
    "\n",
    "\n"
   ]
  },
  {
   "cell_type": "code",
   "execution_count": 1,
   "metadata": {},
   "outputs": [],
   "source": [
    "from tablite import Table\n",
    "from tablite.datasets import synthetic_order_data\n",
    "import psutil, os, gc\n",
    "import tempfile\n",
    "from pathlib import Path\n",
    "from time import perf_counter, time\n",
    "from tablite.config import Config"
   ]
  },
  {
   "attachments": {},
   "cell_type": "markdown",
   "metadata": {},
   "source": [
    "### Create tables from synthetic data."
   ]
  },
  {
   "cell_type": "code",
   "execution_count": 2,
   "metadata": {},
   "outputs": [
    {
     "name": "stdout",
     "output_type": "stream",
     "text": [
      "Table 1,000,000 rows is 240 Mb on disk\n",
      "Table 2,000,000 rows is 480 Mb on disk\n",
      "Table 5,000,000 rows is 1,200 Mb on disk\n",
      "Table 10,000,000 rows is 2,400 Mb on disk\n",
      "Table 50,000,000 rows is 12,000 Mb on disk\n",
      "Table 100,000,000 rows is 24,000 Mb on disk\n"
     ]
    }
   ],
   "source": [
    "process = psutil.Process(os.getpid())\n",
    "\n",
    "# The last tables are too big for RAM (~24Gb), so I create subtables of 1M rows and append them.\n",
    "t = synthetic_order_data(Config.PAGE_SIZE)\n",
    "real, flat = t.nbytes()\n",
    "print(f\"Table {len(t):,} rows is {real/1e6:,.0f} Mb on disk\")\n",
    "\n",
    "tables = [t]  # 1M rows.\n",
    "\n",
    "last = 1\n",
    "t2 = t.copy()\n",
    "for i in [2,5,10,50,100]:\n",
    "    t2 = t2.copy()\n",
    "    for _ in range(i-last):\n",
    "        t2 += synthetic_order_data(Config.PAGE_SIZE)  # these are all unique\n",
    "    last = i\n",
    "    real, flat = t2.nbytes()\n",
    "    tables.append(t2)\n",
    "    print(f\"Table {len(t2):,} rows is {real/1e6:,.0f} Mb on disk\")\n"
   ]
  },
  {
   "attachments": {},
   "cell_type": "markdown",
   "metadata": {},
   "source": [
    "The values in the tables above are all unique!"
   ]
  },
  {
   "cell_type": "code",
   "execution_count": 3,
   "metadata": {},
   "outputs": [
    {
     "data": {
      "text/html": [
       "<div><table border=1><tr><th>~</th><th>#</th><th>1</th><th>2</th><th>3</th><th>4</th><th>5</th><th>6</th><th>7</th><th>8</th><th>9</th><th>10</th><th>11</th></tr><tr><th>          0</th><th>1</th><th>1079926602902</th><th>2021-10-25T00:00:00</th><th>50676</th><th>0</th><th>22601</th><th>C4-2</th><th>UFT</th><th>21°</th><th></th><th>0.5293805718828299</th><th>24.88623347325216</th></tr><tr><th>          1</th><th>2</th><th>54327796673</th><th>2021-09-05T00:00:00</th><th>50926</th><th>1</th><th>5138</th><th>C5-1</th><th>PJJ</th><th>6°</th><th>XYZ</th><th>0.3172481517567028</th><th>12.08809019382787</th></tr><tr><th>          2</th><th>3</th><th>1371151075893</th><th>2021-09-05T00:00:00</th><th>50903</th><th>1</th><th>4088</th><th>C5-4</th><th>CFZ</th><th>None</th><th>XYZ</th><th>1.6077852584113865</th><th>4.826606198591954</th></tr><tr><th>          3</th><th>4</th><th>1213334662745</th><th>2021-10-24T00:00:00</th><th>50844</th><th>1</th><th>29894</th><th>C2-2</th><th>KUU</th><th>None</th><th>XYZ</th><th>1.2299011666688038</th><th>2.244490050711462</th></tr><tr><th>          4</th><th>5</th><th>1370511499258</th><th>2021-10-30T00:00:00</th><th>50623</th><th>0</th><th>17906</th><th>C5-4</th><th>USK</th><th>None</th><th>ABC</th><th>0.6522462280897741</th><th>5.348279367472272</th></tr><tr><th>          5</th><th>6</th><th>2260884629103</th><th>2021-11-21T00:00:00</th><th>50891</th><th>1</th><th>11088</th><th>C3-4</th><th>XQO</th><th>0°</th><th></th><th>2.14612856506421</th><th>20.436899279546175</th></tr><tr><th>          6</th><th>7</th><th>1544783389658</th><th>2021-08-06T00:00:00</th><th>50793</th><th>1</th><th>13158</th><th>C2-1</th><th>XLK</th><th>0°</th><th>XYZ</th><th>0.1134401497695328</th><th>6.327913859721181</th></tr><tr><th>...</th><th>...</th><th>...</th><th>...</th><th>...</th><th>...</th><th>...</th><th>...</th><th>...</th><th>...</th><th>...</th><th>...</th><th>...</th></tr><tr><th> 99,999,993</th><th>999994</th><th>1627489453824</th><th>2021-11-14T00:00:00</th><th>50273</th><th>0</th><th>11321</th><th>C3-3</th><th>GTR</th><th>None</th><th></th><th>2.34952984429615</th><th>8.457874359613998</th></tr><tr><th> 99,999,994</th><th>999995</th><th>638276767240</th><th>2021-07-31T00:00:00</th><th>50047</th><th>1</th><th>27487</th><th>C2-3</th><th>SUS</th><th>None</th><th>XYZ</th><th>1.251194412058548</th><th>18.336733533793645</th></tr><tr><th> 99,999,995</th><th>999996</th><th>1711686709536</th><th>2021-10-14T00:00:00</th><th>50731</th><th>1</th><th>19288</th><th>C5-4</th><th>QNJ</th><th>6°</th><th>XYZ</th><th>0.7215581047194111</th><th>21.31969612529439</th></tr><tr><th> 99,999,996</th><th>999997</th><th>1669947038975</th><th>2021-10-03T00:00:00</th><th>50797</th><th>0</th><th>5378</th><th>C4-1</th><th>IGE</th><th>0°</th><th>XYZ</th><th>0.610860186854518</th><th>15.067119004336625</th></tr><tr><th> 99,999,997</th><th>999998</th><th>1012065454200</th><th>2021-08-13T00:00:00</th><th>50417</th><th>1</th><th>20747</th><th>C1-4</th><th>SLK</th><th>6°</th><th></th><th>0.31014073610259496</th><th>21.22180023915366</th></tr><tr><th> 99,999,998</th><th>999999</th><th>744738193264</th><th>2021-12-22T00:00:00</th><th>50237</th><th>1</th><th>8008</th><th>C4-2</th><th>AZU</th><th>None</th><th>ABC</th><th>0.5100762774159668</th><th>18.237871150972108</th></tr><tr><th> 99,999,999</th><th>1000000</th><th>1214151947590</th><th>2021-10-31T00:00:00</th><th>50136</th><th>0</th><th>11323</th><th>C5-2</th><th>YQC</th><th>None</th><th></th><th>1.6755726590640052</th><th>21.654000692133142</th></tr></table></div>"
      ],
      "text/plain": [
       "Table(12 columns, 100,000,000 rows)"
      ]
     },
     "execution_count": 3,
     "metadata": {},
     "output_type": "execute_result"
    }
   ],
   "source": [
    "tables[-1]"
   ]
  },
  {
   "attachments": {},
   "cell_type": "markdown",
   "metadata": {},
   "source": [
    "### Save / Load .tpz format\n",
    "\n",
    "Without compression (fastest)"
   ]
  },
  {
   "cell_type": "code",
   "execution_count": 4,
   "metadata": {},
   "outputs": [
    {
     "name": "stdout",
     "output_type": "stream",
     "text": [
      "saving 1,000,000 rows (240 Mb) took 0.3733541999999943 seconds\n"
     ]
    },
    {
     "name": "stderr",
     "output_type": "stream",
     "text": [
      "importing '1000000.tpz' file: 100%|██████████| 12/12 [00:00<00:00, 26.60it/s]\n"
     ]
    },
    {
     "name": "stdout",
     "output_type": "stream",
     "text": [
      "loading 1,000,000 tows took 0.4729399000000285 seconds\n",
      "saving 2,000,000 rows (480 Mb) took 0.8157509000000118 seconds\n"
     ]
    },
    {
     "name": "stderr",
     "output_type": "stream",
     "text": [
      "importing '2000000.tpz' file: 100%|██████████| 24/24 [00:00<00:00, 25.39it/s]\n"
     ]
    },
    {
     "name": "stdout",
     "output_type": "stream",
     "text": [
      "loading 2,000,000 tows took 0.9655413000000408 seconds\n",
      "saving 5,000,000 rows (1,200 Mb) took 2.079202199999827 seconds\n"
     ]
    },
    {
     "name": "stderr",
     "output_type": "stream",
     "text": [
      "importing '5000000.tpz' file: 100%|██████████| 60/60 [00:02<00:00, 23.98it/s]\n"
     ]
    },
    {
     "name": "stdout",
     "output_type": "stream",
     "text": [
      "loading 5,000,000 tows took 2.5215765000000374 seconds\n",
      "saving 10,000,000 rows (2,400 Mb) took 8.23240439999995 seconds\n"
     ]
    },
    {
     "name": "stderr",
     "output_type": "stream",
     "text": [
      "importing '10000000.tpz' file: 100%|██████████| 120/120 [00:10<00:00, 11.76it/s]\n"
     ]
    },
    {
     "name": "stdout",
     "output_type": "stream",
     "text": [
      "loading 10,000,000 tows took 10.247176000000081 seconds\n",
      "saving 50,000,000 rows (12,000 Mb) took 41.14490069999988 seconds\n"
     ]
    },
    {
     "name": "stderr",
     "output_type": "stream",
     "text": [
      "importing '50000000.tpz' file: 100%|██████████| 600/600 [01:45<00:00,  5.70it/s]\n"
     ]
    },
    {
     "name": "stdout",
     "output_type": "stream",
     "text": [
      "loading 50,000,000 tows took 105.41181819999997 seconds\n",
      "saving 100,000,000 rows (24,000 Mb) took 62.514134600000034 seconds\n"
     ]
    },
    {
     "name": "stderr",
     "output_type": "stream",
     "text": [
      "importing '100000000.tpz' file: 100%|██████████| 1200/1200 [03:30<00:00,  5.70it/s]\n"
     ]
    },
    {
     "name": "stdout",
     "output_type": "stream",
     "text": [
      "loading 100,000,000 tows took 210.60625939999977 seconds\n"
     ]
    }
   ],
   "source": [
    "tmp = Path(tempfile.gettempdir()) / \"junk\"\n",
    "tmp.mkdir(exist_ok=True)\n",
    "\n",
    "save_load_results = Table()\n",
    "save_load_results.add_columns('rows', 'save (sec)', 'load (sec)')\n",
    "for t in tables:\n",
    "    fn = tmp / f'{len(t)}.tpz'\n",
    "    start = perf_counter()\n",
    "    t.save(fn)\n",
    "    end = perf_counter()\n",
    "    save = round(end-start,3)\n",
    "    assert fn.exists()\n",
    "    print(f\"saving {len(t):,} rows ({fn.stat().st_size/1e6:,.0f} Mb) took {end-start:,} seconds\")\n",
    "    \n",
    "    start = perf_counter()\n",
    "    t2 = Table.load(fn)\n",
    "    end = perf_counter()\n",
    "    load = round(end-start,3)\n",
    "    print(f\"loading {len(t2):,} tows took {end-start:,} seconds\")\n",
    "    del t2\n",
    "    fn.unlink()\n",
    "    save_load_results.add_rows(len(t), save, load)"
   ]
  },
  {
   "cell_type": "code",
   "execution_count": 5,
   "metadata": {},
   "outputs": [
    {
     "data": {
      "text/html": [
       "<div><table border=1><tr><th>#</th><th>rows</th><th>save (sec)</th><th>load (sec)</th><th>save r/sec</th><th>load r/sec</th></tr><tr><th> 0</th><th>1000000</th><th>0.373</th><th>0.473</th><th>2680965</th><th>2114164</th></tr><tr><th> 1</th><th>2000000</th><th>0.816</th><th>0.966</th><th>2450980</th><th>2070393</th></tr><tr><th> 2</th><th>5000000</th><th>2.079</th><th>2.522</th><th>2405002</th><th>1982553</th></tr><tr><th> 3</th><th>10000000</th><th>8.232</th><th>10.247</th><th>1214771</th><th>975895</th></tr><tr><th> 4</th><th>50000000</th><th>41.145</th><th>105.412</th><th>1215214</th><th>474329</th></tr><tr><th> 5</th><th>100000000</th><th>62.514</th><th>210.606</th><th>1599641</th><th>474820</th></tr></table></div>"
      ],
      "text/plain": [
       "Table(5 columns, 6 rows)"
      ]
     },
     "execution_count": 5,
     "metadata": {},
     "output_type": "execute_result"
    }
   ],
   "source": [
    "r = save_load_results\n",
    "r['save r/sec'] = [int(a/b) if b!=0  else \"nil\" for a,b in zip(r['rows'], r['save (sec)']) ]\n",
    "r['load r/sec'] = [int(a/b) if b!=0  else \"nil\" for a,b in zip(r['rows'], r['load (sec)'])]\n",
    "save_load_results"
   ]
  },
  {
   "attachments": {},
   "cell_type": "markdown",
   "metadata": {},
   "source": [
    "With various compression options"
   ]
  },
  {
   "cell_type": "code",
   "execution_count": 6,
   "metadata": {},
   "outputs": [
    {
     "name": "stdout",
     "output_type": "stream",
     "text": [
      "saving 1,000,000 rows (240 Mb) took 0.501 secconds with zip stored(level=None)\n"
     ]
    },
    {
     "name": "stderr",
     "output_type": "stream",
     "text": [
      "importing '1000000.tpz' file: 100%|██████████| 12/12 [00:00<00:00, 28.26it/s]\n"
     ]
    },
    {
     "name": "stdout",
     "output_type": "stream",
     "text": [
      "loading 1,000,000 rows took 0.43679130000009536 seconds\n",
      "saving 1,000,000 rows (29 Mb) took 99.218 secconds with zip lzma(level=None)\n"
     ]
    },
    {
     "name": "stderr",
     "output_type": "stream",
     "text": [
      "importing '1000000.tpz' file: 100%|██████████| 12/12 [00:02<00:00,  4.13it/s]\n"
     ]
    },
    {
     "name": "stdout",
     "output_type": "stream",
     "text": [
      "loading 1,000,000 rows took 2.922788599999876 seconds\n",
      "saving 1,000,000 rows (240 Mb) took 1.66 secconds with zip deflated(level=0)\n"
     ]
    },
    {
     "name": "stderr",
     "output_type": "stream",
     "text": [
      "importing '1000000.tpz' file: 100%|██████████| 12/12 [00:00<00:00, 21.96it/s]\n"
     ]
    },
    {
     "name": "stdout",
     "output_type": "stream",
     "text": [
      "loading 1,000,000 rows took 0.5594937999999274 seconds\n",
      "saving 1,000,000 rows (48 Mb) took 1.825 secconds with zip deflated(level=1)\n"
     ]
    },
    {
     "name": "stderr",
     "output_type": "stream",
     "text": [
      "importing '1000000.tpz' file: 100%|██████████| 12/12 [00:00<00:00, 13.31it/s]\n"
     ]
    },
    {
     "name": "stdout",
     "output_type": "stream",
     "text": [
      "loading 1,000,000 rows took 0.9130832999999257 seconds\n",
      "saving 1,000,000 rows (46 Mb) took 2.271 secconds with zip deflated(level=2)\n"
     ]
    },
    {
     "name": "stderr",
     "output_type": "stream",
     "text": [
      "importing '1000000.tpz' file: 100%|██████████| 12/12 [00:00<00:00, 14.12it/s]\n"
     ]
    },
    {
     "name": "stdout",
     "output_type": "stream",
     "text": [
      "loading 1,000,000 rows took 0.8643573999997898 seconds\n",
      "saving 1,000,000 rows (43 Mb) took 3.015 secconds with zip deflated(level=3)\n"
     ]
    },
    {
     "name": "stderr",
     "output_type": "stream",
     "text": [
      "importing '1000000.tpz' file: 100%|██████████| 12/12 [00:00<00:00, 17.06it/s]\n"
     ]
    },
    {
     "name": "stdout",
     "output_type": "stream",
     "text": [
      "loading 1,000,000 rows took 0.7156291000001147 seconds\n",
      "saving 1,000,000 rows (43 Mb) took 3.27 secconds with zip deflated(level=4)\n"
     ]
    },
    {
     "name": "stderr",
     "output_type": "stream",
     "text": [
      "importing '1000000.tpz' file: 100%|██████████| 12/12 [00:00<00:00, 13.43it/s]\n"
     ]
    },
    {
     "name": "stdout",
     "output_type": "stream",
     "text": [
      "loading 1,000,000 rows took 0.9049110999999357 seconds\n",
      "saving 1,000,000 rows (42 Mb) took 4.627 secconds with zip deflated(level=5)\n"
     ]
    },
    {
     "name": "stderr",
     "output_type": "stream",
     "text": [
      "importing '1000000.tpz' file: 100%|██████████| 12/12 [00:00<00:00, 15.05it/s]\n"
     ]
    },
    {
     "name": "stdout",
     "output_type": "stream",
     "text": [
      "loading 1,000,000 rows took 0.8081104000002597 seconds\n",
      "saving 1,000,000 rows (39 Mb) took 9.057 secconds with zip deflated(level=6)\n"
     ]
    },
    {
     "name": "stderr",
     "output_type": "stream",
     "text": [
      "importing '1000000.tpz' file: 100%|██████████| 12/12 [00:00<00:00, 15.79it/s]\n"
     ]
    },
    {
     "name": "stdout",
     "output_type": "stream",
     "text": [
      "loading 1,000,000 rows took 0.7721261000001505 seconds\n",
      "saving 1,000,000 rows (39 Mb) took 13.639 secconds with zip deflated(level=7)\n"
     ]
    },
    {
     "name": "stderr",
     "output_type": "stream",
     "text": [
      "importing '1000000.tpz' file: 100%|██████████| 12/12 [00:00<00:00, 16.05it/s]\n"
     ]
    },
    {
     "name": "stdout",
     "output_type": "stream",
     "text": [
      "loading 1,000,000 rows took 0.7578780999997434 seconds\n",
      "saving 1,000,000 rows (38 Mb) took 55.605 secconds with zip deflated(level=8)\n"
     ]
    },
    {
     "name": "stderr",
     "output_type": "stream",
     "text": [
      "importing '1000000.tpz' file: 100%|██████████| 12/12 [00:00<00:00, 16.98it/s]\n"
     ]
    },
    {
     "name": "stdout",
     "output_type": "stream",
     "text": [
      "loading 1,000,000 rows took 0.7176447000001644 seconds\n",
      "saving 1,000,000 rows (37 Mb) took 117.313 secconds with zip deflated(level=9)\n"
     ]
    },
    {
     "name": "stderr",
     "output_type": "stream",
     "text": [
      "importing '1000000.tpz' file: 100%|██████████| 12/12 [00:00<00:00, 16.69it/s]\n"
     ]
    },
    {
     "name": "stdout",
     "output_type": "stream",
     "text": [
      "loading 1,000,000 rows took 0.7334209000000556 seconds\n",
      "saving 1,000,000 rows (29 Mb) took 14.794 secconds with zip bzip2(level=1)\n"
     ]
    },
    {
     "name": "stderr",
     "output_type": "stream",
     "text": [
      "importing '1000000.tpz' file: 100%|██████████| 12/12 [00:04<00:00,  3.00it/s]\n"
     ]
    },
    {
     "name": "stdout",
     "output_type": "stream",
     "text": [
      "loading 1,000,000 rows took 4.01251480000019 seconds\n",
      "saving 1,000,000 rows (29 Mb) took 16.274 secconds with zip bzip2(level=2)\n"
     ]
    },
    {
     "name": "stderr",
     "output_type": "stream",
     "text": [
      "importing '1000000.tpz' file: 100%|██████████| 12/12 [00:04<00:00,  2.87it/s]\n"
     ]
    },
    {
     "name": "stdout",
     "output_type": "stream",
     "text": [
      "loading 1,000,000 rows took 4.193540599999778 seconds\n",
      "saving 1,000,000 rows (29 Mb) took 17.426 secconds with zip bzip2(level=3)\n"
     ]
    },
    {
     "name": "stderr",
     "output_type": "stream",
     "text": [
      "importing '1000000.tpz' file: 100%|██████████| 12/12 [00:04<00:00,  2.88it/s]\n"
     ]
    },
    {
     "name": "stdout",
     "output_type": "stream",
     "text": [
      "loading 1,000,000 rows took 4.190689399999883 seconds\n",
      "saving 1,000,000 rows (29 Mb) took 17.627 secconds with zip bzip2(level=4)\n"
     ]
    },
    {
     "name": "stderr",
     "output_type": "stream",
     "text": [
      "importing '1000000.tpz' file: 100%|██████████| 12/12 [00:04<00:00,  2.48it/s]\n"
     ]
    },
    {
     "name": "stdout",
     "output_type": "stream",
     "text": [
      "loading 1,000,000 rows took 4.852936799999952 seconds\n",
      "saving 1,000,000 rows (29 Mb) took 18.222 secconds with zip bzip2(level=5)\n"
     ]
    },
    {
     "name": "stderr",
     "output_type": "stream",
     "text": [
      "importing '1000000.tpz' file: 100%|██████████| 12/12 [00:05<00:00,  2.34it/s]\n"
     ]
    },
    {
     "name": "stdout",
     "output_type": "stream",
     "text": [
      "loading 1,000,000 rows took 5.134584800000084 seconds\n",
      "saving 1,000,000 rows (29 Mb) took 19.099 secconds with zip bzip2(level=6)\n"
     ]
    },
    {
     "name": "stderr",
     "output_type": "stream",
     "text": [
      "importing '1000000.tpz' file: 100%|██████████| 12/12 [00:05<00:00,  2.32it/s]\n"
     ]
    },
    {
     "name": "stdout",
     "output_type": "stream",
     "text": [
      "loading 1,000,000 rows took 5.196291899999778 seconds\n",
      "saving 1,000,000 rows (29 Mb) took 18.892 secconds with zip bzip2(level=7)\n"
     ]
    },
    {
     "name": "stderr",
     "output_type": "stream",
     "text": [
      "importing '1000000.tpz' file: 100%|██████████| 12/12 [00:05<00:00,  2.20it/s]\n"
     ]
    },
    {
     "name": "stdout",
     "output_type": "stream",
     "text": [
      "loading 1,000,000 rows took 5.476160300000174 seconds\n",
      "saving 1,000,000 rows (29 Mb) took 19.489 secconds with zip bzip2(level=8)\n"
     ]
    },
    {
     "name": "stderr",
     "output_type": "stream",
     "text": [
      "importing '1000000.tpz' file: 100%|██████████| 12/12 [00:05<00:00,  2.17it/s]\n"
     ]
    },
    {
     "name": "stdout",
     "output_type": "stream",
     "text": [
      "loading 1,000,000 rows took 5.540870600000289 seconds\n",
      "saving 1,000,000 rows (29 Mb) took 19.395 secconds with zip bzip2(level=9)\n"
     ]
    },
    {
     "name": "stderr",
     "output_type": "stream",
     "text": [
      "importing '1000000.tpz' file: 100%|██████████| 12/12 [00:05<00:00,  2.20it/s]"
     ]
    },
    {
     "name": "stdout",
     "output_type": "stream",
     "text": [
      "loading 1,000,000 rows took 5.485102800000277 seconds\n"
     ]
    },
    {
     "name": "stderr",
     "output_type": "stream",
     "text": [
      "\n"
     ]
    }
   ],
   "source": [
    "tmp = Path(tempfile.gettempdir()) / \"junk\"\n",
    "tmp.mkdir(exist_ok=True)\n",
    "\n",
    "t = tables[0]  # 1 m rows\n",
    "\n",
    "import zipfile  # https://docs.python.org/3/library/zipfile.html#zipfile.ZipFile\n",
    "methods = [(None, zipfile.ZIP_STORED, \"zip stored\"), (None, zipfile.ZIP_LZMA, \"zip lzma\")]\n",
    "methods += [(i, zipfile.ZIP_DEFLATED, \"zip deflated\") for i in range(0,10)]\n",
    "methods += [(i, zipfile.ZIP_BZIP2, \"zip bzip2\") for i in range(1,10)]\n",
    "\n",
    "load_and_save_results = Table()\n",
    "load_and_save_results.add_columns('file size (Mb)', 'method', 'write (sec)', 'read (sec)')\n",
    "for level, method, name in methods:\n",
    "    fn = tmp / f'{len(t)}.tpz'\n",
    "    start = perf_counter()  \n",
    "    t.save(fn, compression_method=method, compression_level=level)\n",
    "    end = perf_counter()\n",
    "    write = round(end-start,3)\n",
    "    assert fn.exists()\n",
    "    size = int(fn.stat().st_size/1e6)\n",
    "    print(f\"saving {len(t):,} rows ({size} Mb) took {write} secconds with {name}(level={level})\")\n",
    "    \n",
    "    start = perf_counter()\n",
    "    t2 = Table.load(fn)\n",
    "    end = perf_counter()\n",
    "    read = round(end-start,3)\n",
    "    print(f\"loading {len(t2):,} rows took {end-start:,} seconds\")\n",
    "    \n",
    "    del t2\n",
    "    fn.unlink()\n",
    "    load_and_save_results.add_rows(size, f\"{name}(level={level})\", write, read)"
   ]
  },
  {
   "cell_type": "code",
   "execution_count": 7,
   "metadata": {},
   "outputs": [
    {
     "name": "stderr",
     "output_type": "stream",
     "text": [
      "creating sort index: 100%|██████████| 1/1 [00:00<00:00, 199.03it/s]\n"
     ]
    }
   ],
   "source": [
    "r = load_and_save_results\n",
    "r.sort({'write (sec)':True})\n",
    "r['write (rps)'] = [int(1_000_000/b) for b in r['write (sec)']]\n",
    "r['read (rps)'] = [int(1_000_000/b) for b in r['read (sec)']]"
   ]
  },
  {
   "cell_type": "code",
   "execution_count": 8,
   "metadata": {},
   "outputs": [
    {
     "data": {
      "text/html": [
       "<div><table border=1><tr><th>#</th><th>file size (Mb)</th><th>method</th><th>write (sec)</th><th>read (sec)</th><th>write (rps)</th><th>read (rps)</th></tr><tr><th> 0</th><th>37</th><th>zip deflated(level=9)</th><th>117.313</th><th>0.733</th><th>8524</th><th>1364256</th></tr><tr><th> 1</th><th>29</th><th>zip lzma(level=None)</th><th>99.218</th><th>2.923</th><th>10078</th><th>342114</th></tr><tr><th> 2</th><th>38</th><th>zip deflated(level=8)</th><th>55.605</th><th>0.718</th><th>17983</th><th>1392757</th></tr><tr><th> 3</th><th>29</th><th>zip bzip2(level=8)</th><th>19.489</th><th>5.541</th><th>51310</th><th>180472</th></tr><tr><th> 4</th><th>29</th><th>zip bzip2(level=9)</th><th>19.395</th><th>5.485</th><th>51559</th><th>182315</th></tr><tr><th> 5</th><th>29</th><th>zip bzip2(level=6)</th><th>19.099</th><th>5.196</th><th>52358</th><th>192455</th></tr><tr><th> 6</th><th>29</th><th>zip bzip2(level=7)</th><th>18.892</th><th>5.476</th><th>52932</th><th>182615</th></tr><tr><th> 7</th><th>29</th><th>zip bzip2(level=5)</th><th>18.222</th><th>5.135</th><th>54878</th><th>194741</th></tr><tr><th> 8</th><th>29</th><th>zip bzip2(level=4)</th><th>17.627</th><th>4.853</th><th>56731</th><th>206058</th></tr><tr><th> 9</th><th>29</th><th>zip bzip2(level=3)</th><th>17.426</th><th>4.191</th><th>57385</th><th>238606</th></tr><tr><th>10</th><th>29</th><th>zip bzip2(level=2)</th><th>16.274</th><th>4.194</th><th>61447</th><th>238435</th></tr><tr><th>11</th><th>29</th><th>zip bzip2(level=1)</th><th>14.794</th><th>4.013</th><th>67594</th><th>249190</th></tr><tr><th>12</th><th>39</th><th>zip deflated(level=7)</th><th>13.639</th><th>0.758</th><th>73319</th><th>1319261</th></tr><tr><th>13</th><th>39</th><th>zip deflated(level=6)</th><th>9.057</th><th>0.772</th><th>110411</th><th>1295336</th></tr><tr><th>14</th><th>42</th><th>zip deflated(level=5)</th><th>4.627</th><th>0.808</th><th>216122</th><th>1237623</th></tr><tr><th>15</th><th>43</th><th>zip deflated(level=4)</th><th>3.27</th><th>0.905</th><th>305810</th><th>1104972</th></tr><tr><th>16</th><th>43</th><th>zip deflated(level=3)</th><th>3.015</th><th>0.716</th><th>331674</th><th>1396648</th></tr><tr><th>17</th><th>46</th><th>zip deflated(level=2)</th><th>2.271</th><th>0.864</th><th>440334</th><th>1157407</th></tr><tr><th>18</th><th>48</th><th>zip deflated(level=1)</th><th>1.825</th><th>0.913</th><th>547945</th><th>1095290</th></tr><tr><th>19</th><th>240</th><th>zip deflated(level=0)</th><th>1.66</th><th>0.559</th><th>602409</th><th>1788908</th></tr></table></div>"
      ],
      "text/plain": [
       "Table(6 columns, 20 rows)"
      ]
     },
     "execution_count": 8,
     "metadata": {},
     "output_type": "execute_result"
    }
   ],
   "source": [
    "load_and_save_results[0:20]"
   ]
  },
  {
   "attachments": {},
   "cell_type": "markdown",
   "metadata": {},
   "source": [
    "**Conclusions**\n",
    "\n",
    "- Fastest: zip stored with no compression takes handles "
   ]
  },
  {
   "attachments": {},
   "cell_type": "markdown",
   "metadata": {},
   "source": [
    "### Save / load tables to / from various formats\n",
    "\n",
    "The handlers for saving / export are:\n",
    "\n",
    "- to_sql\n",
    "- to_json\n",
    "- to_xls\n",
    "- to_ods\n",
    "- to_csv\n",
    "- to_tsv\n",
    "- to_text\n",
    "- to_html\n",
    "- to_hdf5\n"
   ]
  },
  {
   "cell_type": "code",
   "execution_count": 9,
   "metadata": {},
   "outputs": [],
   "source": [
    "n_rows = 10_000_000\n",
    "L = [t for t in tables if len(t)>=n_rows]\n",
    "t = L[0]\n",
    "\n",
    "tmp = Path(tempfile.gettempdir()) / \"junk\"\n",
    "tmp.mkdir(exist_ok=True)"
   ]
  },
  {
   "cell_type": "code",
   "execution_count": 10,
   "metadata": {},
   "outputs": [],
   "source": [
    "tmp = Path(tempfile.gettempdir()) / \"junk\"\n",
    "tmp.mkdir(exist_ok=True)\n",
    "\n",
    "import_export_results = Table()\n",
    "import_export_results.add_columns('method', 'write (s)', 'read (s)', 'rows', 'size (Mb)', 'config')"
   ]
  },
  {
   "cell_type": "code",
   "execution_count": 11,
   "metadata": {},
   "outputs": [],
   "source": [
    "def to_sql_benchmark(t, rows=1_000_000):\n",
    "    t2 = t[:rows]\n",
    "    write_start = time()\n",
    "    _ = t2.to_sql(name='1')\n",
    "    write_end = time()\n",
    "    write = round(write_end-write_start,3)\n",
    "    import_export_results.add_rows( t.to_sql.__name__, write, 0, len(t), \"\" , \"\" ) \n",
    "\n",
    "to_sql_benchmark(t)"
   ]
  },
  {
   "cell_type": "code",
   "execution_count": 12,
   "metadata": {},
   "outputs": [],
   "source": [
    "def to_json_benchmark(t, rows=1_000_000):\n",
    "    t2 = t[:rows]\n",
    "    path = tmp / \"1.json\"    \n",
    "    write_start = time()\n",
    "    bytestr = t2.to_json()\n",
    "    with path.open('w') as fo:\n",
    "        fo.write(bytestr)\n",
    "    write_end = time()\n",
    "    write = round(write_end-write_start,3)\n",
    "\n",
    "    read_start = time()\n",
    "    with path.open('r') as fi:\n",
    "        _ = Table.from_json(fi.read())  # <-- JSON\n",
    "    read_end = time()\n",
    "    read = round(read_end-read_start,3)\n",
    "\n",
    "    import_export_results.add_rows( t.to_json.__name__, write, read, len(t), int(path.stat().st_size/1e6), \"\" ) \n",
    "\n",
    "to_json_benchmark(t)"
   ]
  },
  {
   "cell_type": "code",
   "execution_count": 13,
   "metadata": {},
   "outputs": [
    {
     "name": "stdout",
     "output_type": "stream",
     "text": [
      "to_xlsx 100000\n",
      "to_ods 100000\n",
      "to_csv 1000000\n"
     ]
    },
    {
     "name": "stderr",
     "output_type": "stream",
     "text": [
      "100%|██████████| 1000000/1000000 [00:19<00:00, 50799.84it/s]\n",
      "importing: consolidating '1.csv': 100.00%|██████████| [00:19<00:00]\n"
     ]
    },
    {
     "name": "stdout",
     "output_type": "stream",
     "text": [
      "to_csv 1000000\n"
     ]
    },
    {
     "name": "stderr",
     "output_type": "stream",
     "text": [
      "100%|██████████| 1000000/1000000 [00:18<00:00, 52824.44it/s]\n",
      "importing: consolidating '1.csv': 100.00%|██████████| [00:10<00:00]\n"
     ]
    },
    {
     "name": "stdout",
     "output_type": "stream",
     "text": [
      "to_csv 10000000\n"
     ]
    },
    {
     "name": "stderr",
     "output_type": "stream",
     "text": [
      "100%|██████████| 10000000/10000000 [03:13<00:00, 51665.55it/s]\n",
      "importing: consolidating '1.csv': 100.00%|██████████| [02:10<00:00]\n"
     ]
    },
    {
     "name": "stdout",
     "output_type": "stream",
     "text": [
      "to_tsv 1000000\n"
     ]
    },
    {
     "name": "stderr",
     "output_type": "stream",
     "text": [
      "100%|██████████| 1000000/1000000 [00:19<00:00, 52422.74it/s]\n",
      "importing: consolidating '1.tsv': 100.00%|██████████| [00:19<00:00]\n"
     ]
    },
    {
     "name": "stdout",
     "output_type": "stream",
     "text": [
      "to_text 1000000\n"
     ]
    },
    {
     "name": "stderr",
     "output_type": "stream",
     "text": [
      "100%|██████████| 1000000/1000000 [00:18<00:00, 53139.94it/s]\n",
      "importing: consolidating '1.txt': 100.00%|██████████| [00:18<00:00]\n"
     ]
    },
    {
     "name": "stdout",
     "output_type": "stream",
     "text": [
      "to_html 1000000\n"
     ]
    },
    {
     "name": "stderr",
     "output_type": "stream",
     "text": [
      "from_html: 100%|██████████| 228959661/228959661 [01:12<00:00, 3175331.85it/s]\n"
     ]
    },
    {
     "name": "stdout",
     "output_type": "stream",
     "text": [
      "to_hdf5 1000000\n",
      "writing 12,000,000 records to C:\\Users\\madsenbj\\AppData\\Local\\Temp\\junk\\1.hdf5... done\n"
     ]
    }
   ],
   "source": [
    "def f(import_export_results, t, args):\n",
    "    rows, c1, c1_kw, c2, c2_kw = args\n",
    "    t2 = t[:rows]\n",
    "\n",
    "    call = getattr(t2, c1)\n",
    "    assert callable(call)\n",
    "\n",
    "    write_start = time()\n",
    "    call(**c1_kw)\n",
    "    write_end = time()\n",
    "    write = round(write_end-write_start,3)\n",
    "\n",
    "    for _ in range(10):\n",
    "        gc.collect()\n",
    "\n",
    "    read_start = time()\n",
    "    if callable(c2):\n",
    "        c2(**c2_kw)\n",
    "    read_end = time()\n",
    "    read = round(read_end-read_start,3)\n",
    "\n",
    "    fn = c2_kw['path']\n",
    "    assert fn.exists()\n",
    "    fs = int(fn.stat().st_size/1e6)\n",
    "    config = {k:v for k,v in c2_kw.items() if k!= 'path'}\n",
    "\n",
    "    import_export_results.add_rows( c1, write, read, len(t2), fs , str(config))\n",
    "\n",
    "args = [\n",
    "    (   100_000, \"to_xlsx\", {'path': tmp/'1.xlsx'}, Table.from_file, {\"path\":tmp/'1.xlsx', \"sheet\":\"pyexcel_sheet1\"}),\n",
    "    (   100_000,  \"to_ods\",  {'path': tmp/'1.ods'}, Table.from_file, {\"path\":tmp/'1.ods', \"sheet\":\"pyexcel_sheet1\"} ),\n",
    "    ( 1_000_000,  \"to_csv\",  {'path': tmp/'1.csv'}, Table.from_file, {\"path\":tmp/'1.csv'}                           ),\n",
    "    ( 1_000_000,  \"to_csv\",  {'path': tmp/'1.csv'}, Table.from_file, {\"path\":tmp/'1.csv', \"guess_datatypes\":False}),\n",
    "    (10_000_000,  \"to_csv\",  {'path': tmp/'1.csv'}, Table.from_file, {\"path\":tmp/'1.csv', \"guess_datatypes\":False}),\n",
    "    ( 1_000_000,  \"to_tsv\",  {'path': tmp/'1.tsv'}, Table.from_file, {\"path\":tmp/'1.tsv'}                           ),\n",
    "    ( 1_000_000, \"to_text\",  {'path': tmp/'1.txt'}, Table.from_file, {\"path\":tmp/'1.txt'}                           ),\n",
    "    ( 1_000_000, \"to_html\", {'path': tmp/'1.html'}, Table.from_file, {\"path\":tmp/'1.html'}                          ),\n",
    "    ( 1_000_000, \"to_hdf5\", {'path': tmp/'1.hdf5'}, Table.from_file, {\"path\":tmp/'1.hdf5'}                          )\n",
    "]\n",
    "\n",
    "Config.PROCESSING_MODE = Config.FALSE\n",
    "for arg in args:\n",
    "    assert len(t)>=arg[0]\n",
    "    print(arg[1], arg[0])\n",
    "    f(import_export_results, t, arg)\n",
    "\n",
    "import shutil\n",
    "shutil.rmtree(tmp)"
   ]
  },
  {
   "cell_type": "code",
   "execution_count": 14,
   "metadata": {},
   "outputs": [],
   "source": [
    "r = import_export_results\n",
    "r['read r/sec'] = [int(a/b) if b!=0  else \"nil\" for a,b in zip(r['rows'], r['read (s)']) ]\n",
    "r['write r/sec'] = [int(a/b) if b!=0  else \"nil\" for a,b in zip(r['rows'], r['write (s)'])]"
   ]
  },
  {
   "cell_type": "code",
   "execution_count": 15,
   "metadata": {},
   "outputs": [
    {
     "data": {
      "text/html": [
       "<div><table border=1><tr><th>~</th><th>#</th><th>1</th><th>2</th><th>3</th><th>4</th><th>5</th><th>6</th><th>7</th><th>8</th><th>9</th><th>10</th><th>11</th></tr><tr><th>         0</th><th>1</th><th>1079926602902</th><th>2021-10-25T00:00:00</th><th>50676</th><th>0</th><th>22601</th><th>C4-2</th><th>UFT</th><th>21°</th><th></th><th>0.5293805718828299</th><th>24.88623347325216</th></tr><tr><th>         1</th><th>2</th><th>54327796673</th><th>2021-09-05T00:00:00</th><th>50926</th><th>1</th><th>5138</th><th>C5-1</th><th>PJJ</th><th>6°</th><th>XYZ</th><th>0.3172481517567028</th><th>12.08809019382787</th></tr><tr><th>         2</th><th>3</th><th>1371151075893</th><th>2021-09-05T00:00:00</th><th>50903</th><th>1</th><th>4088</th><th>C5-4</th><th>CFZ</th><th>None</th><th>XYZ</th><th>1.6077852584113865</th><th>4.826606198591954</th></tr><tr><th>         3</th><th>4</th><th>1213334662745</th><th>2021-10-24T00:00:00</th><th>50844</th><th>1</th><th>29894</th><th>C2-2</th><th>KUU</th><th>None</th><th>XYZ</th><th>1.2299011666688038</th><th>2.244490050711462</th></tr><tr><th>         4</th><th>5</th><th>1370511499258</th><th>2021-10-30T00:00:00</th><th>50623</th><th>0</th><th>17906</th><th>C5-4</th><th>USK</th><th>None</th><th>ABC</th><th>0.6522462280897741</th><th>5.348279367472272</th></tr><tr><th>         5</th><th>6</th><th>2260884629103</th><th>2021-11-21T00:00:00</th><th>50891</th><th>1</th><th>11088</th><th>C3-4</th><th>XQO</th><th>0°</th><th></th><th>2.14612856506421</th><th>20.436899279546175</th></tr><tr><th>         6</th><th>7</th><th>1544783389658</th><th>2021-08-06T00:00:00</th><th>50793</th><th>1</th><th>13158</th><th>C2-1</th><th>XLK</th><th>0°</th><th>XYZ</th><th>0.1134401497695328</th><th>6.327913859721181</th></tr><tr><th>...</th><th>...</th><th>...</th><th>...</th><th>...</th><th>...</th><th>...</th><th>...</th><th>...</th><th>...</th><th>...</th><th>...</th><th>...</th></tr><tr><th> 9,999,993</th><th>999994</th><th>2094970914818</th><th>2021-10-07T00:00:00</th><th>50971</th><th>0</th><th>21372</th><th>C2-1</th><th>IZO</th><th>21°</th><th>XYZ</th><th>1.013730336909649</th><th>19.62648105695804</th></tr><tr><th> 9,999,994</th><th>999995</th><th>938044111048</th><th>2021-12-18T00:00:00</th><th>50784</th><th>1</th><th>19038</th><th>C3-4</th><th>YRN</th><th>6°</th><th></th><th>0.8593174729892686</th><th>1.6511959571650978</th></tr><tr><th> 9,999,995</th><th>999996</th><th>1451288702101</th><th>2021-11-19T00:00:00</th><th>50314</th><th>0</th><th>14424</th><th>C5-5</th><th>EBQ</th><th>None</th><th>ABC</th><th>1.4190840557328133</th><th>3.772288025012824</th></tr><tr><th> 9,999,996</th><th>999997</th><th>899738646123</th><th>2021-10-23T00:00:00</th><th>50991</th><th>1</th><th>25401</th><th>C5-4</th><th>ZTQ</th><th>0°</th><th>XYZ</th><th>1.7999320695233771</th><th>7.806676384229828</th></tr><tr><th> 9,999,997</th><th>999998</th><th>2274589340665</th><th>2021-07-30T00:00:00</th><th>50068</th><th>0</th><th>15630</th><th>C2-4</th><th>TWF</th><th>6°</th><th>ABC</th><th>1.2191200156172919</th><th>15.429412774215692</th></tr><tr><th> 9,999,998</th><th>999999</th><th>1352384784320</th><th>2021-08-20T00:00:00</th><th>50200</th><th>1</th><th>26431</th><th>C2-1</th><th>EXZ</th><th>6°</th><th>XYZ</th><th>0.9944463117116574</th><th>11.055545279686244</th></tr><tr><th> 9,999,999</th><th>1000000</th><th>392587990125</th><th>2021-12-04T00:00:00</th><th>50398</th><th>1</th><th>25549</th><th>C4-2</th><th>SRR</th><th>0°</th><th></th><th>0.8112805890287506</th><th>2.986056068311878</th></tr></table></div>"
      ],
      "text/plain": [
       "Table(12 columns, 10,000,000 rows)"
      ]
     },
     "execution_count": 15,
     "metadata": {},
     "output_type": "execute_result"
    }
   ],
   "source": [
    "t"
   ]
  },
  {
   "cell_type": "code",
   "execution_count": 16,
   "metadata": {},
   "outputs": [
    {
     "data": {
      "text/html": [
       "<div><table border=1><tr><th>#</th><th>method</th><th>write (s)</th><th>read (s)</th><th>rows</th><th>size (Mb)</th><th>config</th><th>read r/sec</th><th>write r/sec</th></tr><tr><th> 0</th><th>to_sql</th><th>15.664</th><th>0</th><th>10000000</th><th></th><th></th><th>nil</th><th>638406</th></tr><tr><th> 1</th><th>to_json</th><th>13.393</th><th>4.247</th><th>10000000</th><th>142</th><th></th><th>2354603</th><th>746658</th></tr><tr><th> 2</th><th>to_xlsx</th><th>13.549</th><th>24.265</th><th>100000</th><th>9</th><th>{'sheet': 'pyexcel_sheet1'}</th><th>4121</th><th>7380</th></tr><tr><th> 3</th><th>to_ods</th><th>72.814</th><th>68.393</th><th>100000</th><th>7</th><th>{'sheet': 'pyexcel_sheet1'}</th><th>1462</th><th>1373</th></tr><tr><th> 4</th><th>to_csv</th><th>19.69</th><th>19.451</th><th>1000000</th><th>109</th><th>{}</th><th>51411</th><th>50787</th></tr><tr><th> 5</th><th>to_csv</th><th>18.949</th><th>10.494</th><th>1000000</th><th>109</th><th>{'guess_datatypes': False}</th><th>95292</th><th>52773</th></tr><tr><th> 6</th><th>to_csv</th><th>193.553</th><th>131.011</th><th>10000000</th><th>1090</th><th>{'guess_datatypes': False}</th><th>76329</th><th>51665</th></tr><tr><th> 7</th><th>to_tsv</th><th>19.079</th><th>19.252</th><th>1000000</th><th>109</th><th>{}</th><th>51942</th><th>52413</th></tr><tr><th> 8</th><th>to_text</th><th>18.822</th><th>18.687</th><th>1000000</th><th>109</th><th>{}</th><th>53513</th><th>53129</th></tr><tr><th> 9</th><th>to_html</th><th>14.703</th><th>72.132</th><th>1000000</th><th>228</th><th>{}</th><th>13863</th><th>68013</th></tr><tr><th>10</th><th>to_hdf5</th><th>6.21</th><th>14.08</th><th>1000000</th><th>300</th><th>{}</th><th>71022</th><th>161030</th></tr></table></div>"
      ],
      "text/plain": [
       "Table(8 columns, 11 rows)"
      ]
     },
     "execution_count": 16,
     "metadata": {},
     "output_type": "execute_result"
    }
   ],
   "source": [
    "import_export_results"
   ]
  },
  {
   "attachments": {},
   "cell_type": "markdown",
   "metadata": {},
   "source": [
    "**Conclusions**\n",
    "\n",
    "Best:\n",
    "- to/from JSON wins with 2.3M rps read\n",
    "- to/from CSV/TSV/TEXT comes 2nd with config `guess_datatypes=False` with ~ 100k rps\n",
    "\n",
    "Worst:\n",
    "- to/from ods burst the memory footprint and hence had to be reduced to 100k rows. It also had the slowest read rate with 1450 rps.\n"
   ]
  },
  {
   "attachments": {},
   "cell_type": "markdown",
   "metadata": {},
   "source": [
    "# Various column functions\n",
    "\n",
    "- Setitem / getitem\n",
    "- iter\n",
    "- equal, not equal\n",
    "- copy\n",
    "- t += t\n",
    "- t *= t\n",
    "- contains\n",
    "- remove all\n",
    "- replace\n",
    "- index\n",
    "- unique\n",
    "- histogram\n",
    "- statistics\n",
    "- count"
   ]
  },
  {
   "cell_type": "code",
   "execution_count": 17,
   "metadata": {},
   "outputs": [],
   "source": [
    "big_table = tables[-1]\n",
    "\n",
    "for name in big_table.columns:\n",
    "    col = big_table[name]\n",
    "    n = len(col)\n",
    "    start,stop,step = int(n*0.02), int(n*0.98), int(n/100)\n",
    "    selection = col[start:stop:step]\n",
    "    total_time = 0.0\n",
    "    for v in selection:\n",
    "        start_time = time()\n",
    "        v in col\n",
    "        end_time = time()\n",
    "        total_time += end_time-start_time\n",
    "    avg_time = total_time / len(selection)\n",
    "\n",
    "getitem_results = Table()\n",
    "getitem_results.add_columns('')\n",
    "    "
   ]
  },
  {
   "attachments": {},
   "cell_type": "markdown",
   "metadata": {},
   "source": [
    "# Various table functions"
   ]
  },
  {
   "cell_type": "code",
   "execution_count": 18,
   "metadata": {},
   "outputs": [
    {
     "data": {
      "text/html": [
       "<div><table border=1><tr><th>~</th><th>#</th><th>1</th><th>2</th><th>3</th><th>4</th><th>5</th><th>6</th><th>7</th><th>8</th><th>9</th><th>10</th><th>11</th></tr><tr><th> 0</th><th>1</th><th>2072513958640</th><th>2021-12-16T00:00:00</th><th>50110</th><th>1</th><th>13942</th><th>C1-3</th><th>GUS</th><th>6°</th><th></th><th>2.244221839580203</th><th>22.057087210094775</th></tr><tr><th> 1</th><th>1</th><th>1494119848789</th><th>2021-12-19T00:00:00</th><th>50492</th><th>1</th><th>3406</th><th>C1-3</th><th>MRA</th><th>None</th><th>XYZ</th><th>0.2813016215128882</th><th>19.00940579501286</th></tr><tr><th> 2</th><th>1</th><th>279991064168</th><th>2021-10-09T00:00:00</th><th>50543</th><th>1</th><th>22788</th><th>C3-4</th><th>IJB</th><th>None</th><th>ABC</th><th>0.8095463729515255</th><th>13.201598709331353</th></tr><tr><th> 3</th><th>1</th><th>380655146625</th><th>2021-08-26T00:00:00</th><th>50419</th><th>1</th><th>18264</th><th>C5-1</th><th>AYS</th><th>None</th><th>ABC</th><th>0.7582427217875339</th><th>4.068585302608566</th></tr><tr><th> 4</th><th>1</th><th>1412321255688</th><th>2021-10-13T00:00:00</th><th>50697</th><th>0</th><th>6196</th><th>C1-2</th><th>DGI</th><th>None</th><th>XYZ</th><th>0.7480253948706265</th><th>1.081276419298878</th></tr><tr><th> 5</th><th>1</th><th>2071834707116</th><th>2021-10-06T00:00:00</th><th>50418</th><th>1</th><th>3712</th><th>C3-4</th><th>CVZ</th><th>21°</th><th>ABC</th><th>1.018398240011883</th><th>8.649293839323905</th></tr><tr><th> 6</th><th>1</th><th>555140717186</th><th>2021-10-21T00:00:00</th><th>50893</th><th>0</th><th>13819</th><th>C5-4</th><th>FTX</th><th>None</th><th>XYZ</th><th>0.45148108213877125</th><th>1.5506090487252329</th></tr><tr><th> 7</th><th>1</th><th>2178595743140</th><th>2021-09-28T00:00:00</th><th>50992</th><th>1</th><th>18719</th><th>C2-3</th><th>NTW</th><th>6°</th><th>ABC</th><th>1.6856785087386448</th><th>17.583678183859558</th></tr><tr><th> 8</th><th>1</th><th>1935214940191</th><th>2021-09-07T00:00:00</th><th>50507</th><th>0</th><th>9366</th><th>C3-3</th><th>HUU</th><th>6°</th><th></th><th>0.8078940522070547</th><th>21.274450459605937</th></tr><tr><th> 9</th><th>1</th><th>2043153811304</th><th>2021-11-01T00:00:00</th><th>50451</th><th>0</th><th>20314</th><th>C3-3</th><th>XWU</th><th>None</th><th>ABC</th><th>2.4267161306291567</th><th>18.591696291051836</th></tr><tr><th>10</th><th>1</th><th>1102694241912</th><th>2021-07-31T00:00:00</th><th>50005</th><th>1</th><th>7004</th><th>C3-5</th><th>LSA</th><th>6°</th><th></th><th>1.0162551229915013</th><th>4.2040514140240575</th></tr><tr><th>11</th><th>1</th><th>1274588140073</th><th>2021-11-15T00:00:00</th><th>50178</th><th>0</th><th>8006</th><th>C5-1</th><th>NVN</th><th>0°</th><th>XYZ</th><th>1.0630133451031474</th><th>0.3752593698260879</th></tr><tr><th>12</th><th>1</th><th>400121665419</th><th>2021-08-05T00:00:00</th><th>50629</th><th>0</th><th>25632</th><th>C4-2</th><th>BBK</th><th>0°</th><th>XYZ</th><th>1.6483152161429626</th><th>3.8806123855038592</th></tr><tr><th>13</th><th>1</th><th>753299458617</th><th>2021-09-24T00:00:00</th><th>50804</th><th>1</th><th>16749</th><th>C4-4</th><th>GGE</th><th>21°</th><th>ABC</th><th>2.3909884081559944</th><th>3.2633288650840058</th></tr><tr><th>14</th><th>1</th><th>2120512356429</th><th>2021-10-19T00:00:00</th><th>50748</th><th>1</th><th>19511</th><th>C1-4</th><th>GEK</th><th>21°</th><th>XYZ</th><th>1.4936645863874016</th><th>0.8348712212992179</th></tr><tr><th>15</th><th>1</th><th>691966600306</th><th>2021-09-23T00:00:00</th><th>50541</th><th>1</th><th>24594</th><th>C3-4</th><th>IGW</th><th>None</th><th>XYZ</th><th>1.63947762675481</th><th>5.478627092252786</th></tr><tr><th>16</th><th>1</th><th>1024468104728</th><th>2021-10-25T00:00:00</th><th>50465</th><th>0</th><th>14247</th><th>C4-2</th><th>UXB</th><th>0°</th><th>XYZ</th><th>1.7835111339685146</th><th>3.82456994635102</th></tr><tr><th>17</th><th>1</th><th>2009658259035</th><th>2021-12-10T00:00:00</th><th>50902</th><th>0</th><th>13313</th><th>C5-1</th><th>OQU</th><th>6°</th><th>XYZ</th><th>1.1232672581655625</th><th>19.556374472488255</th></tr><tr><th>18</th><th>1</th><th>1710455609350</th><th>2021-08-04T00:00:00</th><th>50485</th><th>1</th><th>16098</th><th>C3-1</th><th>JEY</th><th>0°</th><th>XYZ</th><th>2.4175470852231786</th><th>3.7587270167798046</th></tr><tr><th>19</th><th>1</th><th>1207461671676</th><th>2021-11-26T00:00:00</th><th>50268</th><th>1</th><th>9761</th><th>C1-4</th><th>ZVM</th><th>None</th><th></th><th>1.554622262752047</th><th>23.101909248688404</th></tr></table></div>"
      ],
      "text/plain": [
       "Table(12 columns, 20 rows)"
      ]
     },
     "execution_count": 18,
     "metadata": {},
     "output_type": "execute_result"
    }
   ],
   "source": [
    "big_table = tables[-1]\n",
    "n = len(big_table)\n",
    "start,stop,step = int(0.02*n), int(0.98*n), int(n / 20)  # from 2% to 98% in 20 large steps\n",
    "start_time = time()\n",
    "snip = big_table[start:stop:step]\n",
    "end_time = time()\n",
    "snip"
   ]
  },
  {
   "cell_type": "code",
   "execution_count": 19,
   "metadata": {},
   "outputs": [
    {
     "name": "stdout",
     "output_type": "stream",
     "text": [
      "reading 100,000,000 rows to find 20 rows took 4.229 sec\n"
     ]
    }
   ],
   "source": [
    "print(f\"reading {len(big_table):,} rows to find {len(snip):,} rows took {round(end_time-start_time,3)} sec\")"
   ]
  },
  {
   "cell_type": "code",
   "execution_count": 20,
   "metadata": {},
   "outputs": [
    {
     "data": {
      "text/html": [
       "<div><table border=1><tr><th>#</th><th>1</th><th>3</th><th>6</th><th>9</th></tr><tr><th>          0</th><th>1079926602902</th><th>50676</th><th>C4-2</th><th></th></tr><tr><th>          1</th><th>54327796673</th><th>50926</th><th>C5-1</th><th>XYZ</th></tr><tr><th>          2</th><th>1371151075893</th><th>50903</th><th>C5-4</th><th>XYZ</th></tr><tr><th>          3</th><th>1213334662745</th><th>50844</th><th>C2-2</th><th>XYZ</th></tr><tr><th>          4</th><th>1370511499258</th><th>50623</th><th>C5-4</th><th>ABC</th></tr><tr><th>          5</th><th>2260884629103</th><th>50891</th><th>C3-4</th><th></th></tr><tr><th>          6</th><th>1544783389658</th><th>50793</th><th>C2-1</th><th>XYZ</th></tr><tr><th>...</th><th>...</th><th>...</th><th>...</th><th>...</th></tr><tr><th> 99,999,993</th><th>1627489453824</th><th>50273</th><th>C3-3</th><th></th></tr><tr><th> 99,999,994</th><th>638276767240</th><th>50047</th><th>C2-3</th><th>XYZ</th></tr><tr><th> 99,999,995</th><th>1711686709536</th><th>50731</th><th>C5-4</th><th>XYZ</th></tr><tr><th> 99,999,996</th><th>1669947038975</th><th>50797</th><th>C4-1</th><th>XYZ</th></tr><tr><th> 99,999,997</th><th>1012065454200</th><th>50417</th><th>C1-4</th><th></th></tr><tr><th> 99,999,998</th><th>744738193264</th><th>50237</th><th>C4-2</th><th>ABC</th></tr><tr><th> 99,999,999</th><th>1214151947590</th><th>50136</th><th>C5-2</th><th></th></tr></table></div>"
      ],
      "text/plain": [
       "Table(4 columns, 100,000,000 rows)"
      ]
     },
     "execution_count": 20,
     "metadata": {},
     "output_type": "execute_result"
    }
   ],
   "source": [
    "start_time = time()\n",
    "snip = big_table['1', '3', '6', '9']\n",
    "end_time = time()\n",
    "snip"
   ]
  },
  {
   "cell_type": "code",
   "execution_count": 21,
   "metadata": {},
   "outputs": [
    {
     "name": "stdout",
     "output_type": "stream",
     "text": [
      "selecting 4 columns from 12 columns on 100,000,000 rows took 0.001 sec\n"
     ]
    }
   ],
   "source": [
    "print(f\"selecting 4 columns from {len(big_table.columns)} columns on {len(big_table):,} rows took {round(end_time-start_time,3)} sec\")"
   ]
  },
  {
   "cell_type": "code",
   "execution_count": 24,
   "metadata": {},
   "outputs": [
    {
     "data": {
      "text/html": [
       "<div><table border=1><tr><th>#</th><th>n columns</th><th>time (s)</th></tr><tr><th> 0</th><th>2</th><th>1.508</th></tr><tr><th> 1</th><th>3</th><th>1.511</th></tr><tr><th> 2</th><th>4</th><th>2.587</th></tr><tr><th> 3</th><th>5</th><th>3.243</th></tr><tr><th> 4</th><th>6</th><th>3.974</th></tr><tr><th> 5</th><th>7</th><th>4.587</th></tr><tr><th> 6</th><th>8</th><th>5.598</th></tr><tr><th> 7</th><th>9</th><th>6.437</th></tr><tr><th> 8</th><th>10</th><th>7.368</th></tr><tr><th> 9</th><th>11</th><th>8.391</th></tr><tr><th>10</th><th>12</th><th>11.079</th></tr><tr><th>11</th><th>13</th><th>15.1</th></tr></table></div>"
      ],
      "text/plain": [
       "Table(2 columns, 12 rows)"
      ]
     },
     "execution_count": 24,
     "metadata": {},
     "output_type": "execute_result"
    }
   ],
   "source": [
    "getitem_results = Table()\n",
    "getitem_results.add_columns( 'n columns', 'time (s)')\n",
    "\n",
    "columns = ['1']\n",
    "for column in list(big_table.columns):\n",
    "    columns.append(column)\n",
    "    snip = big_table.__getitem__(*columns, slice(500_000,1_500_000))\n",
    "    start_time = perf_counter()\n",
    "    counts = 0\n",
    "    for row in snip.rows:\n",
    "        counts += 1\n",
    "    end_time = perf_counter()\n",
    "    getitem_results.add_rows( len(columns), round(end_time-start_time,3))\n",
    "\n",
    "getitem_results"
   ]
  },
  {
   "cell_type": "code",
   "execution_count": 26,
   "metadata": {},
   "outputs": [
    {
     "data": {
      "image/png": "[encoded data removed]",
      "text/plain": [
       "<Figure size 432x288 with 1 Axes>"
      ]
     },
     "metadata": {
      "needs_background": "light"
     },
     "output_type": "display_data"
    }
   ],
   "source": [
    "import matplotlib.pyplot as plt\n",
    "plt.plot(getitem_results['n columns'], getitem_results['time (s)'])\n",
    "plt.show()\n"
   ]
  },
  {
   "cell_type": "code",
   "execution_count": null,
   "metadata": {},
   "outputs": [],
   "source": []
  }
 ],
 "metadata": {
  "kernelspec": {
   "display_name": "tablite310",
   "language": "python",
   "name": "python3"
  },
  "language_info": {
   "codemirror_mode": {
    "name": "ipython",
    "version": 3
   },
   "file_extension": ".py",
   "mimetype": "text/x-python",
   "name": "python",
   "nbconvert_exporter": "python",
   "pygments_lexer": "ipython3",
   "version": "3.10.11"
  },
  "orig_nbformat": 4
 },
 "nbformat": 4,
 "nbformat_minor": 2
}
