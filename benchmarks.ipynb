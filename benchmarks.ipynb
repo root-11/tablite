{
 "cells": [
  {
   "attachments": {},
   "cell_type": "markdown",
   "metadata": {},
   "source": [
    "# Benchmarks\n",
    "\n",
    "These benchmarks seek to establish the performance of tablite as a user sees it.\n",
    "\n",
    "Overview\n",
    "\n",
    "**Input/Output:**\n",
    "\n",
    "- Save / Load .tpz format\n",
    "- Save tables to various formats\n",
    "- Import data from various formats\n",
    "\n",
    "**Various column functions:**\n",
    "\n",
    "- Setitem / getitem\n",
    "- iter\n",
    "- equal, not equal\n",
    "- copy\n",
    "- t += t\n",
    "- t *= t\n",
    "- contains\n",
    "- remove all\n",
    "- replace\n",
    "- index\n",
    "- unique\n",
    "- histogram\n",
    "- statistics\n",
    "- count\n",
    "\n",
    "\n",
    "**Various table functions**\n",
    "\n",
    "- **base**\n",
    "  - Setitem / getitem\n",
    "  - iter / rows\n",
    "  - equal, not equal\n",
    "  - load\n",
    "  - save\n",
    "  - copy\n",
    "  - stack\n",
    "  - types\n",
    "  - display_dict\n",
    "  - show\n",
    "  - to_dict\n",
    "  - as_json_serializable\n",
    "  - index\n",
    "- **core**\n",
    "  - expression\n",
    "  - filter\n",
    "  - sort_index\n",
    "  - reindex\n",
    "  - drop_duplicates\n",
    "  - sort\n",
    "  - is_sorted\n",
    "  - any\n",
    "  - all\n",
    "  - drop \n",
    "  - replace\n",
    "  - groupby\n",
    "  - pivot\n",
    "  - joins\n",
    "  - lookup\n",
    "  - replace missing values\n",
    "  - transpose\n",
    "  - pivot_transpose\n",
    "  - diff\n",
    "\n",
    "\n",
    "\n",
    "\n"
   ]
  },
  {
   "cell_type": "code",
   "execution_count": 1,
   "metadata": {},
   "outputs": [],
   "source": [
    "import psutil, os, gc, shutil, tempfile\n",
    "from pathlib import Path\n",
    "from time import perf_counter, time\n",
    "from tablite import Table\n",
    "from tablite.datasets import synthetic_order_data\n",
    "from tablite.config import Config\n",
    "\n",
    "Config.TQDM_DISABLE = True"
   ]
  },
  {
   "attachments": {},
   "cell_type": "markdown",
   "metadata": {},
   "source": [
    "### Create tables from synthetic data."
   ]
  },
  {
   "cell_type": "code",
   "execution_count": 2,
   "metadata": {},
   "outputs": [
    {
     "name": "stdout",
     "output_type": "stream",
     "text": [
      "Table 1,000,000 rows is 240 Mb on disk\n",
      "Table 2,000,000 rows is 480 Mb on disk\n",
      "Table 5,000,000 rows is 1,200 Mb on disk\n",
      "Table 20,000,000 rows is 4,800 Mb on disk\n",
      "Table 50,000,000 rows is 12,000 Mb on disk\n"
     ]
    }
   ],
   "source": [
    "process = psutil.Process(os.getpid())\n",
    "\n",
    "def make_tables(sizes=[1,2,5,20,50]):\n",
    "    # The last tables are too big for RAM (~24Gb), so I create subtables of 1M rows and append them.\n",
    "    t = synthetic_order_data(Config.PAGE_SIZE)\n",
    "    real, flat = t.nbytes()\n",
    "    print(f\"Table {len(t):,} rows is {real/1e6:,.0f} Mb on disk\")\n",
    "\n",
    "    tables = [t]  # 1M rows.\n",
    "\n",
    "    last = 1\n",
    "    t2 = t.copy()\n",
    "    for i in sizes[1:]:\n",
    "        t2 = t2.copy()\n",
    "        for _ in range(i-last):\n",
    "            t2 += synthetic_order_data(Config.PAGE_SIZE)  # these are all unique\n",
    "        last = i\n",
    "        real, flat = t2.nbytes()\n",
    "        tables.append(t2)\n",
    "        print(f\"Table {len(t2):,} rows is {real/1e6:,.0f} Mb on disk\")\n",
    "    return tables\n",
    "\n",
    "tables = make_tables()"
   ]
  },
  {
   "attachments": {},
   "cell_type": "markdown",
   "metadata": {},
   "source": [
    "The values in the tables above are all unique!"
   ]
  },
  {
   "cell_type": "code",
   "execution_count": 3,
   "metadata": {},
   "outputs": [
    {
     "data": {
      "text/html": [
       "<div><table border=1><tr><th>~</th><th>#</th><th>1</th><th>2</th><th>3</th><th>4</th><th>5</th><th>6</th><th>7</th><th>8</th><th>9</th><th>10</th><th>11</th></tr><tr><th>         0</th><th>1</th><th>790811337411</th><th>2021-11-03T00:00:00</th><th>50674</th><th>0</th><th>14857</th><th>C5-5</th><th>FJC</th><th>6°</th><th>XYZ</th><th>2.300574452260273</th><th>1.4156399740503895</th></tr><tr><th>         1</th><th>2</th><th>1897979869344</th><th>2021-08-07T00:00:00</th><th>50641</th><th>1</th><th>3656</th><th>C1-2</th><th>TVJ</th><th>6°</th><th>ABC</th><th>0.35810419051178727</th><th>12.188425100958003</th></tr><tr><th>         2</th><th>3</th><th>771972205002</th><th>2021-11-08T00:00:00</th><th>50755</th><th>1</th><th>24071</th><th>C4-1</th><th>IBN</th><th>6°</th><th>XYZ</th><th>0.3101582474435576</th><th>0.12693582921975438</th></tr><tr><th>         3</th><th>4</th><th>219000392905</th><th>2021-09-19T00:00:00</th><th>50323</th><th>1</th><th>3861</th><th>C5-3</th><th>YVT</th><th>0°</th><th></th><th>0.9238296032653941</th><th>14.817993616773746</th></tr><tr><th>         4</th><th>5</th><th>1585529741286</th><th>2021-12-20T00:00:00</th><th>50276</th><th>1</th><th>25655</th><th>C2-5</th><th>GSE</th><th>6°</th><th>XYZ</th><th>2.2843115614130807</th><th>16.793344958713615</th></tr><tr><th>         5</th><th>6</th><th>1336159054410</th><th>2021-09-21T00:00:00</th><th>50058</th><th>0</th><th>25498</th><th>C4-4</th><th>AGE</th><th>21°</th><th></th><th>1.992309597514598</th><th>16.18726580444652</th></tr><tr><th>         6</th><th>7</th><th>2071984700120</th><th>2021-11-13T00:00:00</th><th>50973</th><th>0</th><th>28288</th><th>C1-1</th><th>PAX</th><th>None</th><th></th><th>2.395508402856323</th><th>15.91336586307422</th></tr><tr><th>...</th><th>...</th><th>...</th><th>...</th><th>...</th><th>...</th><th>...</th><th>...</th><th>...</th><th>...</th><th>...</th><th>...</th><th>...</th></tr><tr><th>49,999,993</th><th>999994</th><th>1475884853541</th><th>2021-12-19T00:00:00</th><th>50730</th><th>0</th><th>24739</th><th>C1-1</th><th>NBM</th><th>21°</th><th></th><th>0.41302396493282706</th><th>13.613148748708484</th></tr><tr><th>49,999,994</th><th>999995</th><th>1237210879847</th><th>2021-11-09T00:00:00</th><th>50463</th><th>1</th><th>14487</th><th>C4-5</th><th>KDN</th><th>None</th><th>XYZ</th><th>1.7793682543989549</th><th>4.376868571075207</th></tr><tr><th>49,999,995</th><th>999996</th><th>1533256878915</th><th>2021-12-01T00:00:00</th><th>50830</th><th>0</th><th>17926</th><th>C5-1</th><th>IKV</th><th>6°</th><th>XYZ</th><th>1.3168015761305667</th><th>11.22493220862776</th></tr><tr><th>49,999,996</th><th>999997</th><th>2209002063823</th><th>2021-09-10T00:00:00</th><th>50972</th><th>0</th><th>3838</th><th>C5-4</th><th>WTE</th><th>0°</th><th></th><th>1.4794052678270353</th><th>1.6952160194399426</th></tr><tr><th>49,999,997</th><th>999998</th><th>1585072293519</th><th>2021-09-02T00:00:00</th><th>50719</th><th>1</th><th>26971</th><th>C5-2</th><th>LXF</th><th>21°</th><th>XYZ</th><th>2.199037148059379</th><th>22.89823855198046</th></tr><tr><th>49,999,998</th><th>999999</th><th>1079324523640</th><th>2021-08-31T00:00:00</th><th>50641</th><th>1</th><th>13738</th><th>C2-4</th><th>SPE</th><th>6°</th><th>XYZ</th><th>1.831991716587105</th><th>9.290846857572475</th></tr><tr><th>49,999,999</th><th>1000000</th><th>370464535276</th><th>2021-09-17T00:00:00</th><th>50363</th><th>0</th><th>11598</th><th>C2-4</th><th>BPN</th><th>21°</th><th></th><th>0.4208596838774604</th><th>22.154941351591127</th></tr></table></div>"
      ],
      "text/plain": [
       "Table(12 columns, 50,000,000 rows)"
      ]
     },
     "execution_count": 3,
     "metadata": {},
     "output_type": "execute_result"
    }
   ],
   "source": [
    "tables[-1]"
   ]
  },
  {
   "attachments": {},
   "cell_type": "markdown",
   "metadata": {},
   "source": [
    "### Save / Load .tpz format\n",
    "\n",
    "Without default compression settings (10% slower than uncompressed, 20% of uncompressed filesize)"
   ]
  },
  {
   "cell_type": "code",
   "execution_count": 4,
   "metadata": {},
   "outputs": [],
   "source": [
    "def save_load_benchmarks(tables):\n",
    "    tmp = Path(tempfile.gettempdir()) / \"junk\"\n",
    "    tmp.mkdir(exist_ok=True)\n",
    "\n",
    "    results = Table()\n",
    "    results.add_columns('rows', 'save (sec)', 'load (sec)')\n",
    "    for t in tables:\n",
    "        fn = tmp / f'{len(t)}.tpz'\n",
    "        start = perf_counter()\n",
    "        t.save(fn)\n",
    "        end = perf_counter()\n",
    "        save = round(end-start,3)\n",
    "        assert fn.exists()\n",
    "        \n",
    "        \n",
    "        start = perf_counter()\n",
    "        t2 = Table.load(fn)\n",
    "        end = perf_counter()\n",
    "        load = round(end-start,3)\n",
    "        print(f\"saving {len(t):,} rows ({fn.stat().st_size/1e6:,.0f} Mb) took {save:,.3f} seconds. loading took {load:,.3f} seconds\")\n",
    "        del t2\n",
    "        fn.unlink()\n",
    "        results.add_rows(len(t), save, load)\n",
    "    \n",
    "    r = results\n",
    "    r['save r/sec'] = [int(a/b) if b!=0  else \"nil\" for a,b in zip(r['rows'], r['save (sec)']) ]\n",
    "    r['load r/sec'] = [int(a/b) if b!=0  else \"nil\" for a,b in zip(r['rows'], r['load (sec)'])]\n",
    "\n",
    "    return results\n"
   ]
  },
  {
   "cell_type": "code",
   "execution_count": 5,
   "metadata": {},
   "outputs": [
    {
     "name": "stdout",
     "output_type": "stream",
     "text": [
      "saving 1,000,000 rows (48 Mb) took 1.697 seconds. loading took 0.764 seconds\n",
      "saving 2,000,000 rows (97 Mb) took 3.407 seconds. loading took 1.492 seconds\n",
      "saving 5,000,000 rows (242 Mb) took 8.618 seconds. loading took 3.921 seconds\n",
      "saving 20,000,000 rows (969 Mb) took 34.733 seconds. loading took 15.402 seconds\n",
      "saving 50,000,000 rows (2,423 Mb) took 108.032 seconds. loading took 49.829 seconds\n"
     ]
    }
   ],
   "source": [
    "slb = save_load_benchmarks(tables)"
   ]
  },
  {
   "cell_type": "code",
   "execution_count": 6,
   "metadata": {},
   "outputs": [
    {
     "data": {
      "text/html": [
       "<div><table border=1><tr><th>#</th><th>rows</th><th>save (sec)</th><th>load (sec)</th><th>save r/sec</th><th>load r/sec</th></tr><tr><th> 0</th><th>1000000</th><th>1.697</th><th>0.764</th><th>589275</th><th>1308900</th></tr><tr><th> 1</th><th>2000000</th><th>3.407</th><th>1.492</th><th>587026</th><th>1340482</th></tr><tr><th> 2</th><th>5000000</th><th>8.618</th><th>3.921</th><th>580181</th><th>1275184</th></tr><tr><th> 3</th><th>20000000</th><th>34.733</th><th>15.402</th><th>575821</th><th>1298532</th></tr><tr><th> 4</th><th>50000000</th><th>108.032</th><th>49.829</th><th>462825</th><th>1003431</th></tr></table></div>"
      ],
      "text/plain": [
       "Table(5 columns, 5 rows)"
      ]
     },
     "execution_count": 6,
     "metadata": {},
     "output_type": "execute_result"
    }
   ],
   "source": [
    "slb"
   ]
  },
  {
   "attachments": {},
   "cell_type": "markdown",
   "metadata": {},
   "source": [
    "With various compression options"
   ]
  },
  {
   "cell_type": "code",
   "execution_count": 7,
   "metadata": {},
   "outputs": [],
   "source": [
    "def save_compression_benchmarks(t):\n",
    "    tmp = Path(tempfile.gettempdir()) / \"junk\"\n",
    "    tmp.mkdir(exist_ok=True)\n",
    "\n",
    "    import zipfile  # https://docs.python.org/3/library/zipfile.html#zipfile.ZipFile\n",
    "    methods = [(None, zipfile.ZIP_STORED, \"zip stored\"), (None, zipfile.ZIP_LZMA, \"zip lzma\")]\n",
    "    methods += [(i, zipfile.ZIP_DEFLATED, \"zip deflated\") for i in range(0,10)]\n",
    "    methods += [(i, zipfile.ZIP_BZIP2, \"zip bzip2\") for i in range(1,10)]\n",
    "\n",
    "    results = Table()\n",
    "    results.add_columns('file size (Mb)', 'method', 'write (sec)', 'read (sec)')\n",
    "    for level, method, name in methods:\n",
    "        fn = tmp / f'{len(t)}.tpz'\n",
    "        start = perf_counter()  \n",
    "        t.save(fn, compression_method=method, compression_level=level)\n",
    "        end = perf_counter()\n",
    "        write = round(end-start,3)\n",
    "        assert fn.exists()\n",
    "        size = int(fn.stat().st_size/1e6)\n",
    "        print(f\"{name}(level={level}): {len(t):,} rows ({size} Mb) took {write:,.3f} secconds to save\", end='')\n",
    "        \n",
    "        start = perf_counter()\n",
    "        t2 = Table.load(fn)\n",
    "        end = perf_counter()\n",
    "        read = round(end-start,3)\n",
    "        print(f\" and {end-start:,.2} seconds to load\")\n",
    "        \n",
    "        del t2\n",
    "        fn.unlink()\n",
    "        results.add_rows(size, f\"{name}(level={level})\", write, read)\n",
    "    \n",
    "    r = results\n",
    "    r.sort({'write (sec)':True})\n",
    "    r['write (rps)'] = [int(1_000_000/b) for b in r['write (sec)']]\n",
    "    r['read (rps)'] = [int(1_000_000/b) for b in r['read (sec)']]\n",
    "    return results"
   ]
  },
  {
   "cell_type": "code",
   "execution_count": 8,
   "metadata": {},
   "outputs": [
    {
     "name": "stdout",
     "output_type": "stream",
     "text": [
      "zip stored(level=None): 1,000,000 rows (240 Mb) took 0.471 secconds to save and 0.68 seconds to load\n",
      "zip lzma(level=None): 1,000,000 rows (29 Mb) took 107.054 secconds to save and 2.2 seconds to load\n",
      "zip deflated(level=0): 1,000,000 rows (240 Mb) took 0.478 secconds to save and 0.62 seconds to load\n",
      "zip deflated(level=1): 1,000,000 rows (48 Mb) took 1.967 secconds to save and 0.91 seconds to load\n",
      "zip deflated(level=2): 1,000,000 rows (46 Mb) took 2.127 secconds to save and 0.9 seconds to load\n",
      "zip deflated(level=3): 1,000,000 rows (43 Mb) took 3.101 secconds to save and 0.87 seconds to load\n",
      "zip deflated(level=4): 1,000,000 rows (43 Mb) took 3.041 secconds to save and 0.75 seconds to load\n",
      "zip deflated(level=5): 1,000,000 rows (42 Mb) took 4.516 secconds to save and 0.84 seconds to load\n",
      "zip deflated(level=6): 1,000,000 rows (39 Mb) took 9.259 secconds to save and 0.76 seconds to load\n",
      "zip deflated(level=7): 1,000,000 rows (39 Mb) took 12.285 secconds to save and 0.7 seconds to load\n",
      "zip deflated(level=8): 1,000,000 rows (38 Mb) took 44.654 secconds to save and 0.65 seconds to load\n",
      "zip deflated(level=9): 1,000,000 rows (37 Mb) took 91.519 secconds to save and 0.66 seconds to load\n",
      "zip bzip2(level=1): 1,000,000 rows (29 Mb) took 11.319 secconds to save and 2.9 seconds to load\n",
      "zip bzip2(level=2): 1,000,000 rows (29 Mb) took 12.150 secconds to save and 3.0 seconds to load\n",
      "zip bzip2(level=3): 1,000,000 rows (29 Mb) took 12.930 secconds to save and 3.1 seconds to load\n",
      "zip bzip2(level=4): 1,000,000 rows (29 Mb) took 13.416 secconds to save and 3.6 seconds to load\n",
      "zip bzip2(level=5): 1,000,000 rows (29 Mb) took 14.056 secconds to save and 3.8 seconds to load\n",
      "zip bzip2(level=6): 1,000,000 rows (29 Mb) took 14.533 secconds to save and 4.0 seconds to load\n",
      "zip bzip2(level=7): 1,000,000 rows (29 Mb) took 15.272 secconds to save and 4.3 seconds to load\n",
      "zip bzip2(level=8): 1,000,000 rows (29 Mb) took 15.646 secconds to save and 4.4 seconds to load\n",
      "zip bzip2(level=9): 1,000,000 rows (29 Mb) took 16.062 secconds to save and 4.6 seconds to load\n"
     ]
    },
    {
     "name": "stderr",
     "output_type": "stream",
     "text": [
      "creating sort index: 100%|██████████| 1/1 [00:00<00:00, 143.24it/s]\n"
     ]
    }
   ],
   "source": [
    "scb = save_compression_benchmarks(tables[0])"
   ]
  },
  {
   "cell_type": "code",
   "execution_count": 33,
   "metadata": {},
   "outputs": [
    {
     "data": {
      "text/html": [
       "<div><table border=1><tr><th>#</th><th>file size (Mb)</th><th>method</th><th>write (sec)</th><th>read (sec)</th><th>write (rps)</th><th>read (rps)</th></tr><tr><th> 0</th><th>240</th><th>zip stored(level=None)</th><th>0.471</th><th>0.679</th><th>2123142</th><th>1472754</th></tr><tr><th> 1</th><th>29</th><th>zip lzma(level=None)</th><th>107.054</th><th>2.194</th><th>9341</th><th>455788</th></tr><tr><th> 2</th><th>240</th><th>zip deflated(level=0)</th><th>0.478</th><th>0.619</th><th>2092050</th><th>1615508</th></tr><tr><th> 3</th><th>48</th><th>zip deflated(level=1)</th><th>1.967</th><th>0.912</th><th>508388</th><th>1096491</th></tr><tr><th> 4</th><th>46</th><th>zip deflated(level=2)</th><th>2.127</th><th>0.905</th><th>470145</th><th>1104972</th></tr><tr><th> 5</th><th>43</th><th>zip deflated(level=3)</th><th>3.101</th><th>0.868</th><th>322476</th><th>1152073</th></tr><tr><th> 6</th><th>43</th><th>zip deflated(level=4)</th><th>3.041</th><th>0.753</th><th>328839</th><th>1328021</th></tr><tr><th> 7</th><th>42</th><th>zip deflated(level=5)</th><th>4.516</th><th>0.837</th><th>221434</th><th>1194743</th></tr><tr><th> 8</th><th>39</th><th>zip deflated(level=6)</th><th>9.259</th><th>0.759</th><th>108003</th><th>1317523</th></tr><tr><th> 9</th><th>39</th><th>zip deflated(level=7)</th><th>12.285</th><th>0.705</th><th>81400</th><th>1418439</th></tr><tr><th>10</th><th>38</th><th>zip deflated(level=8)</th><th>44.654</th><th>0.647</th><th>22394</th><th>1545595</th></tr><tr><th>11</th><th>37</th><th>zip deflated(level=9)</th><th>91.519</th><th>0.657</th><th>10926</th><th>1522070</th></tr><tr><th>12</th><th>29</th><th>zip bzip2(level=1)</th><th>11.319</th><th>2.947</th><th>88347</th><th>339328</th></tr><tr><th>13</th><th>29</th><th>zip bzip2(level=2)</th><th>12.15</th><th>3.032</th><th>82304</th><th>329815</th></tr><tr><th>14</th><th>29</th><th>zip bzip2(level=3)</th><th>12.93</th><th>3.11</th><th>77339</th><th>321543</th></tr><tr><th>15</th><th>29</th><th>zip bzip2(level=4)</th><th>13.416</th><th>3.603</th><th>74537</th><th>277546</th></tr><tr><th>16</th><th>29</th><th>zip bzip2(level=5)</th><th>14.056</th><th>3.831</th><th>71143</th><th>261028</th></tr><tr><th>17</th><th>29</th><th>zip bzip2(level=6)</th><th>14.533</th><th>4.019</th><th>68808</th><th>248818</th></tr><tr><th>18</th><th>29</th><th>zip bzip2(level=7)</th><th>15.272</th><th>4.269</th><th>65479</th><th>234246</th></tr><tr><th>19</th><th>29</th><th>zip bzip2(level=8)</th><th>15.646</th><th>4.386</th><th>63914</th><th>227998</th></tr></table></div>"
      ],
      "text/plain": [
       "Table(6 columns, 20 rows)"
      ]
     },
     "execution_count": 33,
     "metadata": {},
     "output_type": "execute_result"
    }
   ],
   "source": [
    "scb[0:20]"
   ]
  },
  {
   "attachments": {},
   "cell_type": "markdown",
   "metadata": {},
   "source": [
    "**Conclusions**\n",
    "\n",
    "- Fastest: zip stored with no compression takes handles "
   ]
  },
  {
   "attachments": {},
   "cell_type": "markdown",
   "metadata": {},
   "source": [
    "### Save / load tables to / from various formats\n",
    "\n",
    "The handlers for saving / export are:\n",
    "\n",
    "- to_sql\n",
    "- to_json\n",
    "- to_xls\n",
    "- to_ods\n",
    "- to_csv\n",
    "- to_tsv\n",
    "- to_text\n",
    "- to_html\n",
    "- to_hdf5\n"
   ]
  },
  {
   "cell_type": "code",
   "execution_count": 10,
   "metadata": {},
   "outputs": [],
   "source": [
    "def to_sql_benchmark(t, rows=1_000_000):\n",
    "    t2 = t[:rows]\n",
    "    write_start = time()\n",
    "    _ = t2.to_sql(name='1')\n",
    "    write_end = time()\n",
    "    write = round(write_end-write_start,3)\n",
    "    return ( t.to_sql.__name__, write, 0, len(t), \"\" , \"\" ) "
   ]
  },
  {
   "cell_type": "code",
   "execution_count": 11,
   "metadata": {},
   "outputs": [],
   "source": [
    "def to_json_benchmark(t, rows=1_000_000):\n",
    "    t2 = t[:rows]\n",
    "\n",
    "    tmp = Path(tempfile.gettempdir()) / \"junk\"\n",
    "    tmp.mkdir(exist_ok=True)\n",
    "    path = tmp / \"1.json\" \n",
    "    \n",
    "    write_start = time()\n",
    "    bytestr = t2.to_json()\n",
    "    with path.open('w') as fo:\n",
    "        fo.write(bytestr)\n",
    "    write_end = time()\n",
    "    write = round(write_end-write_start,3)\n",
    "\n",
    "    read_start = time()\n",
    "    with path.open('r') as fi:\n",
    "        _ = Table.from_json(fi.read())  # <-- JSON\n",
    "    read_end = time()\n",
    "    read = round(read_end-read_start,3)\n",
    "\n",
    "    return ( t.to_json.__name__, write, read, len(t), int(path.stat().st_size/1e6), \"\" ) "
   ]
  },
  {
   "cell_type": "code",
   "execution_count": 12,
   "metadata": {},
   "outputs": [],
   "source": [
    "def f(t, args):\n",
    "    rows, c1, c1_kw, c2, c2_kw = args\n",
    "    t2 = t[:rows]\n",
    "\n",
    "    call = getattr(t2, c1)\n",
    "    assert callable(call)\n",
    "\n",
    "    write_start = time()\n",
    "    call(**c1_kw)\n",
    "    write_end = time()\n",
    "    write = round(write_end-write_start,3)\n",
    "\n",
    "    for _ in range(10):\n",
    "        gc.collect()\n",
    "\n",
    "    read_start = time()\n",
    "    if callable(c2):\n",
    "        c2(**c2_kw)\n",
    "    read_end = time()\n",
    "    read = round(read_end-read_start,3)\n",
    "\n",
    "    fn = c2_kw['path']\n",
    "    assert fn.exists()\n",
    "    fs = int(fn.stat().st_size/1e6)\n",
    "    config = {k:v for k,v in c2_kw.items() if k!= 'path'}\n",
    "\n",
    "    return ( c1, write, read, len(t2), fs , str(config))\n"
   ]
  },
  {
   "cell_type": "code",
   "execution_count": 13,
   "metadata": {},
   "outputs": [],
   "source": [
    "def import_export_benchmarks(tables, n_rows=10_000_000):\n",
    "    Config.PROCESSING_MODE = Config.FALSE\n",
    "        \n",
    "    t = sorted(tables, key=lambda x: len(x), reverse=True)[0]\n",
    "    \n",
    "    tmp = Path(tempfile.gettempdir()) / \"junk\"\n",
    "    tmp.mkdir(exist_ok=True)   \n",
    "\n",
    "    args = [\n",
    "        (   100_000, \"to_xlsx\", {'path': tmp/'1.xlsx'}, Table.from_file, {\"path\":tmp/'1.xlsx', \"sheet\":\"pyexcel_sheet1\"}),\n",
    "        (   100_000,  \"to_ods\",  {'path': tmp/'1.ods'}, Table.from_file, {\"path\":tmp/'1.ods', \"sheet\":\"pyexcel_sheet1\"} ),\n",
    "        ( 1_000_000,  \"to_csv\",  {'path': tmp/'1.csv'}, Table.from_file, {\"path\":tmp/'1.csv'}                           ),\n",
    "        ( 1_000_000,  \"to_csv\",  {'path': tmp/'1.csv'}, Table.from_file, {\"path\":tmp/'1.csv', \"guess_datatypes\":False}),\n",
    "        (10_000_000,  \"to_csv\",  {'path': tmp/'1.csv'}, Table.from_file, {\"path\":tmp/'1.csv', \"guess_datatypes\":False}),\n",
    "        ( 1_000_000,  \"to_tsv\",  {'path': tmp/'1.tsv'}, Table.from_file, {\"path\":tmp/'1.tsv'}                           ),\n",
    "        ( 1_000_000, \"to_text\",  {'path': tmp/'1.txt'}, Table.from_file, {\"path\":tmp/'1.txt'}                           ),\n",
    "        ( 1_000_000, \"to_html\", {'path': tmp/'1.html'}, Table.from_file, {\"path\":tmp/'1.html'}                          ),\n",
    "        ( 1_000_000, \"to_hdf5\", {'path': tmp/'1.hdf5'}, Table.from_file, {\"path\":tmp/'1.hdf5'}                          )\n",
    "    ]\n",
    "\n",
    "    results = Table()\n",
    "    results.add_columns('method', 'write (s)', 'read (s)', 'rows', 'size (Mb)', 'config')\n",
    "\n",
    "    results.add_rows( to_sql_benchmark(t) )\n",
    "    results.add_rows( to_json_benchmark(t) )\n",
    "\n",
    "    for arg in args:\n",
    "        if len(t)<arg[0]:\n",
    "            continue\n",
    "        print(arg[1], arg[0])\n",
    "        results.add_rows( f(t, arg) )\n",
    "    \n",
    "    r = results\n",
    "    r['read r/sec'] = [int(a/b) if b!=0  else \"nil\" for a,b in zip(r['rows'], r['read (s)']) ]\n",
    "    r['write r/sec'] = [int(a/b) if b!=0  else \"nil\" for a,b in zip(r['rows'], r['write (s)'])]\n",
    "\n",
    "    shutil.rmtree(tmp)\n",
    "    return results"
   ]
  },
  {
   "cell_type": "code",
   "execution_count": 14,
   "metadata": {},
   "outputs": [
    {
     "name": "stdout",
     "output_type": "stream",
     "text": [
      "to_xlsx 100000\n",
      "to_ods 100000\n",
      "to_csv 1000000\n",
      "to_csv 1000000\n",
      "to_csv 10000000\n",
      "to_tsv 1000000\n",
      "to_text 1000000\n",
      "to_html 1000000\n",
      "to_hdf5 1000000\n",
      "writing 12,000,000 records to C:\\Users\\madsenbj\\AppData\\Local\\Temp\\junk\\1.hdf5... done\n"
     ]
    }
   ],
   "source": [
    "ieb = import_export_benchmarks(tables)"
   ]
  },
  {
   "cell_type": "code",
   "execution_count": 15,
   "metadata": {},
   "outputs": [
    {
     "data": {
      "text/html": [
       "<div><table border=1><tr><th>#</th><th>method</th><th>write (s)</th><th>read (s)</th><th>rows</th><th>size (Mb)</th><th>config</th><th>read r/sec</th><th>write r/sec</th></tr><tr><th> 0</th><th>to_sql</th><th>12.792</th><th>0</th><th>50000000</th><th></th><th></th><th>nil</th><th>3908692</th></tr><tr><th> 1</th><th>to_json</th><th>11.394</th><th>3.461</th><th>50000000</th><th>142</th><th></th><th>14446691</th><th>4388274</th></tr><tr><th> 2</th><th>to_xlsx</th><th>10.653</th><th>19.821</th><th>100000</th><th>9</th><th>{'sheet': 'pyexcel_sheet1'}</th><th>5045</th><th>9387</th></tr><tr><th> 3</th><th>to_ods</th><th>61.058</th><th>57.039</th><th>100000</th><th>7</th><th>{'sheet': 'pyexcel_sheet1'}</th><th>1753</th><th>1637</th></tr><tr><th> 4</th><th>to_csv</th><th>15.209</th><th>13.641</th><th>1000000</th><th>109</th><th>{}</th><th>73308</th><th>65750</th></tr><tr><th> 5</th><th>to_csv</th><th>15.0</th><th>7.957</th><th>1000000</th><th>109</th><th>{'guess_datatypes': False}</th><th>125675</th><th>66666</th></tr><tr><th> 6</th><th>to_csv</th><th>148.472</th><th>84.923</th><th>10000000</th><th>1090</th><th>{'guess_datatypes': False}</th><th>117753</th><th>67352</th></tr><tr><th> 7</th><th>to_tsv</th><th>15.616</th><th>14.696</th><th>1000000</th><th>109</th><th>{}</th><th>68045</th><th>64036</th></tr><tr><th> 8</th><th>to_text</th><th>15.53</th><th>14.264</th><th>1000000</th><th>109</th><th>{}</th><th>70106</th><th>64391</th></tr><tr><th> 9</th><th>to_html</th><th>13.023</th><th>65.453</th><th>1000000</th><th>228</th><th>{}</th><th>15278</th><th>76787</th></tr><tr><th>10</th><th>to_hdf5</th><th>5.491</th><th>11.994</th><th>1000000</th><th>300</th><th>{}</th><th>83375</th><th>182116</th></tr></table></div>"
      ],
      "text/plain": [
       "Table(8 columns, 11 rows)"
      ]
     },
     "execution_count": 15,
     "metadata": {},
     "output_type": "execute_result"
    }
   ],
   "source": [
    "ieb"
   ]
  },
  {
   "attachments": {},
   "cell_type": "markdown",
   "metadata": {},
   "source": [
    "**Conclusions**\n",
    "\n",
    "Best:\n",
    "- to/from JSON wins with 2.3M rps read\n",
    "- to/from CSV/TSV/TEXT comes 2nd with config `guess_datatypes=False` with ~ 100k rps\n",
    "\n",
    "Worst:\n",
    "- to/from ods burst the memory footprint and hence had to be reduced to 100k rows. It also had the slowest read rate with 1450 rps.\n"
   ]
  },
  {
   "attachments": {},
   "cell_type": "markdown",
   "metadata": {},
   "source": [
    "# Various column functions\n",
    "\n",
    "- Setitem / getitem\n",
    "- iter\n",
    "- equal, not equal\n",
    "- copy\n",
    "- t += t\n",
    "- t *= t\n",
    "- contains\n",
    "- remove all\n",
    "- replace\n",
    "- index\n",
    "- unique\n",
    "- histogram\n",
    "- statistics\n",
    "- count"
   ]
  },
  {
   "cell_type": "code",
   "execution_count": 16,
   "metadata": {},
   "outputs": [],
   "source": [
    "def contains_benchmark(table):\n",
    "    results = Table()\n",
    "    results.add_columns( \"column\", \"time (s)\" )\n",
    "    for name,col in table.columns.items():\n",
    "        n = len(col)\n",
    "        start,stop,step = int(n*0.02), int(n*0.98), int(n/100)\n",
    "        selection = col[start:stop:step]\n",
    "        total_time = 0.0\n",
    "        for v in selection:\n",
    "            start_time = perf_counter()\n",
    "            v in col  # <--- test!\n",
    "            end_time = perf_counter()\n",
    "            total_time += (end_time - start_time)\n",
    "        avg_time = total_time / len(selection)\n",
    "        results.add_rows( name, round(avg_time,3) )\n",
    "\n",
    "    return results\n",
    "    "
   ]
  },
  {
   "cell_type": "code",
   "execution_count": 17,
   "metadata": {},
   "outputs": [
    {
     "data": {
      "text/html": [
       "<div><table border=1><tr><th>#</th><th>column</th><th>time (s)</th></tr><tr><th> 0</th><th>#</th><th>0.002</th></tr><tr><th> 1</th><th>1</th><th>0.084</th></tr><tr><th> 2</th><th>2</th><th>0.035</th></tr><tr><th> 3</th><th>3</th><th>0.002</th></tr><tr><th> 4</th><th>4</th><th>0.002</th></tr><tr><th> 5</th><th>5</th><th>0.002</th></tr><tr><th> 6</th><th>6</th><th>0.009</th></tr><tr><th> 7</th><th>7</th><th>0.006</th></tr><tr><th> 8</th><th>8</th><th>0.009</th></tr><tr><th> 9</th><th>9</th><th>0.008</th></tr><tr><th>10</th><th>10</th><th>0.083</th></tr><tr><th>11</th><th>11</th><th>0.801</th></tr></table></div>"
      ],
      "text/plain": [
       "Table(2 columns, 12 rows)"
      ]
     },
     "execution_count": 17,
     "metadata": {},
     "output_type": "execute_result"
    }
   ],
   "source": [
    "has_it = contains_benchmark(tables[-1])\n",
    "has_it"
   ]
  },
  {
   "attachments": {},
   "cell_type": "markdown",
   "metadata": {},
   "source": [
    "# Various table functions"
   ]
  },
  {
   "attachments": {},
   "cell_type": "markdown",
   "metadata": {},
   "source": [
    "### Slicing\n",
    "\n",
    "Slicing operations are used in many places."
   ]
  },
  {
   "cell_type": "code",
   "execution_count": 18,
   "metadata": {},
   "outputs": [],
   "source": [
    "def slicing_benchmark(table):\n",
    "    n = len(table)\n",
    "    start,stop,step = int(0.02*n), int(0.98*n), int(n / 20)  # from 2% to 98% in 20 large steps\n",
    "    start_time = perf_counter()\n",
    "    snip = table[start:stop:step]\n",
    "    end_time = perf_counter()\n",
    "    print(f\"reading {len(table):,} rows to find {len(snip):,} rows took {end_time-start_time:.3f} sec\")\n",
    "    return snip"
   ]
  },
  {
   "cell_type": "code",
   "execution_count": 19,
   "metadata": {},
   "outputs": [
    {
     "name": "stdout",
     "output_type": "stream",
     "text": [
      "reading 50,000,000 rows to find 20 rows took 3.263 sec\n"
     ]
    }
   ],
   "source": [
    "slice_it = slicing_benchmark(tables[-1])"
   ]
  },
  {
   "cell_type": "code",
   "execution_count": 20,
   "metadata": {},
   "outputs": [],
   "source": [
    "def column_selection_benchmark(tables):\n",
    "    results = Table()\n",
    "    results.add_columns( 'rows')\n",
    "    results.add_columns(*[f\"n cols={i}\" for i,_ in enumerate(tables[0].columns,start=1)])\n",
    "\n",
    "    for table in tables:\n",
    "        rr = [len(table)]\n",
    "        for ix, name in enumerate(table.columns):\n",
    "            cols = list(table.columns)[:ix+1]\n",
    "            start_time = perf_counter()\n",
    "            table.__getitem__(*cols)\n",
    "            end_time = perf_counter()\n",
    "            rr.append(end_time-start_time)\n",
    "        results.add_rows( rr )\n",
    "    return results"
   ]
  },
  {
   "cell_type": "code",
   "execution_count": 21,
   "metadata": {},
   "outputs": [
    {
     "name": "stdout",
     "output_type": "stream",
     "text": [
      "times below are are in seconds\n"
     ]
    },
    {
     "data": {
      "text/html": [
       "<div><table border=1><tr><th>#</th><th>rows</th><th>n cols=1</th><th>n cols=2</th><th>n cols=3</th><th>n cols=4</th><th>n cols=5</th><th>n cols=6</th><th>n cols=7</th><th>n cols=8</th><th>n cols=9</th><th>n cols=10</th><th>n cols=11</th><th>n cols=12</th></tr><tr><th> 0</th><th>1000000</th><th>1.3099999705445953e-05</th><th>0.00010900000052060932</th><th>7.370000093942508e-05</th><th>6.439999924623407e-05</th><th>6.519999988086056e-05</th><th>6.489999941550195e-05</th><th>6.600000051548705e-05</th><th>6.659999962721486e-05</th><th>6.469999971159268e-05</th><th>6.480000047304202e-05</th><th>6.730000131938141e-05</th><th>6.67000003886642e-05</th></tr><tr><th> 1</th><th>2000000</th><th>1.5200001143966801e-05</th><th>0.00015170000006037299</th><th>0.00012489999971876387</th><th>0.0001083999995898921</th><th>0.00010379999912402127</th><th>0.00010560000009718351</th><th>0.00011850000009872019</th><th>0.00012040000001434237</th><th>0.00010629999997036066</th><th>0.00011709999853337649</th><th>0.0001201999984914437</th><th>0.00011919999997189734</th></tr><tr><th> 2</th><th>5000000</th><th>2.2700000045006163e-05</th><th>0.00016429999959655106</th><th>7.890000051702373e-05</th><th>6.709999979648273e-05</th><th>6.690000009257346e-05</th><th>6.779999966965988e-05</th><th>6.849999954283703e-05</th><th>6.930000017746352e-05</th><th>6.790000043110922e-05</th><th>6.84000006003771e-05</th><th>7.409999852825422e-05</th><th>7.579999873996712e-05</th></tr><tr><th> 3</th><th>20000000</th><th>3.8500000300700776e-05</th><th>0.00014010000086273067</th><th>0.00010309999925084412</th><th>9.160000081465114e-05</th><th>8.999999954539817e-05</th><th>8.970000089902896e-05</th><th>8.929999967222102e-05</th><th>8.960000013757963e-05</th><th>8.960000013757963e-05</th><th>9.210000098391902e-05</th><th>9.219999992637895e-05</th><th>9.509999836154748e-05</th></tr><tr><th> 4</th><th>50000000</th><th>8.139999954437371e-05</th><th>0.00017779999870981555</th><th>0.00015499999972234946</th><th>0.00013269999908516183</th><th>0.00013209999997343402</th><th>0.0001294999983656453</th><th>0.00016369999866583385</th><th>0.00013270000090415124</th><th>0.00012820000119972974</th><th>0.0001277999999729218</th><th>0.00012939999942318536</th><th>0.00013169999874662608</th></tr></table></div>"
      ],
      "text/plain": [
       "Table(13 columns, 5 rows)"
      ]
     },
     "execution_count": 21,
     "metadata": {},
     "output_type": "execute_result"
    }
   ],
   "source": [
    "csb = column_selection_benchmark(tables)\n",
    "print(\"times below are are in seconds\")\n",
    "csb"
   ]
  },
  {
   "cell_type": "code",
   "execution_count": 22,
   "metadata": {},
   "outputs": [],
   "source": [
    "def iterrows_benchmark(table):\n",
    "    results = Table()\n",
    "    results.add_columns( 'n columns', 'time (s)')\n",
    "\n",
    "    columns = ['1']\n",
    "    for column in list(table.columns):\n",
    "        columns.append(column)\n",
    "        snip = table.__getitem__(*columns, slice(500_000,1_500_000))\n",
    "        start_time = perf_counter()\n",
    "        counts = 0\n",
    "        for row in snip.rows:\n",
    "            counts += 1\n",
    "        end_time = perf_counter()\n",
    "        results.add_rows( len(columns), round(end_time-start_time,3))\n",
    "\n",
    "    return results\n"
   ]
  },
  {
   "cell_type": "code",
   "execution_count": 23,
   "metadata": {},
   "outputs": [
    {
     "data": {
      "text/html": [
       "<div><table border=1><tr><th>#</th><th>n columns</th><th>time (s)</th></tr><tr><th> 0</th><th>2</th><th>1.621</th></tr><tr><th> 1</th><th>3</th><th>1.603</th></tr><tr><th> 2</th><th>4</th><th>2.681</th></tr><tr><th> 3</th><th>5</th><th>3.326</th></tr><tr><th> 4</th><th>6</th><th>3.992</th></tr><tr><th> 5</th><th>7</th><th>4.767</th></tr><tr><th> 6</th><th>8</th><th>5.675</th></tr><tr><th> 7</th><th>9</th><th>6.564</th></tr><tr><th> 8</th><th>10</th><th>7.719</th></tr><tr><th> 9</th><th>11</th><th>8.738</th></tr><tr><th>10</th><th>12</th><th>9.455</th></tr><tr><th>11</th><th>13</th><th>16.095</th></tr></table></div>"
      ],
      "text/plain": [
       "Table(2 columns, 12 rows)"
      ]
     },
     "execution_count": 23,
     "metadata": {},
     "output_type": "execute_result"
    }
   ],
   "source": [
    "iterb = iterrows_benchmark(tables[-1])\n",
    "iterb"
   ]
  },
  {
   "cell_type": "code",
   "execution_count": 24,
   "metadata": {},
   "outputs": [
    {
     "data": {
      "image/png": "[encoded data removed]",
      "text/plain": [
       "<Figure size 432x288 with 1 Axes>"
      ]
     },
     "metadata": {
      "needs_background": "light"
     },
     "output_type": "display_data"
    }
   ],
   "source": [
    "import matplotlib.pyplot as plt\n",
    "plt.plot(iterb['n columns'], iterb['time (s)'])\n",
    "plt.show()\n"
   ]
  },
  {
   "attachments": {},
   "cell_type": "markdown",
   "metadata": {},
   "source": [
    "### Table.dtypes()\n",
    "\n",
    "Table.dtypes() is implemented for near constant speed lookup."
   ]
  },
  {
   "cell_type": "code",
   "execution_count": 25,
   "metadata": {},
   "outputs": [],
   "source": [
    "def dtypes_benchmark(tables):\n",
    "    dtypes_results = Table()\n",
    "    dtypes_results.add_columns(\"rows\", \"time (s)\")\n",
    "\n",
    "    for table in tables:\n",
    "        start_time = perf_counter()\n",
    "        dt = table.dtypes()\n",
    "        end_time = perf_counter()\n",
    "        assert isinstance(dt, dict) and len(dt) != 0\n",
    "        dtypes_results.add_rows( len(table), round(end_time-start_time, 3) )\n",
    "\n",
    "    return dtypes_results"
   ]
  },
  {
   "cell_type": "code",
   "execution_count": 26,
   "metadata": {},
   "outputs": [
    {
     "data": {
      "text/html": [
       "<div><table border=1><tr><th>#</th><th>rows</th><th>time (s)</th></tr><tr><th> 0</th><th>1000000</th><th>0.0</th></tr><tr><th> 1</th><th>2000000</th><th>0.0</th></tr><tr><th> 2</th><th>5000000</th><th>0.0</th></tr><tr><th> 3</th><th>20000000</th><th>0.0</th></tr><tr><th> 4</th><th>50000000</th><th>0.001</th></tr></table></div>"
      ],
      "text/plain": [
       "Table(2 columns, 5 rows)"
      ]
     },
     "execution_count": 26,
     "metadata": {},
     "output_type": "execute_result"
    }
   ],
   "source": [
    "dtype_b = dtypes_benchmark(tables)\n",
    "dtype_b"
   ]
  },
  {
   "attachments": {},
   "cell_type": "markdown",
   "metadata": {},
   "source": [
    "### Table.any"
   ]
  },
  {
   "cell_type": "code",
   "execution_count": 27,
   "metadata": {},
   "outputs": [],
   "source": [
    "def any_benchmark(tables):\n",
    "    results = Table()\n",
    "    results.add_columns(\"rows\", *list(tables[0].columns))\n",
    "\n",
    "    for table in tables:\n",
    "        tmp = [len(table)]\n",
    "        for column in list(table.columns):\n",
    "            v = table[column][0]\n",
    "            start_time = perf_counter()\n",
    "            _ = table.any(**{column: v})\n",
    "            end_time = perf_counter()           \n",
    "            tmp.append(round(end_time-start_time,3))\n",
    "\n",
    "        results.add_rows( tmp )\n",
    "    return results\n"
   ]
  },
  {
   "cell_type": "code",
   "execution_count": 28,
   "metadata": {},
   "outputs": [
    {
     "data": {
      "text/html": [
       "<div><table border=1><tr><th>~</th><th>rows</th><th>#</th><th>1</th><th>2</th><th>3</th><th>4</th><th>5</th><th>6</th><th>7</th><th>8</th><th>9</th><th>10</th><th>11</th></tr><tr><th> 0</th><th>1000000</th><th>0.223</th><th>0.248</th><th>0.285</th><th>0.274</th><th>0.434</th><th>0.255</th><th>0.314</th><th>0.212</th><th>0.361</th><th>0.442</th><th>0.271</th><th>0.302</th></tr><tr><th> 1</th><th>2000000</th><th>0.483</th><th>0.427</th><th>0.592</th><th>0.476</th><th>0.829</th><th>0.522</th><th>0.626</th><th>0.507</th><th>0.788</th><th>0.761</th><th>0.447</th><th>0.574</th></tr><tr><th> 2</th><th>5000000</th><th>1.502</th><th>1.003</th><th>1.633</th><th>1.242</th><th>2.32</th><th>0.978</th><th>0.953</th><th>0.77</th><th>1.133</th><th>1.296</th><th>0.832</th><th>1.144</th></tr><tr><th> 3</th><th>20000000</th><th>4.122</th><th>3.258</th><th>4.542</th><th>3.598</th><th>6.771</th><th>3.799</th><th>3.895</th><th>3.043</th><th>4.613</th><th>5.944</th><th>2.889</th><th>3.462</th></tr><tr><th> 4</th><th>50000000</th><th>11.85</th><th>12.257</th><th>17.8</th><th>16.155</th><th>24.334</th><th>13.759</th><th>14.876</th><th>13.288</th><th>18.624</th><th>19.064</th><th>13.299</th><th>14.41</th></tr></table></div>"
      ],
      "text/plain": [
       "Table(13 columns, 5 rows)"
      ]
     },
     "execution_count": 28,
     "metadata": {},
     "output_type": "execute_result"
    }
   ],
   "source": [
    "\n",
    "anyb = any_benchmark(tables)\n",
    "anyb"
   ]
  },
  {
   "attachments": {},
   "cell_type": "markdown",
   "metadata": {},
   "source": [
    "# Table.all"
   ]
  },
  {
   "cell_type": "code",
   "execution_count": 29,
   "metadata": {},
   "outputs": [],
   "source": [
    "def all_benchmark(tables):\n",
    "    results = Table()\n",
    "    results.add_columns(\"rows\", *list(tables[0].columns))\n",
    "\n",
    "    for table in tables:\n",
    "        tmp = [len(table)]\n",
    "        for column in list(table.columns):\n",
    "            v = table[column][0]\n",
    "            start_time = perf_counter()\n",
    "            _ = table.all(**{column: v})\n",
    "            end_time = perf_counter()           \n",
    "            tmp.append(round(end_time-start_time,3))\n",
    "\n",
    "        results.add_rows( tmp )\n",
    "    return results\n"
   ]
  },
  {
   "cell_type": "code",
   "execution_count": 30,
   "metadata": {},
   "outputs": [
    {
     "data": {
      "text/html": [
       "<div><table border=1><tr><th>~</th><th>rows</th><th>#</th><th>1</th><th>2</th><th>3</th><th>4</th><th>5</th><th>6</th><th>7</th><th>8</th><th>9</th><th>10</th><th>11</th></tr><tr><th> 0</th><th>1000000</th><th>0.2</th><th>0.179</th><th>0.224</th><th>0.16</th><th>0.296</th><th>0.207</th><th>0.23</th><th>0.206</th><th>0.253</th><th>0.285</th><th>0.176</th><th>0.194</th></tr><tr><th> 1</th><th>2000000</th><th>0.36</th><th>0.295</th><th>0.407</th><th>0.365</th><th>0.593</th><th>0.36</th><th>0.399</th><th>0.314</th><th>0.494</th><th>0.52</th><th>0.302</th><th>0.46</th></tr><tr><th> 2</th><th>5000000</th><th>1.034</th><th>0.821</th><th>1.092</th><th>0.936</th><th>1.663</th><th>0.959</th><th>1.115</th><th>0.911</th><th>1.211</th><th>1.369</th><th>0.855</th><th>1.007</th></tr><tr><th> 3</th><th>20000000</th><th>4.235</th><th>3.558</th><th>4.638</th><th>3.502</th><th>6.321</th><th>3.516</th><th>4.329</th><th>3.569</th><th>5.567</th><th>7.162</th><th>4.038</th><th>4.286</th></tr><tr><th> 4</th><th>50000000</th><th>13.644</th><th>14.198</th><th>18.593</th><th>15.448</th><th>24.421</th><th>15.57</th><th>17.602</th><th>15.053</th><th>20.852</th><th>21.947</th><th>14.848</th><th>16.233</th></tr></table></div>"
      ],
      "text/plain": [
       "Table(13 columns, 5 rows)"
      ]
     },
     "execution_count": 30,
     "metadata": {},
     "output_type": "execute_result"
    }
   ],
   "source": [
    "allb = all_benchmark(tables)\n",
    "allb"
   ]
  }
 ],
 "metadata": {
  "kernelspec": {
   "display_name": "tablite310",
   "language": "python",
   "name": "python3"
  },
  "language_info": {
   "codemirror_mode": {
    "name": "ipython",
    "version": 3
   },
   "file_extension": ".py",
   "mimetype": "text/x-python",
   "name": "python",
   "nbconvert_exporter": "python",
   "pygments_lexer": "ipython3",
   "version": "3.10.11"
  },
  "orig_nbformat": 4
 },
 "nbformat": 4,
 "nbformat_minor": 2
}
