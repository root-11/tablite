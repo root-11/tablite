{
 "cells": [
  {
   "attachments": {},
   "cell_type": "markdown",
   "metadata": {
    "pycharm": {
     "name": "#%% md\n"
    }
   },
   "source": [
    "# Tablite\n",
    "\n",
    "<table><tr>\n",
    "    <td> <img src=\"https://app.travis-ci.com/root-11/tablite.svg?branch=master\" alt=\"Build Status\" style=\"width: 100px;\"/> </td>\n",
    "    <td></td>\n",
    "        <td> <img src=\"https://codecov.io/gh/root-11/tablite/branch/master/graph/badge.svg\" alt=\"Code coverage\" style=\"width: 100px;\"/> </td>\n",
    "    <td></td>\n",
    "        <td> <img src=\"https://pepy.tech/badge/tablite\" alt=\"Downloads\" style=\"width: 100px;\"/> </td>\n",
    "    <td></td>\n",
    "        <td> <img src=\"https://pepy.tech/badge/tablite/month\" alt=\"Downloads / month\" style=\"width: 100px;\"/> </td>\n",
    "    <td></td>\n",
    "</tr></table>"
   ]
  },
  {
   "attachments": {},
   "cell_type": "markdown",
   "metadata": {},
   "source": []
  },
  {
   "attachments": {},
   "cell_type": "markdown",
   "metadata": {},
   "source": [
    "\n",
    "# Introduction\n",
    "\n",
    "[Tablite](https://pypi.org/project/tablite/) fills the data-science space where incremental data processing based on:\n",
    "\n",
    "- Datasets are larger than memory.\n",
    "- You don't want to worry about datatypes.\n",
    "\n",
    "Tablite thereby competes with:\n",
    "\n",
    "- Pandas, but saves the memory overhead.\n",
    "- Numpy, but spares you from worrying about lower level data types\n",
    "- SQlite, by sheer speed.\n",
    "- Polars, by working beyond RAM.\n",
    "- Other libraries for data cleaning thanks to tablites powerful `datatypes` module.\n",
    "\n",
    "**Install**: `pip install tablite`\n",
    "\n",
    "**Usage**:  `>>> from tablite import Table`\n",
    "\n",
    "**Upgrade**: `pip install tablite --no-cache --upgrade`"
   ]
  },
  {
   "attachments": {},
   "cell_type": "markdown",
   "metadata": {},
   "source": [
    "\n",
    "### Overview\n",
    "\n",
    "(Version 2023.6.0 and later. For older version see [this](https://github.com/root-11/tablite/blob/9813c34aa5f4c19683686df5e591ee690f0ad2bc/tutorial.ipynb))\n",
    "\n",
    "- Tablite handles all Python datatypes: `str`, `float`, `bool`, `int`, `date`, `datetime`, `time`, `timedelta` and `None`.\n",
    "- you can select:\n",
    "  - all rows in a column as `table['A']`\n",
    "  - rows across all columns as `table[4:8]`\n",
    "  - or a slice as `table['A', 'B', slice(4,8) ]`.\n",
    "- you to update with `table['A'][2] = new value`\n",
    "- you can store or send data using json, by:\n",
    "  - dumping to json: `json_str = table.to_json()`, or\n",
    "  - you can load it with `Table.from_json(json_str)`.\n",
    "- you can iterate over rows using `for row in Table.rows`.\n",
    "- you can ask `column_xyz in Table.colums` ?\n",
    "- load from files with `new_table = Table.from_file('this.csv')` which has automatic datatype detection\n",
    "- perform inner, outer & left sql join between tables as simple as `table_1.inner_join(table2, keys=['A', 'B'])`\n",
    "- summarise using `table.groupby( ... )`\n",
    "- create pivot tables using `groupby.pivot( ... )`\n",
    "- perform multi-criteria lookup in tables using `table1.lookup(table2, criteria=.....`\n",
    "- and of course a large selection of tools in `from tablite.tools import *`\n"
   ]
  },
  {
   "attachments": {},
   "cell_type": "markdown",
   "metadata": {},
   "source": [
    "\n",
    "### Examples\n",
    "\n",
    "Here are some examples:"
   ]
  },
  {
   "cell_type": "code",
   "execution_count": 1,
   "metadata": {
    "pycharm": {
     "name": "#%%\n"
    }
   },
   "outputs": [],
   "source": [
    "from tablite import Table\n",
    "\n",
    "# To create a tablite table is as simple as populating a dictionary:\n",
    "t = Table({'A':[1,2,3], 'B':['a','b','c']})"
   ]
  },
  {
   "cell_type": "code",
   "execution_count": 2,
   "metadata": {},
   "outputs": [
    {
     "data": {
      "text/html": [
       "<div><table border=1><tr><th>#</th><th>A</th><th>B</th></tr><tr><th> 0</th><th>1</th><th>a</th></tr><tr><th> 1</th><th>2</th><th>b</th></tr><tr><th> 2</th><th>3</th><th>c</th></tr></table></div>"
      ],
      "text/plain": [
       "Table(2 columns, 3 rows)"
      ]
     },
     "execution_count": 2,
     "metadata": {},
     "output_type": "execute_result"
    }
   ],
   "source": [
    "# In this notebook we can show tables in the HTML style:\n",
    "t"
   ]
  },
  {
   "cell_type": "code",
   "execution_count": 3,
   "metadata": {},
   "outputs": [
    {
     "name": "stdout",
     "output_type": "stream",
     "text": [
      "+==+=+=+\n",
      "|# |A|B|\n",
      "+--+-+-+\n",
      "| 0|1|a|\n",
      "| 1|2|b|\n",
      "| 2|3|c|\n",
      "+==+=+=+\n"
     ]
    }
   ],
   "source": [
    "# or the ascii style:\n",
    "t.show()"
   ]
  },
  {
   "cell_type": "code",
   "execution_count": 4,
   "metadata": {},
   "outputs": [
    {
     "name": "stdout",
     "output_type": "stream",
     "text": [
      "Table(2 columns, 3 rows)\n"
     ]
    }
   ],
   "source": [
    "# or if you'd like to inspect the table, use:\n",
    "print(str(t))"
   ]
  },
  {
   "cell_type": "code",
   "execution_count": 5,
   "metadata": {
    "pycharm": {
     "name": "#%%\n"
    }
   },
   "outputs": [],
   "source": [
    "# You can also add all columns at once (slower) if you prefer. \n",
    "t2 = Table(headers=('A','B'), rows=((1,'a'),(2,'b'),(3,'c')))\n",
    "assert t==t2"
   ]
  },
  {
   "cell_type": "code",
   "execution_count": 6,
   "metadata": {
    "pycharm": {
     "name": "#%%\n"
    }
   },
   "outputs": [
    {
     "name": "stderr",
     "output_type": "stream",
     "text": [
      "importing: consolidating 'book1.csv': 100.00%|██████████| [00:01<00:00]\n"
     ]
    },
    {
     "data": {
      "text/html": [
       "<div><table border=1><tr><th>#</th><th>a</th><th>b</th><th>c</th><th>d</th><th>e</th><th>f</th></tr><tr><th> 0</th><th>1</th><th>0.060606061</th><th>0.090909091</th><th>0.121212121</th><th>0.151515152</th><th>0.181818182</th></tr><tr><th> 1</th><th>2</th><th>0.121212121</th><th>0.242424242</th><th>0.484848485</th><th>0.96969697</th><th>1.939393939</th></tr><tr><th> 2</th><th>3</th><th>0.242424242</th><th>0.484848485</th><th>0.96969697</th><th>1.939393939</th><th>3.878787879</th></tr><tr><th> 3</th><th>4</th><th>0.484848485</th><th>0.96969697</th><th>1.939393939</th><th>3.878787879</th><th>7.757575758</th></tr><tr><th> 4</th><th>5</th><th>0.96969697</th><th>1.939393939</th><th>3.878787879</th><th>7.757575758</th><th>15.51515152</th></tr><tr><th> 5</th><th>6</th><th>1.939393939</th><th>3.878787879</th><th>7.757575758</th><th>15.51515152</th><th>31.03030303</th></tr><tr><th> 6</th><th>7</th><th>3.878787879</th><th>7.757575758</th><th>15.51515152</th><th>31.03030303</th><th>62.06060606</th></tr><tr><th>...</th><th>...</th><th>...</th><th>...</th><th>...</th><th>...</th><th>...</th></tr><tr><th>38</th><th>39</th><th>16659267088.0</th><th>33318534175.0</th><th>66637068350.0</th><th>133274000000.0</th><th>266548000000.0</th></tr><tr><th>39</th><th>40</th><th>33318534175.0</th><th>66637068350.0</th><th>133274000000.0</th><th>266548000000.0</th><th>533097000000.0</th></tr><tr><th>40</th><th>41</th><th>66637068350.0</th><th>133274000000.0</th><th>266548000000.0</th><th>533097000000.0</th><th>1066190000000.0</th></tr><tr><th>41</th><th>42</th><th>133274000000.0</th><th>266548000000.0</th><th>533097000000.0</th><th>1066190000000.0</th><th>2132390000000.0</th></tr><tr><th>42</th><th>43</th><th>266548000000.0</th><th>533097000000.0</th><th>1066190000000.0</th><th>2132390000000.0</th><th>4264770000000.0</th></tr><tr><th>43</th><th>44</th><th>533097000000.0</th><th>1066190000000.0</th><th>2132390000000.0</th><th>4264770000000.0</th><th>8529540000000.0</th></tr><tr><th>44</th><th>45</th><th>1066190000000.0</th><th>2132390000000.0</th><th>4264770000000.0</th><th>8529540000000.0</th><th>17059100000000.0</th></tr></table></div>"
      ],
      "text/plain": [
       "Table(6 columns, 45 rows)"
      ]
     },
     "execution_count": 6,
     "metadata": {},
     "output_type": "execute_result"
    }
   ],
   "source": [
    "# or load data:\n",
    "t3 = Table.from_file('tests/data/book1.csv')\n",
    "\n",
    "# to view any table in the notebook just let jupyter show the table. If you're using the terminal use .show(). \n",
    "# Note that show gives either first and last 7 rows or the whole table if it is less than 20 rows.\n",
    "t3"
   ]
  },
  {
   "cell_type": "code",
   "execution_count": 7,
   "metadata": {
    "pycharm": {
     "name": "#%%\n"
    }
   },
   "outputs": [
    {
     "name": "stdout",
     "output_type": "stream",
     "text": [
      "sample is of type <class 'dict'> and has the following entries:\n",
      "delimiter\n",
      "book1.csv\n",
      "\t ['a', 'b', 'c', 'd', 'e', 'f']\n",
      "\t ['1', '0.060606061', '0.090909091', '0.121212121', '0.151515152', '0.181818182']\n",
      "\t ['2', '0.121212121', '0.242424242', '0.484848485', '0.96969697', '1.939393939']\n",
      "\t ['3', '0.242424242', '0.484848485', '0.96969697', '1.939393939', '3.878787879']\n",
      "\t ['4', '0.484848485', '0.96969697', '1.939393939', '3.878787879', '7.757575758']\n",
      "\t ['5', '0.96969697', '1.939393939', '3.878787879', '7.757575758', '15.51515152']\n",
      "\t ['6', '1.939393939', '3.878787879', '7.757575758', '15.51515152', '31.03030303']\n"
     ]
    }
   ],
   "source": [
    "# should you however want to select the headers instead of importing everything\n",
    "# (which maybe timeconsuming), simply use get_headers(path)\n",
    "from tablite.tools import get_headers\n",
    "from pathlib import Path\n",
    "path = Path('tests/data/book1.csv')\n",
    "sample = get_headers(path, linecount=5)\n",
    "print(f\"sample is of type {type(sample)} and has the following entries:\")\n",
    "for k,v in sample.items():\n",
    "    print(k)\n",
    "    if isinstance(v,list):\n",
    "        for r in sample[k]:\n",
    "            print(\"\\t\", r)"
   ]
  },
  {
   "cell_type": "code",
   "execution_count": 8,
   "metadata": {
    "pycharm": {
     "name": "#%%\n"
    }
   },
   "outputs": [
    {
     "data": {
      "text/html": [
       "<div><table border=1><tr><th>#</th><th>A</th><th>B</th><th>C</th></tr><tr><th> 0</th><th>1</th><th>a</th><th>4</th></tr><tr><th> 1</th><th>2</th><th>b</th><th>5</th></tr><tr><th> 2</th><th>3</th><th>c</th><th>6</th></tr></table></div>"
      ],
      "text/plain": [
       "Table(3 columns, 3 rows)"
      ]
     },
     "execution_count": 8,
     "metadata": {},
     "output_type": "execute_result"
    }
   ],
   "source": [
    "# to extend a table by adding columns, use t[new] = [new values]\n",
    "t['C'] = [4,5,6]\n",
    "# but make sure the column has the same length as the rest of the table!\n",
    "t"
   ]
  },
  {
   "cell_type": "code",
   "execution_count": 9,
   "metadata": {
    "pycharm": {
     "name": "#%%\n"
    }
   },
   "outputs": [
    {
     "data": {
      "text/html": [
       "<div><table border=1><tr><th>#</th><th>mixed</th></tr><tr><th> 0</th><th>-1</th></tr><tr><th> 1</th><th>0</th></tr><tr><th> 2</th><th>1</th></tr><tr><th> 3</th><th>-12345678909876543211234567890987654321</th></tr><tr><th> 4</th><th>None</th></tr><tr><th> 5</th><th>nan</th></tr><tr><th> 6</th><th>one</th></tr><tr><th> 7</th><th></th></tr><tr><th> 8</th><th>True</th></tr><tr><th> 9</th><th>False</th></tr><tr><th>10</th><th>inf</th></tr><tr><th>11</th><th>0.01</th></tr><tr><th>12</th><th>2000-01-01</th></tr><tr><th>13</th><th>2002-02-03 23:00:04.006660</th></tr><tr><th>14</th><th>12:12:12</th></tr><tr><th>15</th><th>3 days, 1:34:38</th></tr></table></div>"
      ],
      "text/plain": [
       "Table(1 columns, 16 rows)"
      ]
     },
     "execution_count": 9,
     "metadata": {},
     "output_type": "execute_result"
    }
   ],
   "source": [
    "# should you want to mix datatypes, tablite will not complain:\n",
    "from datetime import datetime, date,time,timedelta\n",
    "import numpy as np\n",
    "# What you put in ...\n",
    "t4 = Table()\n",
    "t4['mixed'] = [\n",
    "    -1,0,1,  # regular integers\n",
    "    -12345678909876543211234567890987654321,  # very very large integer\n",
    "    None,np.nan,  # null values \n",
    "    \"one\", \"\",  # strings\n",
    "    True,False,  # booleans\n",
    "    float('inf'), 0.01,  # floats\n",
    "    date(2000,1,1),   # date\n",
    "    datetime(2002,2,3,23,0,4,6660),  # datetime\n",
    "    time(12,12,12),  # time\n",
    "    timedelta(days=3, seconds=5678)  # timedelta\n",
    "]\n",
    "# ... is exactly what you get out:\n",
    "t4"
   ]
  },
  {
   "cell_type": "code",
   "execution_count": 10,
   "metadata": {},
   "outputs": [
    {
     "name": "stdout",
     "output_type": "stream",
     "text": [
      "-1\n",
      "0\n",
      "1\n",
      "-12345678909876543211234567890987654321\n",
      "None\n",
      "nan\n",
      "one\n",
      "\n",
      "True\n",
      "False\n",
      "inf\n",
      "0.01\n",
      "2000-01-01\n",
      "2002-02-03 23:00:04.006660\n",
      "12:12:12\n",
      "3 days, 1:34:38\n"
     ]
    }
   ],
   "source": [
    "# also if you claim the values back as a python list:\n",
    "for item in list(t4['mixed']):\n",
    "    print(item)"
   ]
  },
  {
   "attachments": {},
   "cell_type": "markdown",
   "metadata": {
    "pycharm": {
     "name": "#%%\n"
    }
   },
   "source": [
    "The column itself (`__repr__`) shows us the `pid`, `file location` and the entries, so you know exactly what you're working with."
   ]
  },
  {
   "cell_type": "code",
   "execution_count": 11,
   "metadata": {},
   "outputs": [
    {
     "data": {
      "text/plain": [
       "Column(C:\\Users\\madsenbj\\AppData\\Local\\Temp\\tablite-tmp\\pid-2860, [-1 0 1 -12345678909876543211234567890987654321 None nan 'one' '' True\n",
       " False inf 0.01 datetime.date(2000, 1, 1)\n",
       " datetime.datetime(2002, 2, 3, 23, 0, 4, 6660) datetime.time(12, 12, 12)\n",
       " datetime.timedelta(days=3, seconds=5678)])"
      ]
     },
     "execution_count": 11,
     "metadata": {},
     "output_type": "execute_result"
    }
   ],
   "source": [
    "t4['mixed']"
   ]
  },
  {
   "cell_type": "code",
   "execution_count": 12,
   "metadata": {
    "pycharm": {
     "name": "#%%\n"
    }
   },
   "outputs": [
    {
     "name": "stdout",
     "output_type": "stream",
     "text": [
      "<class 'int'> 4\n",
      "<class 'NoneType'> 1\n",
      "<class 'float'> 3\n",
      "<class 'str'> 2\n",
      "<class 'bool'> 2\n",
      "<class 'datetime.date'> 1\n",
      "<class 'datetime.datetime'> 1\n",
      "<class 'datetime.time'> 1\n",
      "<class 'datetime.timedelta'> 1\n"
     ]
    }
   ],
   "source": [
    "# to view the datatypes in a column, use Column.types()\n",
    "type_dict = t4['mixed'].types()\n",
    "for k,v in type_dict.items():\n",
    "    print(k,v)"
   ]
  },
  {
   "cell_type": "code",
   "execution_count": 13,
   "metadata": {
    "pycharm": {
     "name": "#%%\n"
    }
   },
   "outputs": [
    {
     "data": {
      "text/html": [
       "<div><table border=1><tr><th>#</th><th>a</th><th>b</th><th>c</th><th>d</th><th>e</th><th>f</th></tr><tr><th> 0</th><th>1</th><th>0.060606061</th><th>0.090909091</th><th>0.121212121</th><th>0.151515152</th><th>0.181818182</th></tr><tr><th> 1</th><th>2</th><th>0.121212121</th><th>0.242424242</th><th>0.484848485</th><th>0.96969697</th><th>1.939393939</th></tr><tr><th> 2</th><th>3</th><th>0.242424242</th><th>0.484848485</th><th>0.96969697</th><th>1.939393939</th><th>3.878787879</th></tr><tr><th> 3</th><th>4</th><th>0.484848485</th><th>0.96969697</th><th>1.939393939</th><th>3.878787879</th><th>7.757575758</th></tr><tr><th> 4</th><th>5</th><th>0.96969697</th><th>1.939393939</th><th>3.878787879</th><th>7.757575758</th><th>15.51515152</th></tr><tr><th> 5</th><th>6</th><th>1.939393939</th><th>3.878787879</th><th>7.757575758</th><th>15.51515152</th><th>31.03030303</th></tr><tr><th> 6</th><th>7</th><th>3.878787879</th><th>7.757575758</th><th>15.51515152</th><th>31.03030303</th><th>62.06060606</th></tr><tr><th>...</th><th>...</th><th>...</th><th>...</th><th>...</th><th>...</th><th>...</th></tr><tr><th>38</th><th>39</th><th>16659267088.0</th><th>33318534175.0</th><th>66637068350.0</th><th>133274000000.0</th><th>266548000000.0</th></tr><tr><th>39</th><th>40</th><th>33318534175.0</th><th>66637068350.0</th><th>133274000000.0</th><th>266548000000.0</th><th>533097000000.0</th></tr><tr><th>40</th><th>41</th><th>66637068350.0</th><th>133274000000.0</th><th>266548000000.0</th><th>533097000000.0</th><th>1066190000000.0</th></tr><tr><th>41</th><th>42</th><th>133274000000.0</th><th>266548000000.0</th><th>533097000000.0</th><th>1066190000000.0</th><th>2132390000000.0</th></tr><tr><th>42</th><th>43</th><th>266548000000.0</th><th>533097000000.0</th><th>1066190000000.0</th><th>2132390000000.0</th><th>4264770000000.0</th></tr><tr><th>43</th><th>44</th><th>533097000000.0</th><th>1066190000000.0</th><th>2132390000000.0</th><th>4264770000000.0</th><th>8529540000000.0</th></tr><tr><th>44</th><th>45</th><th>1066190000000.0</th><th>2132390000000.0</th><th>4264770000000.0</th><th>8529540000000.0</th><th>17059100000000.0</th></tr></table></div>"
      ],
      "text/plain": [
       "Table(6 columns, 45 rows)"
      ]
     },
     "execution_count": 13,
     "metadata": {},
     "output_type": "execute_result"
    }
   ],
   "source": [
    "# You may have noticed that all datatypes in t3 where identified as floats, despite their origin from a text type file.\n",
    "# This is because tablite guesses the most probable datatype using the `.guess` function on each column.\n",
    "# You can use the .guess function like this:\n",
    "from tablite import DataTypes\n",
    "t3['a'] = DataTypes.guess(t3['a'])\n",
    "# You can also convert the datatype using a list comprehension\n",
    "t3['b'] = [float(v) for v in t3['b']]\n",
    "t3"
   ]
  },
  {
   "attachments": {},
   "cell_type": "markdown",
   "metadata": {
    "pycharm": {
     "name": "#%% md\n"
    }
   },
   "source": [
    "# API Examples\n",
    "\n",
    "In the following sections, example are given of the Tablite API's power features:\n",
    "\n",
    "- Iteration\n",
    "- Append\n",
    "- Sort\n",
    "- Filter\n",
    "- Index\n",
    "- Search All \n",
    "- Search Any\n",
    "- Lookup\n",
    "- Join inner, outer, \n",
    "- GroupBy\n",
    "- Pivot table\n"
   ]
  },
  {
   "attachments": {},
   "cell_type": "markdown",
   "metadata": {},
   "source": [
    "# ITERATION!\n",
    "\n",
    "**_Iteration_** supports for loops and list comprehension at the speed of light:\n",
    "\n",
    "Just use `[r for r in table.rows]`, or:\n",
    "\n",
    "    for row in table.rows:\n",
    "        row ...\n",
    "\n",
    "Here's a more practical use case:\n",
    "\n",
    "(1) Imagine a table with columns a,b,c,d,e (all integers) like this:"
   ]
  },
  {
   "cell_type": "code",
   "execution_count": 14,
   "metadata": {},
   "outputs": [],
   "source": [
    "t = Table()\n",
    "for column_name in 'abcde':\n",
    "    t[column_name] =[i for i in range(5)]"
   ]
  },
  {
   "attachments": {},
   "cell_type": "markdown",
   "metadata": {},
   "source": [
    "(2) we want to add two new columns using the functions:"
   ]
  },
  {
   "cell_type": "code",
   "execution_count": 15,
   "metadata": {},
   "outputs": [],
   "source": [
    "def f1(a,b,c):\n",
    "    return a+b+c+1\n",
    "def f2(b,c,d):\n",
    "    return b*c*d"
   ]
  },
  {
   "attachments": {},
   "cell_type": "markdown",
   "metadata": {},
   "source": [
    "(3) and we want to compute two new columns `f` and `g`:"
   ]
  },
  {
   "cell_type": "code",
   "execution_count": 16,
   "metadata": {},
   "outputs": [],
   "source": [
    "t.add_columns('f', 'g')"
   ]
  },
  {
   "attachments": {},
   "cell_type": "markdown",
   "metadata": {},
   "source": [
    "(4) we can now use the filter, to iterate over the table, and add the values to the two new columns:"
   ]
  },
  {
   "cell_type": "code",
   "execution_count": 17,
   "metadata": {},
   "outputs": [
    {
     "data": {
      "text/html": [
       "<div><table border=1><tr><th>#</th><th>a</th><th>b</th><th>c</th><th>d</th><th>e</th><th>f</th><th>g</th></tr><tr><th> 0</th><th>0</th><th>0</th><th>0</th><th>0</th><th>0</th><th>1</th><th>0</th></tr><tr><th> 1</th><th>1</th><th>1</th><th>1</th><th>1</th><th>1</th><th>4</th><th>1</th></tr><tr><th> 2</th><th>2</th><th>2</th><th>2</th><th>2</th><th>2</th><th>7</th><th>8</th></tr><tr><th> 3</th><th>3</th><th>3</th><th>3</th><th>3</th><th>3</th><th>10</th><th>27</th></tr><tr><th> 4</th><th>4</th><th>4</th><th>4</th><th>4</th><th>4</th><th>13</th><th>64</th></tr></table></div>"
      ],
      "text/plain": [
       "Table(7 columns, 5 rows)"
      ]
     },
     "execution_count": 17,
     "metadata": {},
     "output_type": "execute_result"
    }
   ],
   "source": [
    "f,g=[],[]\n",
    "for row in t['a', 'b', 'c', 'd'].rows:\n",
    "    a, b, c, d = row\n",
    "\n",
    "    f.append(f1(a, b, c))\n",
    "    g.append(f2(b, c, d))\n",
    "t['f'] = f\n",
    "t['g'] = g\n",
    "\n",
    "assert len(t) == 5\n",
    "assert list(t.columns) == list('abcdefg')\n",
    "t"
   ]
  },
  {
   "attachments": {},
   "cell_type": "markdown",
   "metadata": {},
   "source": [
    "Take note that if your dataset is assymmetric, a warning will be show:"
   ]
  },
  {
   "cell_type": "code",
   "execution_count": 18,
   "metadata": {},
   "outputs": [
    {
     "name": "stdout",
     "output_type": "stream",
     "text": [
      "[1, 1]\n",
      "[2, 2]\n",
      "[3, None]\n"
     ]
    },
    {
     "name": "stderr",
     "output_type": "stream",
     "text": [
      "d:\\github\\tablite\\tablite\\base.py:1131: UserWarning: Column b has length 2 / 3. None will appear as fill value.\n",
      "  warnings.warn(f\"Column {name} has length {len(column)} / {n_max}. None will appear as fill value.\")\n"
     ]
    }
   ],
   "source": [
    "assymmetric_table = Table({'a':[1,2,3], 'b':[1,2]})\n",
    "for row in assymmetric_table.rows:\n",
    "    print(row)\n",
    "# warning at the bottom ---v"
   ]
  },
  {
   "attachments": {},
   "cell_type": "markdown",
   "metadata": {},
   "source": [
    "### Create Index / Indices\n",
    "\n",
    "\n",
    "**_Index_** supports multi-key indexing using args such as: `index = table.index('B','C')`.\n",
    "\n",
    "Here's an example:"
   ]
  },
  {
   "cell_type": "code",
   "execution_count": 19,
   "metadata": {},
   "outputs": [
    {
     "name": "stdout",
     "output_type": "stream",
     "text": [
      "key (1, 1) indices [0, 1]\n",
      "key (2, 2) indices [2, 3]\n",
      "key (3, 30) indices [4]\n",
      "key (4, 40) indices [5]\n"
     ]
    }
   ],
   "source": [
    "table7 = Table(columns={\n",
    "'A': [1,1,2,2,3,4],\n",
    "'B': [1,1,2,2,30,40],\n",
    "'C': [-1,-2,-3,-4,-5,-6]\n",
    "})\n",
    "index = table7.index('A', 'B')\n",
    "for k, v in index.items():\n",
    "    print(\"key\", k, \"indices\", v)"
   ]
  },
  {
   "attachments": {},
   "cell_type": "markdown",
   "metadata": {},
   "source": [
    "The keys are created for each unique column-key-pair, and the value is the index where the key is found. To fetch all rows for key `(2,2)`, we can use:\n"
   ]
  },
  {
   "cell_type": "code",
   "execution_count": 20,
   "metadata": {},
   "outputs": [
    {
     "name": "stdout",
     "output_type": "stream",
     "text": [
      "[2, 2, -3]\n",
      "[2, 2, -4]\n"
     ]
    }
   ],
   "source": [
    "for ix, row in enumerate(table7.rows):\n",
    "    if ix in index[(2,2)]:\n",
    "        print(row)"
   ]
  },
  {
   "attachments": {},
   "cell_type": "markdown",
   "metadata": {},
   "source": [
    "# APPEND"
   ]
  },
  {
   "cell_type": "code",
   "execution_count": 21,
   "metadata": {},
   "outputs": [
    {
     "name": "stdout",
     "output_type": "stream",
     "text": [
      "length before: 45\n",
      "length after + 90\n",
      "length after += 135\n",
      "length after += 135000\n"
     ]
    }
   ],
   "source": [
    "# to append one table to another, use + or += \n",
    "print('length before:', len(t3))  # length before: 45\n",
    "t5 = t3 + t3  \n",
    "print('length after +', len(t5))  # length after + 90\n",
    "t5 += t3 \n",
    "print('length after +=', len(t5))  # length after += 135\n",
    "# if you need a lot of numbers for a test, you can repeat a table using * and *=\n",
    "t5 *= 1_000\n",
    "print('length after +=', len(t5))  # length after += 135000"
   ]
  },
  {
   "cell_type": "code",
   "execution_count": 22,
   "metadata": {},
   "outputs": [
    {
     "data": {
      "text/html": [
       "<div><table border=1><tr><th>#</th><th>a</th><th>b</th><th>c</th><th>d</th><th>e</th><th>f</th></tr><tr><th>       0</th><th>1</th><th>0.060606061</th><th>0.090909091</th><th>0.121212121</th><th>0.151515152</th><th>0.181818182</th></tr><tr><th>       1</th><th>2</th><th>0.121212121</th><th>0.242424242</th><th>0.484848485</th><th>0.96969697</th><th>1.939393939</th></tr><tr><th>       2</th><th>3</th><th>0.242424242</th><th>0.484848485</th><th>0.96969697</th><th>1.939393939</th><th>3.878787879</th></tr><tr><th>       3</th><th>4</th><th>0.484848485</th><th>0.96969697</th><th>1.939393939</th><th>3.878787879</th><th>7.757575758</th></tr><tr><th>       4</th><th>5</th><th>0.96969697</th><th>1.939393939</th><th>3.878787879</th><th>7.757575758</th><th>15.51515152</th></tr><tr><th>       5</th><th>6</th><th>1.939393939</th><th>3.878787879</th><th>7.757575758</th><th>15.51515152</th><th>31.03030303</th></tr><tr><th>       6</th><th>7</th><th>3.878787879</th><th>7.757575758</th><th>15.51515152</th><th>31.03030303</th><th>62.06060606</th></tr><tr><th>...</th><th>...</th><th>...</th><th>...</th><th>...</th><th>...</th><th>...</th></tr><tr><th> 134,993</th><th>39</th><th>16659267088.0</th><th>33318534175.0</th><th>66637068350.0</th><th>133274000000.0</th><th>266548000000.0</th></tr><tr><th> 134,994</th><th>40</th><th>33318534175.0</th><th>66637068350.0</th><th>133274000000.0</th><th>266548000000.0</th><th>533097000000.0</th></tr><tr><th> 134,995</th><th>41</th><th>66637068350.0</th><th>133274000000.0</th><th>266548000000.0</th><th>533097000000.0</th><th>1066190000000.0</th></tr><tr><th> 134,996</th><th>42</th><th>133274000000.0</th><th>266548000000.0</th><th>533097000000.0</th><th>1066190000000.0</th><th>2132390000000.0</th></tr><tr><th> 134,997</th><th>43</th><th>266548000000.0</th><th>533097000000.0</th><th>1066190000000.0</th><th>2132390000000.0</th><th>4264770000000.0</th></tr><tr><th> 134,998</th><th>44</th><th>533097000000.0</th><th>1066190000000.0</th><th>2132390000000.0</th><th>4264770000000.0</th><th>8529540000000.0</th></tr><tr><th> 134,999</th><th>45</th><th>1066190000000.0</th><th>2132390000000.0</th><th>4264770000000.0</th><th>8529540000000.0</th><th>17059100000000.0</th></tr></table></div>"
      ],
      "text/plain": [
       "Table(6 columns, 135,000 rows)"
      ]
     },
     "execution_count": 22,
     "metadata": {},
     "output_type": "execute_result"
    }
   ],
   "source": [
    "t5  "
   ]
  },
  {
   "cell_type": "code",
   "execution_count": 23,
   "metadata": {},
   "outputs": [
    {
     "data": {
      "text/html": [
       "<div><table border=1><tr><th>#</th><th>a</th><th>b</th><th>c</th><th>d</th><th>e</th><th>f</th><th>g</th><th>A</th><th>B</th></tr><tr><th> 0</th><th>0</th><th>0</th><th>0</th><th>0</th><th>0</th><th>1</th><th>0</th><th>None</th><th>None</th></tr><tr><th> 1</th><th>1</th><th>1</th><th>1</th><th>1</th><th>1</th><th>4</th><th>1</th><th>None</th><th>None</th></tr><tr><th> 2</th><th>2</th><th>2</th><th>2</th><th>2</th><th>2</th><th>7</th><th>8</th><th>None</th><th>None</th></tr><tr><th> 3</th><th>3</th><th>3</th><th>3</th><th>3</th><th>3</th><th>10</th><th>27</th><th>None</th><th>None</th></tr><tr><th> 4</th><th>4</th><th>4</th><th>4</th><th>4</th><th>4</th><th>13</th><th>64</th><th>None</th><th>None</th></tr><tr><th> 5</th><th>None</th><th>None</th><th>None</th><th>None</th><th>None</th><th>None</th><th>None</th><th>1</th><th>a</th></tr><tr><th> 6</th><th>None</th><th>None</th><th>None</th><th>None</th><th>None</th><th>None</th><th>None</th><th>2</th><th>b</th></tr><tr><th> 7</th><th>None</th><th>None</th><th>None</th><th>None</th><th>None</th><th>None</th><th>None</th><th>3</th><th>c</th></tr></table></div>"
      ],
      "text/plain": [
       "Table(9 columns, 8 rows)"
      ]
     },
     "execution_count": 23,
     "metadata": {},
     "output_type": "execute_result"
    }
   ],
   "source": [
    "# if your are in doubt whether your tables will be the same you can use .stack(other)\n",
    "assert t.columns != t2.columns  # compares list of column names.\n",
    "t6 = t.stack(t2)\n",
    "t6"
   ]
  },
  {
   "cell_type": "code",
   "execution_count": 24,
   "metadata": {},
   "outputs": [
    {
     "name": "stdout",
     "output_type": "stream",
     "text": [
      "a not in t2\n",
      "b not in t2\n",
      "c not in t2\n",
      "d not in t2\n",
      "e not in t2\n",
      "f not in t2\n",
      "g not in t2\n"
     ]
    }
   ],
   "source": [
    "# As you can see above, t6['C'] is padded with \"None\" where t2 was missing the columns.\n",
    "\n",
    "# if you need a more detailed view of the columns you can iterate:\n",
    "for name in t.columns:\n",
    "    col_from_t = t[name]\n",
    "    if name in t2.columns:\n",
    "        col_from_t2 = t2[name]\n",
    "        print(name, col_from_t == col_from_t2)\n",
    "    else:\n",
    "        print(name, \"not in t2\")"
   ]
  },
  {
   "cell_type": "code",
   "execution_count": 25,
   "metadata": {
    "pycharm": {
     "name": "#%%\n"
    }
   },
   "outputs": [
    {
     "data": {
      "text/html": [
       "<div><table border=1><tr><th>#</th><th>a</th><th>b</th><th>d</th></tr><tr><th> 0</th><th>6</th><th>1.939393939</th><th>7.757575758</th></tr><tr><th> 1</th><th>11</th><th>62.06060606</th><th>248.2424242</th></tr><tr><th> 2</th><th>16</th><th>1985.939394</th><th>7943.757576</th></tr><tr><th> 3</th><th>21</th><th>63550.06061</th><th>254200.2424</th></tr></table></div>"
      ],
      "text/plain": [
       "Table(3 columns, 4 rows)"
      ]
     },
     "execution_count": 25,
     "metadata": {},
     "output_type": "execute_result"
    }
   ],
   "source": [
    "# to make a copy of a table, use table.copy()\n",
    "t3_copy = t3.copy()\n",
    "\n",
    "# you can also perform multi criteria selections using getitem [ ... ]\n",
    "t3_slice = t3['a','b','d', 5:25:5]\n",
    "t3_slice"
   ]
  },
  {
   "cell_type": "code",
   "execution_count": 26,
   "metadata": {},
   "outputs": [
    {
     "data": {
      "text/html": [
       "<div><table border=1><tr><th>#</th><th>a</th><th>b</th><th>d</th></tr><tr><th> 0</th><th>6</th><th>1.939393939</th><th>7.757575758</th></tr><tr><th> 1</th><th>21</th><th>63550.06061</th><th>254200.2424</th></tr></table></div>"
      ],
      "text/plain": [
       "Table(3 columns, 2 rows)"
      ]
     },
     "execution_count": 26,
     "metadata": {},
     "output_type": "execute_result"
    }
   ],
   "source": [
    "#deleting items also works the same way:\n",
    "del t3_slice[1:3]  # delete row number 2 & 3 \n",
    "t3_slice"
   ]
  },
  {
   "cell_type": "code",
   "execution_count": 27,
   "metadata": {},
   "outputs": [
    {
     "data": {
      "text/html": [
       "<div><table border=1><tr>Empty Table</tr></table></div>"
      ],
      "text/plain": [
       "Table(0 columns, 0 rows)"
      ]
     },
     "execution_count": 27,
     "metadata": {},
     "output_type": "execute_result"
    }
   ],
   "source": [
    "# to wipe a table, use .clear:\n",
    "t3_slice.clear()\n",
    "t3_slice"
   ]
  },
  {
   "attachments": {},
   "cell_type": "markdown",
   "metadata": {},
   "source": [
    "# SAVE"
   ]
  },
  {
   "cell_type": "code",
   "execution_count": 28,
   "metadata": {},
   "outputs": [
    {
     "name": "stderr",
     "output_type": "stream",
     "text": [
      "loading 'local_file.tpz' file: 100%|██████████| 18000/18000 [00:14<00:00, 1229.63it/s]\n"
     ]
    },
    {
     "name": "stdout",
     "output_type": "stream",
     "text": [
      "the t5 table had 135000 rows\n",
      "old_t5 still exists? True\n",
      "path: local_file.tpz\n"
     ]
    }
   ],
   "source": [
    "# tablite uses .npy for storage because it is fast.\n",
    "# this means you can make a table persistent using .save\n",
    "local_file = Path(\"local_file.tpz\")\n",
    "t5.save(local_file)\n",
    "\n",
    "old_t5 = Table.load(local_file)\n",
    "print(\"the t5 table had\", len(old_t5), \"rows\")  # the t5 table had 135000 rows\n",
    "\n",
    "del old_t5  # only removes the in-memory object\n",
    "\n",
    "print(\"old_t5 still exists?\", local_file.exists())\n",
    "print(\"path:\", local_file)\n",
    "\n",
    "import os\n",
    "os.remove(local_file)"
   ]
  },
  {
   "attachments": {},
   "cell_type": "markdown",
   "metadata": {},
   "source": [
    "If you want to save a table from one session to another use `save=True`. This tells the garbage collector to leave the tablite Table on disk, so you can load it again without changing your code. \n",
    "\n",
    "For example:\n",
    "\n",
    "First time you run `t = Table.import_file(....big.csv)` it may take a minute or two. \n",
    "\n",
    "If you then add `t.save=True` and restart python, the second time you run  `t = Table.import_file(....big.csv)` it will take a few milliseconds instead of minutes."
   ]
  },
  {
   "attachments": {},
   "cell_type": "markdown",
   "metadata": {},
   "source": [
    "# FILTER!"
   ]
  },
  {
   "cell_type": "code",
   "execution_count": 29,
   "metadata": {},
   "outputs": [],
   "source": [
    "unfiltered = Table({'a':[1,2,3,4], 'b':[10,20,30,40]})"
   ]
  },
  {
   "cell_type": "code",
   "execution_count": 30,
   "metadata": {},
   "outputs": [],
   "source": [
    "true,false = unfiltered.filter(\n",
    "    [\n",
    "        {\"column1\": 'a', \"criteria\":\">=\", 'value2':3}\n",
    "    ], filter_type='all'\n",
    ")"
   ]
  },
  {
   "cell_type": "code",
   "execution_count": 31,
   "metadata": {},
   "outputs": [
    {
     "data": {
      "text/html": [
       "<div><table border=1><tr><th>#</th><th>a</th><th>b</th></tr><tr><th> 0</th><th>3</th><th>30</th></tr><tr><th> 1</th><th>4</th><th>40</th></tr></table></div>"
      ],
      "text/plain": [
       "Table(2 columns, 2 rows)"
      ]
     },
     "execution_count": 31,
     "metadata": {},
     "output_type": "execute_result"
    }
   ],
   "source": [
    "true"
   ]
  },
  {
   "cell_type": "code",
   "execution_count": 32,
   "metadata": {},
   "outputs": [
    {
     "name": "stdout",
     "output_type": "stream",
     "text": [
      "+==+=+==+\n",
      "|# |a|b |\n",
      "+--+-+--+\n",
      "| 0|1|10|\n",
      "| 1|2|20|\n",
      "+==+=+==+\n"
     ]
    }
   ],
   "source": [
    "false.show()  # using show here to show that terminal users can have a nice view too."
   ]
  },
  {
   "attachments": {},
   "cell_type": "markdown",
   "metadata": {},
   "source": [
    "# Any! All?\n",
    "\n",
    "Any and All are cousins of the filter. They're there so you can use them in the same way as you'd use `any` and `all` in python - as boolean evaluators:"
   ]
  },
  {
   "cell_type": "code",
   "execution_count": 33,
   "metadata": {},
   "outputs": [],
   "source": [
    "ty = Table({'a':[1,2,3,4],'b': [10,20,30,40]})"
   ]
  },
  {
   "cell_type": "code",
   "execution_count": 34,
   "metadata": {},
   "outputs": [
    {
     "data": {
      "text/plain": [
       "True"
      ]
     },
     "execution_count": 34,
     "metadata": {},
     "output_type": "execute_result"
    }
   ],
   "source": [
    "# typical python\n",
    "any(i > 3 for i in ty['a'])"
   ]
  },
  {
   "cell_type": "code",
   "execution_count": 35,
   "metadata": {},
   "outputs": [
    {
     "data": {
      "text/plain": [
       "True"
      ]
     },
     "execution_count": 35,
     "metadata": {},
     "output_type": "execute_result"
    }
   ],
   "source": [
    "# hereby you can do:\n",
    "any( ty.any(**{'a':lambda x:x>3}).rows )"
   ]
  },
  {
   "cell_type": "code",
   "execution_count": 36,
   "metadata": {},
   "outputs": [
    {
     "data": {
      "text/plain": [
       "True"
      ]
     },
     "execution_count": 36,
     "metadata": {},
     "output_type": "execute_result"
    }
   ],
   "source": [
    "# if you have multiple criteria this also works:\n",
    "all( ty.all(**{'a': lambda x:x>=2, 'b': lambda x:x<=30}).rows )"
   ]
  },
  {
   "cell_type": "code",
   "execution_count": 37,
   "metadata": {},
   "outputs": [
    {
     "data": {
      "text/html": [
       "<div><table border=1><tr><th>#</th><th>a</th><th>b</th></tr><tr><th> 0</th><th>3</th><th>30</th></tr></table></div>"
      ],
      "text/plain": [
       "Table(2 columns, 1 rows)"
      ]
     },
     "execution_count": 37,
     "metadata": {},
     "output_type": "execute_result"
    }
   ],
   "source": [
    "# or this if you want to see the table.\n",
    "ty.all(a=lambda x:x>2, b=lambda x:x<=30)"
   ]
  },
  {
   "cell_type": "code",
   "execution_count": 38,
   "metadata": {},
   "outputs": [
    {
     "data": {
      "text/html": [
       "<div><table border=1><tr><th>#</th><th>a</th><th>b</th></tr><tr><th> 0</th><th>3</th><th>30</th></tr></table></div>"
      ],
      "text/plain": [
       "Table(2 columns, 1 rows)"
      ]
     },
     "execution_count": 38,
     "metadata": {},
     "output_type": "execute_result"
    }
   ],
   "source": [
    "# As `all` and `any` returns tables, this also means that you can chain operations:\n",
    "ty.any(a=lambda x:x>2).any(b=30)"
   ]
  },
  {
   "attachments": {},
   "cell_type": "markdown",
   "metadata": {},
   "source": [
    "# SORT!"
   ]
  },
  {
   "cell_type": "code",
   "execution_count": 39,
   "metadata": {},
   "outputs": [
    {
     "data": {
      "text/html": [
       "<div><table border=1><tr><th>#</th><th>A</th><th>B</th><th>C</th></tr><tr><th> 0</th><th>1</th><th>10</th><th>0</th></tr><tr><th> 1</th><th>None</th><th>100</th><th>1</th></tr><tr><th> 2</th><th>8</th><th>1</th><th>0</th></tr><tr><th> 3</th><th>3</th><th>1</th><th>1</th></tr><tr><th> 4</th><th>4</th><th>1</th><th>0</th></tr><tr><th> 5</th><th>6</th><th>1</th><th>1</th></tr><tr><th> 6</th><th>5</th><th>10</th><th>0</th></tr><tr><th> 7</th><th>7</th><th>10</th><th>1</th></tr><tr><th> 8</th><th>9</th><th>10</th><th>0</th></tr></table></div>"
      ],
      "text/plain": [
       "Table(3 columns, 9 rows)"
      ]
     },
     "execution_count": 39,
     "metadata": {},
     "output_type": "execute_result"
    }
   ],
   "source": [
    "table = Table({\n",
    "    'A':[ 1, None, 8, 3, 4, 6,  5,  7,  9],\n",
    "    'B':[10,'100', 1, 1, 1, 1, 10, 10, 10],\n",
    "    'C':[ 0,    1, 0, 1, 0, 1,  0,  1,  0],\n",
    "})\n",
    "table"
   ]
  },
  {
   "cell_type": "code",
   "execution_count": 40,
   "metadata": {},
   "outputs": [
    {
     "name": "stderr",
     "output_type": "stream",
     "text": [
      "creating sort index: 100%|██████████| 3/3 [00:00<00:00, 3011.71it/s]\n",
      "creating sort index: 100%|██████████| 3/3 [00:00<00:00, 3010.27it/s]\n",
      "join: 100%|██████████| 3/3 [00:00<00:00, 601.22it/s]\n"
     ]
    }
   ],
   "source": [
    "sort_order = {'B': False, 'C': False, 'A': False}\n",
    "assert not table.is_sorted(mapping=sort_order)\n",
    "\n",
    "sorted_table = table.sort(mapping=sort_order)\n",
    "sorted_table"
   ]
  },
  {
   "attachments": {},
   "cell_type": "markdown",
   "metadata": {},
   "source": [
    "Sort is reasonable effective as it uses multiprocessing above a million fields.\n",
    "\n",
    "\n",
    "Hint: You can set this limit in `tablite.config`, like this:"
   ]
  },
  {
   "cell_type": "code",
   "execution_count": 41,
   "metadata": {},
   "outputs": [
    {
     "name": "stdout",
     "output_type": "stream",
     "text": [
      "multiprocessing is used above 1,000,000 fields\n"
     ]
    }
   ],
   "source": [
    "from tablite.config import Config\n",
    "print(f\"multiprocessing is used above {Config.SINGLE_PROCESSING_LIMIT:,} fields\")"
   ]
  },
  {
   "cell_type": "code",
   "execution_count": 42,
   "metadata": {},
   "outputs": [
    {
     "data": {
      "text/html": [
       "<div><table border=1><tr><th>#</th><th>A</th><th>B</th><th>C</th></tr><tr><th>       0</th><th>1</th><th>10</th><th>0</th></tr><tr><th>       1</th><th>None</th><th>100</th><th>1</th></tr><tr><th>       2</th><th>8</th><th>1</th><th>0</th></tr><tr><th>       3</th><th>3</th><th>1</th><th>1</th></tr><tr><th>       4</th><th>4</th><th>1</th><th>0</th></tr><tr><th>       5</th><th>6</th><th>1</th><th>1</th></tr><tr><th>       6</th><th>5</th><th>10</th><th>0</th></tr><tr><th>...</th><th>...</th><th>...</th><th>...</th></tr><tr><th> 333,335</th><th>8</th><th>1</th><th>0</th></tr><tr><th> 333,336</th><th>3</th><th>1</th><th>1</th></tr><tr><th> 333,337</th><th>4</th><th>1</th><th>0</th></tr><tr><th> 333,338</th><th>6</th><th>1</th><th>1</th></tr><tr><th> 333,339</th><th>5</th><th>10</th><th>0</th></tr><tr><th> 333,340</th><th>7</th><th>10</th><th>1</th></tr><tr><th> 333,341</th><th>9</th><th>10</th><th>0</th></tr></table></div>"
      ],
      "text/plain": [
       "Table(3 columns, 333,342 rows)"
      ]
     },
     "execution_count": 42,
     "metadata": {},
     "output_type": "execute_result"
    }
   ],
   "source": [
    "import math\n",
    "n = math.ceil(1_000_000 / (9*3))\n",
    "\n",
    "table = Table({\n",
    "    'A':[ 1, None, 8, 3, 4, 6,  5,  7,  9]*n,\n",
    "    'B':[10,'100', 1, 1, 1, 1, 10, 10, 10]*n,\n",
    "    'C':[ 0,    1, 0, 1, 0, 1,  0,  1,  0]*n,\n",
    "})\n",
    "table"
   ]
  },
  {
   "cell_type": "code",
   "execution_count": 43,
   "metadata": {},
   "outputs": [
    {
     "name": "stderr",
     "output_type": "stream",
     "text": [
      "creating sort index:   0%|          | 0/3 [00:00<?, ?it/s]"
     ]
    },
    {
     "name": "stderr",
     "output_type": "stream",
     "text": [
      "creating sort index: 100%|██████████| 3/3 [00:00<00:00,  4.09it/s]\n",
      "join: 100%|██████████| 3/3 [00:00<00:00, 15.20it/s]"
     ]
    },
    {
     "name": "stdout",
     "output_type": "stream",
     "text": [
      "table sorting took  0.958 secs\n"
     ]
    },
    {
     "name": "stderr",
     "output_type": "stream",
     "text": [
      "\n"
     ]
    }
   ],
   "source": [
    "import time as cputime\n",
    "start = cputime.time()\n",
    "sort_order = {'B': False, 'C': False, 'A': False}\n",
    "sorted_table = table.sort(mapping=sort_order)  # sorts 1M values.\n",
    "print(\"table sorting took \", round(cputime.time() - start,3), \"secs\")\n",
    "sorted_table"
   ]
  },
  {
   "attachments": {},
   "cell_type": "markdown",
   "metadata": {},
   "source": [
    "# GROUPBY !"
   ]
  },
  {
   "cell_type": "code",
   "execution_count": 44,
   "metadata": {},
   "outputs": [
    {
     "data": {
      "text/html": [
       "<div><table border=1><tr><th>#</th><th>A</th><th>B</th><th>C</th></tr><tr><th>       0</th><th>1</th><th>10</th><th>0</th></tr><tr><th>       1</th><th>None</th><th>100</th><th>1</th></tr><tr><th>       2</th><th>8</th><th>1</th><th>0</th></tr><tr><th>       3</th><th>3</th><th>1</th><th>1</th></tr><tr><th>       4</th><th>4</th><th>1</th><th>0</th></tr><tr><th>       5</th><th>6</th><th>1</th><th>1</th></tr><tr><th>       6</th><th>5</th><th>10</th><th>0</th></tr><tr><th>...</th><th>...</th><th>...</th><th>...</th></tr><tr><th> 333,335</th><th>8</th><th>1</th><th>0</th></tr><tr><th> 333,336</th><th>3</th><th>1</th><th>1</th></tr><tr><th> 333,337</th><th>4</th><th>1</th><th>0</th></tr><tr><th> 333,338</th><th>6</th><th>1</th><th>1</th></tr><tr><th> 333,339</th><th>5</th><th>10</th><th>0</th></tr><tr><th> 333,340</th><th>7</th><th>10</th><th>1</th></tr><tr><th> 333,341</th><th>9</th><th>10</th><th>0</th></tr></table></div>"
      ],
      "text/plain": [
       "Table(3 columns, 333,342 rows)"
      ]
     },
     "execution_count": 44,
     "metadata": {},
     "output_type": "execute_result"
    }
   ],
   "source": [
    "n = math.ceil(1_000_000 / (9*3))\n",
    "\n",
    "table = Table({\n",
    "    'A':[ 1, None, 8, 3, 4, 6,  5,  7,  9]*n,\n",
    "    'B':[10,'100', 1, 1, 1, 1, 10, 10, 10]*n,\n",
    "    'C':[ 0,    1, 0, 1, 0, 1,  0,  1,  0]*n,\n",
    "})\n",
    "table\n"
   ]
  },
  {
   "cell_type": "code",
   "execution_count": 45,
   "metadata": {},
   "outputs": [
    {
     "name": "stderr",
     "output_type": "stream",
     "text": [
      "groupby: 100%|██████████| 333342/333342 [00:00<00:00, 359979.77it/s]\n"
     ]
    },
    {
     "data": {
      "text/html": [
       "<div><table border=1><tr><th>#</th><th>C</th><th>B</th><th>Count(A)</th></tr><tr><th> 0</th><th>0</th><th>10</th><th>111114</th></tr><tr><th> 1</th><th>1</th><th>100</th><th>37038</th></tr><tr><th> 2</th><th>0</th><th>1</th><th>74076</th></tr><tr><th> 3</th><th>1</th><th>1</th><th>74076</th></tr><tr><th> 4</th><th>1</th><th>10</th><th>37038</th></tr></table></div>"
      ],
      "text/plain": [
       "Table(3 columns, 5 rows)"
      ]
     },
     "execution_count": 45,
     "metadata": {},
     "output_type": "execute_result"
    }
   ],
   "source": [
    "from tablite import GroupBy as gb\n",
    "grpby = table.groupby(keys=['C', 'B'], functions=[('A', gb.count)])\n",
    "grpby"
   ]
  },
  {
   "attachments": {},
   "cell_type": "markdown",
   "metadata": {},
   "source": [
    "Here is the list of groupby functions:\n",
    "\n",
    "```\n",
    "class GroupBy(object):    \n",
    "    max = Max  # shortcuts to avoid having to type a long list of imports.\n",
    "    min = Min\n",
    "    sum = Sum\n",
    "    product = Product\n",
    "    first = First\n",
    "    last = Last\n",
    "    count = Count\n",
    "    count_unique = CountUnique\n",
    "    avg = Average\n",
    "    stdev = StandardDeviation\n",
    "    median = Median\n",
    "    mode = Mode\n",
    "```"
   ]
  },
  {
   "attachments": {},
   "cell_type": "markdown",
   "metadata": {},
   "source": [
    "### Did I say pivot table? Yes.\n",
    "\n",
    "\n",
    "**Pivot Table** is included in the groupby functionality - so yes - you can pivot the groupby on any column that is used for grouping. Here's a simple example:\n"
   ]
  },
  {
   "cell_type": "code",
   "execution_count": 46,
   "metadata": {},
   "outputs": [
    {
     "data": {
      "text/html": [
       "<div><table border=1><tr><th>#</th><th>A</th><th>B</th><th>C</th></tr><tr><th> 0</th><th>1</th><th>1</th><th>6</th></tr><tr><th> 1</th><th>1</th><th>2</th><th>5</th></tr><tr><th> 2</th><th>2</th><th>3</th><th>4</th></tr><tr><th> 3</th><th>2</th><th>4</th><th>3</th></tr><tr><th> 4</th><th>3</th><th>5</th><th>2</th></tr><tr><th> 5</th><th>3</th><th>6</th><th>1</th></tr><tr><th> 6</th><th>1</th><th>1</th><th>6</th></tr><tr><th> 7</th><th>1</th><th>2</th><th>5</th></tr><tr><th> 8</th><th>2</th><th>3</th><th>4</th></tr><tr><th> 9</th><th>2</th><th>4</th><th>3</th></tr><tr><th>10</th><th>3</th><th>5</th><th>2</th></tr><tr><th>11</th><th>3</th><th>6</th><th>1</th></tr></table></div>"
      ],
      "text/plain": [
       "Table(3 columns, 12 rows)"
      ]
     },
     "execution_count": 46,
     "metadata": {},
     "output_type": "execute_result"
    }
   ],
   "source": [
    "t = Table({\n",
    "    'A':[1, 1, 2, 2, 3, 3] * 2,\n",
    "    'B':[1, 2, 3, 4, 5, 6] * 2,\n",
    "    'C':[6, 5, 4, 3, 2, 1] * 2,\n",
    "})\n",
    "t"
   ]
  },
  {
   "cell_type": "code",
   "execution_count": 47,
   "metadata": {},
   "outputs": [
    {
     "name": "stderr",
     "output_type": "stream",
     "text": [
      "pivot: 100%|██████████| 14/14 [00:00<00:00, 1170.57it/s]\n"
     ]
    },
    {
     "data": {
      "text/html": [
       "<div><table border=1><tr><th>#</th><th>C</th><th>Sum(B,A=1)</th><th>Count(B,A=1)</th><th>Sum(B,A=2)</th><th>Count(B,A=2)</th><th>Sum(B,A=3)</th><th>Count(B,A=3)</th></tr><tr><th> 0</th><th>6</th><th>2</th><th>2</th><th>None</th><th>None</th><th>None</th><th>None</th></tr><tr><th> 1</th><th>5</th><th>4</th><th>2</th><th>None</th><th>None</th><th>None</th><th>None</th></tr><tr><th> 2</th><th>4</th><th>None</th><th>None</th><th>6</th><th>2</th><th>None</th><th>None</th></tr><tr><th> 3</th><th>3</th><th>None</th><th>None</th><th>8</th><th>2</th><th>None</th><th>None</th></tr><tr><th> 4</th><th>2</th><th>None</th><th>None</th><th>None</th><th>None</th><th>10</th><th>2</th></tr><tr><th> 5</th><th>1</th><th>None</th><th>None</th><th>None</th><th>None</th><th>12</th><th>2</th></tr></table></div>"
      ],
      "text/plain": [
       "Table(7 columns, 6 rows)"
      ]
     },
     "execution_count": 47,
     "metadata": {},
     "output_type": "execute_result"
    }
   ],
   "source": [
    "t2 = t.pivot(rows=['C'], columns=['A'], functions=[('B', gb.sum), ('B', gb.count)], values_as_rows=False)\n",
    "t2"
   ]
  },
  {
   "attachments": {},
   "cell_type": "markdown",
   "metadata": {},
   "source": [
    "# JOIN!"
   ]
  },
  {
   "cell_type": "code",
   "execution_count": 48,
   "metadata": {},
   "outputs": [],
   "source": [
    "numbers = Table()\n",
    "numbers.add_column('number', data=[      1,      2,       3,       4,   None])\n",
    "numbers.add_column('colour', data=['black', 'blue', 'white', 'white', 'blue'])\n",
    "\n",
    "letters = Table()\n",
    "letters.add_column('letter', data=[  'a',     'b',      'c',     'd',   None])\n",
    "letters.add_column('color', data=['blue', 'white', 'orange', 'white', 'blue'])\n"
   ]
  },
  {
   "cell_type": "code",
   "execution_count": 49,
   "metadata": {},
   "outputs": [
    {
     "name": "stderr",
     "output_type": "stream",
     "text": [
      "join: 100%|██████████| 2/2 [00:00<00:00, 668.84it/s]\n"
     ]
    },
    {
     "data": {
      "text/html": [
       "<div><table border=1><tr><th>#</th><th>number</th><th>letter</th></tr><tr><th> 0</th><th>1</th><th>None</th></tr><tr><th> 1</th><th>2</th><th>a</th></tr><tr><th> 2</th><th>2</th><th>None</th></tr><tr><th> 3</th><th>None</th><th>a</th></tr><tr><th> 4</th><th>None</th><th>None</th></tr><tr><th> 5</th><th>3</th><th>b</th></tr><tr><th> 6</th><th>3</th><th>d</th></tr><tr><th> 7</th><th>4</th><th>b</th></tr><tr><th> 8</th><th>4</th><th>d</th></tr></table></div>"
      ],
      "text/plain": [
       "Table(2 columns, 9 rows)"
      ]
     },
     "execution_count": 49,
     "metadata": {},
     "output_type": "execute_result"
    }
   ],
   "source": [
    "# left join\n",
    "# SELECT number, letter FROM numbers LEFT JOIN letters ON numbers.colour == letters.color\n",
    "left_join = numbers.left_join(letters, left_keys=['colour'], right_keys=['color'], left_columns=['number'], right_columns=['letter'])\n",
    "left_join"
   ]
  },
  {
   "cell_type": "code",
   "execution_count": 50,
   "metadata": {},
   "outputs": [
    {
     "name": "stderr",
     "output_type": "stream",
     "text": [
      "join: 100%|██████████| 2/2 [00:00<00:00, 669.11it/s]\n"
     ]
    },
    {
     "data": {
      "text/html": [
       "<div><table border=1><tr><th>#</th><th>number</th><th>letter</th></tr><tr><th> 0</th><th>2</th><th>a</th></tr><tr><th> 1</th><th>2</th><th>None</th></tr><tr><th> 2</th><th>None</th><th>a</th></tr><tr><th> 3</th><th>None</th><th>None</th></tr><tr><th> 4</th><th>3</th><th>b</th></tr><tr><th> 5</th><th>3</th><th>d</th></tr><tr><th> 6</th><th>4</th><th>b</th></tr><tr><th> 7</th><th>4</th><th>d</th></tr></table></div>"
      ],
      "text/plain": [
       "Table(2 columns, 8 rows)"
      ]
     },
     "execution_count": 50,
     "metadata": {},
     "output_type": "execute_result"
    }
   ],
   "source": [
    "# inner join\n",
    "# SELECT number, letter FROM numbers JOIN letters ON numbers.colour == letters.color\n",
    "inner_join = numbers.inner_join(letters, left_keys=['colour'], right_keys=['color'], left_columns=['number'], right_columns=['letter'])\n",
    "inner_join"
   ]
  },
  {
   "cell_type": "code",
   "execution_count": 51,
   "metadata": {},
   "outputs": [
    {
     "name": "stderr",
     "output_type": "stream",
     "text": [
      "join: 100%|██████████| 2/2 [00:00<00:00, 501.71it/s]\n"
     ]
    },
    {
     "data": {
      "text/html": [
       "<div><table border=1><tr><th>#</th><th>number</th><th>letter</th></tr><tr><th> 0</th><th>1</th><th>None</th></tr><tr><th> 1</th><th>2</th><th>a</th></tr><tr><th> 2</th><th>2</th><th>None</th></tr><tr><th> 3</th><th>None</th><th>a</th></tr><tr><th> 4</th><th>None</th><th>None</th></tr><tr><th> 5</th><th>3</th><th>b</th></tr><tr><th> 6</th><th>3</th><th>d</th></tr><tr><th> 7</th><th>4</th><th>b</th></tr><tr><th> 8</th><th>4</th><th>d</th></tr><tr><th> 9</th><th>None</th><th>c</th></tr></table></div>"
      ],
      "text/plain": [
       "Table(2 columns, 10 rows)"
      ]
     },
     "execution_count": 51,
     "metadata": {},
     "output_type": "execute_result"
    }
   ],
   "source": [
    " # outer join\n",
    "# SELECT number, letter FROM numbers OUTER JOIN letters ON numbers.colour == letters.color\n",
    "outer_join = numbers.outer_join(letters, left_keys=['colour'], right_keys=['color'], left_columns=['number'], right_columns=['letter'])\n",
    "outer_join"
   ]
  },
  {
   "attachments": {},
   "cell_type": "markdown",
   "metadata": {},
   "source": [
    "**Q: But ...I think there's a bug in the join...**  \n",
    "**A: Venn diagrams do not explain joins**.\n",
    "> A Venn diagram is a widely-used diagram style that shows the logical relation between sets, popularised by John Venn in the 1880s. The diagrams are used to teach elementary set theory, and to illustrate simple set relationships<br>[source: en.wikipedia.org](https://en.wikipedia.org/wiki/Venn_diagram)\n",
    "\n",
    "Joins operate over rows and ***when*** there are **duplicate rows**, these will be replicated in the output.\n",
    "Many beginners are surprised by this, because they didn't read the SQL standard.\n",
    "\n",
    "**Q: So what do I do?**  \n",
    "**A**: If you want to get rid of duplicates using tablite, use the `index` functionality\n",
    "across all columns and pick the first row from each index. Here's the recipe that starts with plenty of duplicates:"
   ]
  },
  {
   "cell_type": "code",
   "execution_count": 52,
   "metadata": {},
   "outputs": [
    {
     "data": {
      "text/html": [
       "<div><table border=1><tr><th>#</th><th>A</th><th>B</th></tr><tr><th> 0</th><th>1</th><th>1</th></tr><tr><th> 1</th><th>1</th><th>1</th></tr><tr><th> 2</th><th>1</th><th>4</th></tr><tr><th> 3</th><th>2</th><th>2</th></tr><tr><th> 4</th><th>2</th><th>2</th></tr><tr><th> 5</th><th>2</th><th>5</th></tr><tr><th> 6</th><th>3</th><th>3</th></tr><tr><th> 7</th><th>3</th><th>3</th></tr><tr><th> 8</th><th>3</th><th>6</th></tr></table></div>"
      ],
      "text/plain": [
       "Table(2 columns, 9 rows)"
      ]
     },
     "execution_count": 52,
     "metadata": {},
     "output_type": "execute_result"
    }
   ],
   "source": [
    "old_table = Table({\n",
    "'A':[1,1,1,2,2,2,3,3,3],\n",
    "'B':[1,1,4,2,2,5,3,3,6],\n",
    "})\n",
    "old_table"
   ]
  },
  {
   "cell_type": "code",
   "execution_count": 53,
   "metadata": {},
   "outputs": [
    {
     "name": "stderr",
     "output_type": "stream",
     "text": [
      "9it [00:00, 4510.00it/s]\n",
      "join: 100%|██████████| 2/2 [00:00<00:00, 668.84it/s]\n"
     ]
    },
    {
     "data": {
      "text/html": [
       "<div><table border=1><tr><th>#</th><th>A</th><th>B</th></tr><tr><th> 0</th><th>1</th><th>1</th></tr><tr><th> 1</th><th>1</th><th>4</th></tr><tr><th> 2</th><th>2</th><th>2</th></tr><tr><th> 3</th><th>2</th><th>5</th></tr><tr><th> 4</th><th>3</th><th>3</th></tr><tr><th> 5</th><th>3</th><th>6</th></tr></table></div>"
      ],
      "text/plain": [
       "Table(2 columns, 6 rows)"
      ]
     },
     "execution_count": 53,
     "metadata": {},
     "output_type": "execute_result"
    }
   ],
   "source": [
    "# CREATE TABLE OF UNIQUE ENTRIES (a.k.a. DEDUPLICATE)\n",
    "new_table = old_table.drop_duplicates()\n",
    "new_table"
   ]
  },
  {
   "attachments": {},
   "cell_type": "markdown",
   "metadata": {},
   "source": [
    "You can also use groupby; We'll get to that in a minute."
   ]
  },
  {
   "attachments": {},
   "cell_type": "markdown",
   "metadata": {},
   "source": [
    "# LOOKUP!"
   ]
  },
  {
   "attachments": {},
   "cell_type": "markdown",
   "metadata": {
    "pycharm": {
     "name": "#%% md\n"
    }
   },
   "source": [
    "Lookup is a special case of a search loop: Say for example you are planning a concert and want to make sure that your friends can make it home using public transport: You would have to find the first departure after the concert ends towards their home. A join would only give you a direct match on the time.\n",
    "\n",
    "Lookup allows you \"to iterate through a list of data and find the first match given a set of criteria.\"\n",
    "\n",
    "Here's an example:\n",
    "\n",
    "First we have our list of friends and their stops."
   ]
  },
  {
   "cell_type": "code",
   "execution_count": 54,
   "metadata": {},
   "outputs": [
    {
     "data": {
      "text/html": [
       "<div><table border=1><tr><th>#</th><th>name</th><th>stop</th></tr><tr><th> 0</th><th>Alice</th><th>Downtown-1</th></tr><tr><th> 1</th><th>Betty</th><th>Downtown-2</th></tr><tr><th> 2</th><th>Charlie</th><th>Hillside View</th></tr><tr><th> 3</th><th>Dorethy</th><th>Hillside Crescent</th></tr><tr><th> 4</th><th>Edward</th><th>Downtown-2</th></tr><tr><th> 5</th><th>Fred</th><th>Chicago</th></tr></table></div>"
      ],
      "text/plain": [
       "Table(2 columns, 6 rows)"
      ]
     },
     "execution_count": 54,
     "metadata": {},
     "output_type": "execute_result"
    }
   ],
   "source": [
    "friends = Table({\n",
    "\"name\":['Alice', 'Betty', 'Charlie', 'Dorethy', 'Edward', 'Fred'],\n",
    "\"stop\":['Downtown-1', 'Downtown-2', 'Hillside View', 'Hillside Crescent', 'Downtown-2', 'Chicago'],\n",
    "})\n",
    "friends"
   ]
  },
  {
   "attachments": {},
   "cell_type": "markdown",
   "metadata": {},
   "source": [
    "Next we need a list of bus routes and their time and stops. I don't have that, so I'm making one up:"
   ]
  },
  {
   "cell_type": "code",
   "execution_count": 55,
   "metadata": {},
   "outputs": [],
   "source": [
    "\n",
    "import random\n",
    "random.seed(11)\n",
    "table_size = 40\n",
    "\n",
    "times = [DataTypes.time(random.randint(21, 23), random.randint(0, 59)) for i in range(table_size)]\n",
    "stops = ['Stadium', 'Hillside', 'Hillside View', 'Hillside Crescent', 'Downtown-1', 'Downtown-2',\n",
    "            'Central station'] * 2 + [f'Random Road-{i}' for i in range(table_size)]\n",
    "route = [random.choice([1, 2, 3]) for i in stops]\n"
   ]
  },
  {
   "cell_type": "code",
   "execution_count": 56,
   "metadata": {},
   "outputs": [
    {
     "name": "stderr",
     "output_type": "stream",
     "text": [
      "creating sort index: 100%|██████████| 1/1 [00:00<00:00, 1004.86it/s]\n",
      "join: 100%|██████████| 3/3 [00:00<00:00, 752.48it/s]"
     ]
    },
    {
     "name": "stdout",
     "output_type": "stream",
     "text": [
      "Departures from Concert Hall towards ...\n"
     ]
    },
    {
     "name": "stderr",
     "output_type": "stream",
     "text": [
      "\n"
     ]
    },
    {
     "data": {
      "text/html": [
       "<div><table border=1><tr><th>#</th><th>time</th><th>stop</th><th>route</th></tr><tr><th> 0</th><th>21:02:00</th><th>Random Road-6</th><th>2</th></tr><tr><th> 1</th><th>21:05:00</th><th>Hillside Crescent</th><th>2</th></tr><tr><th> 2</th><th>21:06:00</th><th>Hillside</th><th>1</th></tr><tr><th> 3</th><th>21:25:00</th><th>Random Road-24</th><th>1</th></tr><tr><th> 4</th><th>21:29:00</th><th>Random Road-16</th><th>1</th></tr><tr><th> 5</th><th>21:32:00</th><th>Random Road-21</th><th>1</th></tr><tr><th> 6</th><th>21:33:00</th><th>Random Road-12</th><th>1</th></tr><tr><th> 7</th><th>21:36:00</th><th>Random Road-23</th><th>3</th></tr><tr><th> 8</th><th>21:38:00</th><th>Central station</th><th>2</th></tr><tr><th> 9</th><th>21:38:00</th><th>Random Road-8</th><th>2</th></tr></table></div>"
      ],
      "text/plain": [
       "Table(3 columns, 10 rows)"
      ]
     },
     "execution_count": 56,
     "metadata": {},
     "output_type": "execute_result"
    }
   ],
   "source": [
    "\n",
    "bus_table = Table({\n",
    "\"time\":times,\n",
    "\"stop\":stops[:table_size],\n",
    "\"route\":route[:table_size],\n",
    "})\n",
    "bus_table.sort(mapping={'time': False})\n",
    "\n",
    "print(\"Departures from Concert Hall towards ...\")\n",
    "bus_table[0:10]\n"
   ]
  },
  {
   "attachments": {},
   "cell_type": "markdown",
   "metadata": {},
   "source": [
    "Let's say the concerts ends at 21:00 and it takes a 10 minutes to get to the bus-stop. Earliest departure must then be 21:10 - goodbye hugs included."
   ]
  },
  {
   "cell_type": "code",
   "execution_count": 57,
   "metadata": {},
   "outputs": [
    {
     "name": "stderr",
     "output_type": "stream",
     "text": [
      "100%|██████████| 6/6 [00:00<00:00, 1203.76it/s]\n",
      "join: 100%|██████████| 3/3 [00:00<00:00, 501.63it/s]\n",
      "creating sort index: 100%|██████████| 2/2 [00:00<00:00, 2006.84it/s]\n",
      "join: 100%|██████████| 5/5 [00:00<00:00, 629.53it/s]\n"
     ]
    },
    {
     "data": {
      "text/html": [
       "<div><table border=1><tr><th>#</th><th>name</th><th>stop</th><th>time</th><th>stop_1</th><th>route</th></tr><tr><th> 0</th><th>Fred</th><th>Chicago</th><th>None</th><th>None</th><th>None</th></tr><tr><th> 1</th><th>Betty</th><th>Downtown-2</th><th>21:51:00</th><th>Downtown-2</th><th>1</th></tr><tr><th> 2</th><th>Edward</th><th>Downtown-2</th><th>21:51:00</th><th>Downtown-2</th><th>1</th></tr><tr><th> 3</th><th>Charlie</th><th>Hillside View</th><th>22:19:00</th><th>Hillside View</th><th>2</th></tr><tr><th> 4</th><th>Alice</th><th>Downtown-1</th><th>23:12:00</th><th>Downtown-1</th><th>3</th></tr><tr><th> 5</th><th>Dorethy</th><th>Hillside Crescent</th><th>23:54:00</th><th>Hillside Crescent</th><th>1</th></tr></table></div>"
      ],
      "text/plain": [
       "Table(5 columns, 6 rows)"
      ]
     },
     "execution_count": 57,
     "metadata": {},
     "output_type": "execute_result"
    }
   ],
   "source": [
    "lookup_1 = friends.lookup(bus_table, (DataTypes.time(21, 10), \"<=\", 'time'), ('stop', \"==\", 'stop'))\n",
    "lookup1_sorted = lookup_1.sorted(mapping={'time': False, 'name':False}, sort_mode='unix')\n",
    "lookup1_sorted"
   ]
  },
  {
   "attachments": {},
   "cell_type": "markdown",
   "metadata": {},
   "source": [
    "Lookup's ability to custom criteria is thereby far more versatile than SQL joins. \n",
    "\n",
    "But _with great power comes great responsibility_."
   ]
  },
  {
   "attachments": {},
   "cell_type": "markdown",
   "metadata": {
    "pycharm": {
     "name": "#%% md\n"
    }
   },
   "source": [
    "### Are there other ways I can add data?\n",
    "\n",
    "Yes - but row based operations cause a lot of IO, so it'll work but be slower:"
   ]
  },
  {
   "cell_type": "code",
   "execution_count": 58,
   "metadata": {
    "pycharm": {
     "name": "#%%\n"
    }
   },
   "outputs": [],
   "source": [
    "from tablite import Table\n",
    "t = Table()  # create table\n",
    "t.add_columns('row','A','B','C')  # add columns"
   ]
  },
  {
   "attachments": {},
   "cell_type": "markdown",
   "metadata": {
    "pycharm": {
     "name": "#%% md\n"
    }
   },
   "source": [
    "The following examples are all valid and append the row (1,2,3) to the table."
   ]
  },
  {
   "cell_type": "code",
   "execution_count": 59,
   "metadata": {
    "pycharm": {
     "name": "#%%\n"
    }
   },
   "outputs": [],
   "source": [
    "t.add_rows(1, 1, 2, 3)  # individual values\n",
    "t.add_rows([2, 1, 2, 3])  # list of values\n",
    "t.add_rows((3, 1, 2, 3))  # tuple of values\n",
    "t.add_rows(*(4, 1, 2, 3))  # unpacked tuple\n",
    "t.add_rows(row=5, A=1, B=2, C=3)   # keyword - args\n",
    "t.add_rows(**{'row': 6, 'A': 1, 'B': 2, 'C': 3})  # dict / json."
   ]
  },
  {
   "attachments": {},
   "cell_type": "markdown",
   "metadata": {
    "pycharm": {
     "name": "#%% md\n"
    }
   },
   "source": [
    "The following examples add two rows to the table"
   ]
  },
  {
   "cell_type": "code",
   "execution_count": 60,
   "metadata": {
    "pycharm": {
     "name": "#%%\n"
    }
   },
   "outputs": [],
   "source": [
    "t.add_rows((7, 1, 2, 3), (8, 4, 5, 6))  # two (or more) tuples.\n",
    "t.add_rows([9, 1, 2, 3], [10, 4, 5, 6])  # two or more lists\n",
    "t.add_rows({'row': 11, 'A': 1, 'B': 2, 'C': 3},\n",
    "          {'row': 12, 'A': 4, 'B': 5, 'C': 6})  # two (or more) dicts as args.\n",
    "t.add_rows(*[{'row': 13, 'A': 1, 'B': 2, 'C': 3},\n",
    "            {'row': 14, 'A': 1, 'B': 2, 'C': 3}])  # list of dicts."
   ]
  },
  {
   "cell_type": "code",
   "execution_count": 61,
   "metadata": {},
   "outputs": [
    {
     "data": {
      "text/html": [
       "<div><table border=1><tr><th>#</th><th>row</th><th>A</th><th>B</th><th>C</th></tr><tr><th> 0</th><th>1</th><th>1</th><th>2</th><th>3</th></tr><tr><th> 1</th><th>2</th><th>1</th><th>2</th><th>3</th></tr><tr><th> 2</th><th>3</th><th>1</th><th>2</th><th>3</th></tr><tr><th> 3</th><th>4</th><th>1</th><th>2</th><th>3</th></tr><tr><th> 4</th><th>5</th><th>1</th><th>2</th><th>3</th></tr><tr><th> 5</th><th>6</th><th>1</th><th>2</th><th>3</th></tr><tr><th> 6</th><th>7</th><th>1</th><th>2</th><th>3</th></tr><tr><th> 7</th><th>8</th><th>4</th><th>5</th><th>6</th></tr><tr><th> 8</th><th>9</th><th>1</th><th>2</th><th>3</th></tr><tr><th> 9</th><th>10</th><th>4</th><th>5</th><th>6</th></tr><tr><th>10</th><th>11</th><th>1</th><th>2</th><th>3</th></tr><tr><th>11</th><th>12</th><th>4</th><th>5</th><th>6</th></tr><tr><th>12</th><th>13</th><th>1</th><th>2</th><th>3</th></tr><tr><th>13</th><th>14</th><th>1</th><th>2</th><th>3</th></tr></table></div>"
      ],
      "text/plain": [
       "Table(4 columns, 14 rows)"
      ]
     },
     "execution_count": 61,
     "metadata": {},
     "output_type": "execute_result"
    }
   ],
   "source": [
    "t"
   ]
  },
  {
   "attachments": {},
   "cell_type": "markdown",
   "metadata": {
    "pycharm": {
     "name": "#%% md\n"
    }
   },
   "source": [
    "As the row incremented from `1` in the first of these examples, and finished with\n",
    "`row: 14`, you can now see the whole table above"
   ]
  },
  {
   "attachments": {},
   "cell_type": "markdown",
   "metadata": {
    "pycharm": {
     "name": "#%% md\n"
    }
   },
   "source": [
    "### Okay, great. How do I load data?\n",
    "\n",
    "Easy. Use `file_reader`. Here's an example:"
   ]
  },
  {
   "cell_type": "code",
   "execution_count": 62,
   "metadata": {
    "pycharm": {
     "name": "#%%\n"
    }
   },
   "outputs": [
    {
     "name": "stderr",
     "output_type": "stream",
     "text": [
      "importing: consolidating 'book1.csv': 100.00%|██████████| [00:01<00:00]\n"
     ]
    },
    {
     "data": {
      "text/html": [
       "<div><table border=1><tr><th>#</th><th>a</th><th>b</th><th>c</th><th>d</th><th>e</th><th>f</th></tr><tr><th> 0</th><th>1</th><th>0.060606061</th><th>0.090909091</th><th>0.121212121</th><th>0.151515152</th><th>0.181818182</th></tr><tr><th> 1</th><th>2</th><th>0.121212121</th><th>0.242424242</th><th>0.484848485</th><th>0.96969697</th><th>1.939393939</th></tr><tr><th> 2</th><th>3</th><th>0.242424242</th><th>0.484848485</th><th>0.96969697</th><th>1.939393939</th><th>3.878787879</th></tr><tr><th> 3</th><th>4</th><th>0.484848485</th><th>0.96969697</th><th>1.939393939</th><th>3.878787879</th><th>7.757575758</th></tr><tr><th> 4</th><th>5</th><th>0.96969697</th><th>1.939393939</th><th>3.878787879</th><th>7.757575758</th><th>15.51515152</th></tr><tr><th> 5</th><th>6</th><th>1.939393939</th><th>3.878787879</th><th>7.757575758</th><th>15.51515152</th><th>31.03030303</th></tr><tr><th> 6</th><th>7</th><th>3.878787879</th><th>7.757575758</th><th>15.51515152</th><th>31.03030303</th><th>62.06060606</th></tr><tr><th>...</th><th>...</th><th>...</th><th>...</th><th>...</th><th>...</th><th>...</th></tr><tr><th>38</th><th>39</th><th>16659267088.0</th><th>33318534175.0</th><th>66637068350.0</th><th>133274000000.0</th><th>266548000000.0</th></tr><tr><th>39</th><th>40</th><th>33318534175.0</th><th>66637068350.0</th><th>133274000000.0</th><th>266548000000.0</th><th>533097000000.0</th></tr><tr><th>40</th><th>41</th><th>66637068350.0</th><th>133274000000.0</th><th>266548000000.0</th><th>533097000000.0</th><th>1066190000000.0</th></tr><tr><th>41</th><th>42</th><th>133274000000.0</th><th>266548000000.0</th><th>533097000000.0</th><th>1066190000000.0</th><th>2132390000000.0</th></tr><tr><th>42</th><th>43</th><th>266548000000.0</th><th>533097000000.0</th><th>1066190000000.0</th><th>2132390000000.0</th><th>4264770000000.0</th></tr><tr><th>43</th><th>44</th><th>533097000000.0</th><th>1066190000000.0</th><th>2132390000000.0</th><th>4264770000000.0</th><th>8529540000000.0</th></tr><tr><th>44</th><th>45</th><th>1066190000000.0</th><th>2132390000000.0</th><th>4264770000000.0</th><th>8529540000000.0</th><th>17059100000000.0</th></tr></table></div>"
      ],
      "text/plain": [
       "Table(6 columns, 45 rows)"
      ]
     },
     "execution_count": 62,
     "metadata": {},
     "output_type": "execute_result"
    }
   ],
   "source": [
    "from pathlib import Path\n",
    "path = Path('tests/data/book1.csv')\n",
    "tx = Table.from_file(path)\n",
    "tx\n"
   ]
  },
  {
   "attachments": {},
   "cell_type": "markdown",
   "metadata": {
    "pycharm": {
     "name": "#%% md\n"
    }
   },
   "source": [
    "Note that you can also add start, limit and chunk_size to the file reader. Here's an example:"
   ]
  },
  {
   "cell_type": "code",
   "execution_count": 63,
   "metadata": {
    "pycharm": {
     "name": "#%%\n"
    }
   },
   "outputs": [
    {
     "name": "stderr",
     "output_type": "stream",
     "text": [
      "importing: consolidating 'book1.csv': 100.00%|██████████| [00:01<00:00]\n"
     ]
    },
    {
     "data": {
      "text/html": [
       "<div><table border=1><tr><th>#</th><th>a</th><th>b</th><th>c</th><th>d</th><th>e</th><th>f</th></tr><tr><th> 0</th><th>1</th><th>0.060606061</th><th>0.090909091</th><th>0.121212121</th><th>0.151515152</th><th>0.181818182</th></tr><tr><th> 1</th><th>2</th><th>0.121212121</th><th>0.242424242</th><th>0.484848485</th><th>0.96969697</th><th>1.939393939</th></tr><tr><th> 2</th><th>3</th><th>0.242424242</th><th>0.484848485</th><th>0.96969697</th><th>1.939393939</th><th>3.878787879</th></tr><tr><th> 3</th><th>4</th><th>0.484848485</th><th>0.96969697</th><th>1.939393939</th><th>3.878787879</th><th>7.757575758</th></tr><tr><th> 4</th><th>5</th><th>0.96969697</th><th>1.939393939</th><th>3.878787879</th><th>7.757575758</th><th>15.51515152</th></tr><tr><th> 5</th><th>6</th><th>1.939393939</th><th>3.878787879</th><th>7.757575758</th><th>15.51515152</th><th>31.03030303</th></tr><tr><th> 6</th><th>7</th><th>3.878787879</th><th>7.757575758</th><th>15.51515152</th><th>31.03030303</th><th>62.06060606</th></tr><tr><th>...</th><th>...</th><th>...</th><th>...</th><th>...</th><th>...</th><th>...</th></tr><tr><th>38</th><th>39</th><th>16659267088.0</th><th>33318534175.0</th><th>66637068350.0</th><th>133274000000.0</th><th>266548000000.0</th></tr><tr><th>39</th><th>40</th><th>33318534175.0</th><th>66637068350.0</th><th>133274000000.0</th><th>266548000000.0</th><th>533097000000.0</th></tr><tr><th>40</th><th>41</th><th>66637068350.0</th><th>133274000000.0</th><th>266548000000.0</th><th>533097000000.0</th><th>1066190000000.0</th></tr><tr><th>41</th><th>42</th><th>133274000000.0</th><th>266548000000.0</th><th>533097000000.0</th><th>1066190000000.0</th><th>2132390000000.0</th></tr><tr><th>42</th><th>43</th><th>266548000000.0</th><th>533097000000.0</th><th>1066190000000.0</th><th>2132390000000.0</th><th>4264770000000.0</th></tr><tr><th>43</th><th>44</th><th>533097000000.0</th><th>1066190000000.0</th><th>2132390000000.0</th><th>4264770000000.0</th><th>8529540000000.0</th></tr><tr><th>44</th><th>45</th><th>1066190000000.0</th><th>2132390000000.0</th><th>4264770000000.0</th><th>8529540000000.0</th><th>17059100000000.0</th></tr></table></div>"
      ],
      "text/plain": [
       "Table(6 columns, 45 rows)"
      ]
     },
     "execution_count": 63,
     "metadata": {},
     "output_type": "execute_result"
    }
   ],
   "source": [
    "path = Path('tests/data/book1.csv')\n",
    "tx2 = Table.from_file(path, start=2, limit=15)\n",
    "tx2"
   ]
  },
  {
   "attachments": {},
   "cell_type": "markdown",
   "metadata": {
    "pycharm": {
     "name": "#%% md\n"
    }
   },
   "source": [
    "**How good is the file_reader?**\n",
    "\n",
    "I've included all formats in the test suite that are publicly available from the [Alan Turing institute](https://github.com/alan-turing-institute), [dateutils](https://github.com/dateutil/dateutil)) and Python's [csv reader](https://github.com/python/cpython/blob/master/Lib/csv.py).\n",
    "\n",
    "What about `MM-DD-YYYY` formats? Some users from the US ask why the csv reader doesn't read the month-day-year format.\n",
    "\n",
    "The answer is simple: It's not an [iso8601](https://en.wikipedia.org/wiki/ISO_8601) format. The US month-day-year format is a **locale** that may be used a lot in the US, but it isn't an international standard. \n",
    "\n",
    "If you need to work with `MM-DD-YYYY` you will find that the file_reader will import the values as text (str). You can then reformat it with a custom function like:"
   ]
  },
  {
   "cell_type": "code",
   "execution_count": 64,
   "metadata": {
    "pycharm": {
     "name": "#%%\n"
    }
   },
   "outputs": [
    {
     "data": {
      "text/plain": [
       "datetime.date(1998, 3, 21)"
      ]
     },
     "execution_count": 64,
     "metadata": {},
     "output_type": "execute_result"
    }
   ],
   "source": [
    "s = \"03-21-1998\"\n",
    "from datetime import date\n",
    "f = lambda s: date(int(s[-4:]), int(s[:2]), int(s[3:5]))\n",
    "f(s)"
   ]
  },
  {
   "attachments": {},
   "cell_type": "markdown",
   "metadata": {
    "pycharm": {
     "name": "#%% md\n"
    }
   },
   "source": [
    "### Sweet. What formats are supported? Can I add my own file reader?\n",
    "\n",
    "Yes! This is very good for special log files or custom json formats.\n",
    "Here's how you do it:\n",
    "\n",
    "(1) Go to all existing readers in the `tablite.core` and find the closest match."
   ]
  },
  {
   "cell_type": "code",
   "execution_count": 65,
   "metadata": {
    "pycharm": {
     "name": "#%%\n"
    }
   },
   "outputs": [
    {
     "name": "stdout",
     "output_type": "stream",
     "text": [
      "fods <function excel_reader at 0x0000010E7F1F9B40>\n",
      "json <function excel_reader at 0x0000010E7F1F9B40>\n",
      "html <function from_html at 0x0000010E7F1F9AB0>\n",
      "hdf5 <function from_hdf5 at 0x0000010E7EAC0DC0>\n",
      "simple <function excel_reader at 0x0000010E7F1F9B40>\n",
      "rst <function excel_reader at 0x0000010E7F1F9B40>\n",
      "mediawiki <function excel_reader at 0x0000010E7F1F9B40>\n",
      "xlsx <function excel_reader at 0x0000010E7F1F9B40>\n",
      "xls <function excel_reader at 0x0000010E7F1F9B40>\n",
      "xlsm <function excel_reader at 0x0000010E7F1F9B40>\n",
      "csv <function text_reader at 0x0000010E7F1F9EA0>\n",
      "tsv <function text_reader at 0x0000010E7F1F9EA0>\n",
      "txt <function text_reader at 0x0000010E7F1F9EA0>\n",
      "ods <function ods_reader at 0x0000010E7F1F9BD0>\n"
     ]
    }
   ],
   "source": [
    "from tablite.import_utils import file_readers\n",
    "for k,v in file_readers.items():\n",
    "    print(k,v)"
   ]
  },
  {
   "attachments": {},
   "cell_type": "markdown",
   "metadata": {
    "pycharm": {
     "name": "#%% md\n"
    }
   },
   "source": [
    "(2) define your new file reader"
   ]
  },
  {
   "cell_type": "code",
   "execution_count": 66,
   "metadata": {
    "pycharm": {
     "name": "#%%\n"
    }
   },
   "outputs": [],
   "source": [
    "def my_magic_reader(path, **kwargs):   # define your new file reader.\n",
    "    print(\"do magic with {path}\")\n",
    "    return"
   ]
  },
  {
   "attachments": {},
   "cell_type": "markdown",
   "metadata": {
    "pycharm": {
     "name": "#%% md\n"
    }
   },
   "source": [
    "(3) add it to the list of readers."
   ]
  },
  {
   "cell_type": "code",
   "execution_count": 67,
   "metadata": {
    "pycharm": {
     "name": "#%%\n"
    }
   },
   "outputs": [],
   "source": [
    "file_readers['my_special_format'] = my_magic_reader"
   ]
  },
  {
   "attachments": {},
   "cell_type": "markdown",
   "metadata": {
    "pycharm": {
     "name": "#%% md\n"
    }
   },
   "source": [
    "The `file_readers` are all in [tablite.core](https://github.com/root-11/tablite/blob/master/tablite/core.py) so if you intend to extend the readers, I recommend that you start here."
   ]
  },
  {
   "attachments": {},
   "cell_type": "markdown",
   "metadata": {},
   "source": [
    "### Very nice. How about exporting data?\n",
    "\n",
    "Just use .export"
   ]
  },
  {
   "cell_type": "code",
   "execution_count": 68,
   "metadata": {},
   "outputs": [],
   "source": [
    "file = Path('example.xlsx')\n",
    "tx2.to_xlsx(file)\n",
    "os.remove(file)"
   ]
  },
  {
   "attachments": {},
   "cell_type": "markdown",
   "metadata": {},
   "source": [
    "![example.xlsx](https://github.com/root-11/tablite/blob/master/images/example_xlsx_exported.png?raw=true)"
   ]
  },
  {
   "attachments": {},
   "cell_type": "markdown",
   "metadata": {
    "pycharm": {
     "name": "#%% md\n"
    }
   },
   "source": [
    "### Cool. Does it play well with plotting packages?\n",
    "\n",
    "Yes. Here's an example you can copy and paste:"
   ]
  },
  {
   "cell_type": "code",
   "execution_count": 69,
   "metadata": {
    "pycharm": {
     "name": "#%%\n"
    }
   },
   "outputs": [
    {
     "name": "stderr",
     "output_type": "stream",
     "text": [
      "creating sort index: 100%|██████████| 1/1 [00:00<00:00, 1001.98it/s]\n",
      "join: 100%|██████████| 2/2 [00:00<00:00, 668.84it/s]\n"
     ]
    },
    {
     "data": {
      "text/html": [
       "<div><table border=1><tr><th>#</th><th>a</th><th>b</th></tr><tr><th> 0</th><th>1</th><th>10</th></tr><tr><th> 1</th><th>2</th><th>100</th></tr><tr><th> 2</th><th>3</th><th>4</th></tr><tr><th> 3</th><th>4</th><th>16</th></tr><tr><th> 4</th><th>5</th><th>10</th></tr><tr><th> 5</th><th>6</th><th>-1</th></tr><tr><th> 6</th><th>7</th><th>10</th></tr><tr><th> 7</th><th>8</th><th>3</th></tr><tr><th> 8</th><th>9</th><th>10</th></tr></table></div>"
      ],
      "text/plain": [
       "Table(2 columns, 9 rows)"
      ]
     },
     "execution_count": 69,
     "metadata": {},
     "output_type": "execute_result"
    }
   ],
   "source": [
    "from tablite import Table\n",
    "\n",
    "t = Table({\n",
    "'a':[1, 2, 8, 3, 4, 6, 5, 7, 9],\n",
    "'b':[10, 100, 3, 4, 16, -1, 10, 10, 10],\n",
    "})\n",
    "t.sort(mapping={\"a\":False})\n",
    "t"
   ]
  },
  {
   "cell_type": "code",
   "execution_count": 70,
   "metadata": {},
   "outputs": [
    {
     "data": {
      "image/png": "[encoded data removed]",
      "text/plain": [
       "<Figure size 432x288 with 1 Axes>"
      ]
     },
     "metadata": {
      "needs_background": "light"
     },
     "output_type": "display_data"
    }
   ],
   "source": [
    "import matplotlib.pyplot as plt\n",
    "plt.plot(t['a'], t['b'])\n",
    "plt.ylabel('Hello Figure')\n",
    "plt.show()"
   ]
  },
  {
   "attachments": {},
   "cell_type": "markdown",
   "metadata": {},
   "source": [
    "# I like sql. Can tablite understand SQL?\n",
    "\n",
    "Almost. You can use `table.to_sql` and tablite will return ANSI-92 compliant SQL.\n",
    "\n",
    "You can also create a table using `Table.from_sql` and tablite will consume ANSI-92 compliant SQL."
   ]
  },
  {
   "attachments": {},
   "cell_type": "markdown",
   "metadata": {
    "pycharm": {
     "name": "#%% md\n"
    }
   },
   "source": [
    "### But what do I do if I'm about to run out of memory?\n",
    "\n",
    "You wont. Every tablite table is backed by disk. The memory footprint of a table is only the metadata required to know the relationships between variable names and the datastructures.\n",
    "\n",
    "Let's do a comparison:"
   ]
  },
  {
   "cell_type": "code",
   "execution_count": 71,
   "metadata": {},
   "outputs": [],
   "source": [
    "# Let's monitor the memory and record the observations into a table!\n",
    "import psutil, os, gc\n",
    "from time import process_time, sleep\n",
    "process = psutil.Process(os.getpid())\n",
    "baseline_memory = process.memory_info().rss\n",
    "\n",
    "digits = 1_000_000\n",
    "\n",
    "records = Table()\n",
    "records.add_column('method')\n",
    "records.add_column('memory')\n",
    "records.add_column('time')\n",
    "\n",
    "# Let's now use the common and convenient \"row\" based format:\n"
   ]
  },
  {
   "cell_type": "code",
   "execution_count": 72,
   "metadata": {},
   "outputs": [],
   "source": [
    "\n",
    "start = process_time()\n",
    "L = []\n",
    "for _ in range(digits):\n",
    "    L.append(tuple([11 for _ in range(10)]))\n",
    "end = process_time()\n",
    "# go and check taskmanagers memory usage.\n",
    "# At this point we're using ~154.2 Mb to store 1 million lists with 10 items.\n",
    "records.add_rows(('1e6 lists w. 10 integers', process.memory_info().rss - baseline_memory, round(end-start,4)))\n",
    "\n",
    "L.clear()\n",
    "gc.collect()\n",
    "sleep(1)\n"
   ]
  },
  {
   "cell_type": "code",
   "execution_count": 73,
   "metadata": {},
   "outputs": [],
   "source": [
    "\n",
    "# Let's now use a columnar format instead:\n",
    "start = process_time()\n",
    "L = [[11 for i in range(digits)] for _ in range(10)]\n",
    "end = process_time()\n",
    "\n",
    "# go and check taskmanagers memory usage.\n",
    "# at this point we're using ~98.2 Mb to store 10 lists with 1 million items.\n",
    "records.add_rows(('10 lists with 1e6 integers', process.memory_info().rss - baseline_memory, round(end-start,4)))\n",
    "L.clear()\n",
    "gc.collect()\n",
    "sleep(1)\n"
   ]
  },
  {
   "cell_type": "code",
   "execution_count": 74,
   "metadata": {},
   "outputs": [],
   "source": [
    "\n",
    "# We've thereby saved 50 Mb by avoiding the overhead from managing 1 million lists.\n",
    "\n",
    "# Q: But why didn't I just use an array? It would have even lower memory footprint.\n",
    "# A: First, array's don't handle None's and we get that frequently in dirty csv data.\n",
    "# Second, Table needs even less memory.\n",
    "\n",
    "# Let's start with an array:\n",
    "\n",
    "import array\n",
    "start = process_time()\n",
    "L = [array.array('i', [11 for _ in range(digits)]) for _ in range(10)]\n",
    "end = process_time()\n",
    "# go and check taskmanagers memory usage.\n",
    "# at this point we're using 60.0 Mb to store 10 lists with 1 million integers.\n",
    "\n",
    "records.add_rows(('10 lists with 1e6 integers in arrays', process.memory_info().rss - baseline_memory, round(end-start,4)))\n",
    "L.clear()\n",
    "gc.collect()\n",
    "sleep(1)\n"
   ]
  },
  {
   "cell_type": "code",
   "execution_count": 75,
   "metadata": {},
   "outputs": [],
   "source": [
    "\n",
    "# Now let's use Table:\n",
    "\n",
    "start = process_time()\n",
    "t = Table()\n",
    "for i in range(10):\n",
    "    t.add_column(str(i), data=[11 for _ in range(digits)])\n",
    "end = process_time()\n",
    "\n",
    "records.add_rows(('Table with 10 columns with 1e6 integers', process.memory_info().rss - baseline_memory, round(end-start,4)))\n",
    "\n",
    "start = process_time()\n",
    "t2 = t.copy()\n",
    "end = process_time()\n",
    "\n",
    "records.add_rows(('2 Tables with 10 columns with 1e6 integers each', process.memory_info().rss - baseline_memory, round(end-start,4)))\n",
    "\n",
    "# go and check taskmanagers memory usage.\n",
    "# At this point we're using  24.5 Mb to store 10 columns with 1 million integers.\n",
    "# Only the metadata remains in pythons memory.\n"
   ]
  },
  {
   "attachments": {},
   "cell_type": "markdown",
   "metadata": {},
   "source": [
    " Finally let's look at all the results:"
   ]
  },
  {
   "cell_type": "code",
   "execution_count": 76,
   "metadata": {},
   "outputs": [
    {
     "data": {
      "text/html": [
       "<div><table border=1><tr><th>#</th><th>method</th><th>memory</th><th>time</th></tr><tr><th> 0</th><th>1e6 lists w. 10 integers</th><th>121643008</th><th>0.5781</th></tr><tr><th> 1</th><th>10 lists with 1e6 integers</th><th>81563648</th><th>0.2969</th></tr><tr><th> 2</th><th>10 lists with 1e6 integers in arrays</th><th>41308160</th><th>0.5625</th></tr><tr><th> 3</th><th>Table with 10 columns with 1e6 integers</th><th>1290240</th><th>2.375</th></tr><tr><th> 4</th><th>2 Tables with 10 columns with 1e6 integers each</th><th>1290240</th><th>0.0</th></tr></table></div>"
      ],
      "text/plain": [
       "Table(3 columns, 5 rows)"
      ]
     },
     "execution_count": 76,
     "metadata": {},
     "output_type": "execute_result"
    }
   ],
   "source": [
    "records"
   ]
  },
  {
   "attachments": {},
   "cell_type": "markdown",
   "metadata": {},
   "source": [
    "*Conclusion*: A drop from ~140 Mb to ~3 Mb. Working memory using tablite Tables is roughly 18 Mb RAM per Gb of Data.\n",
    "\n",
    "\n"
   ]
  },
  {
   "attachments": {},
   "cell_type": "markdown",
   "metadata": {},
   "source": [
    "### Conclusions\n",
    "\n",
    "This concludes the mega-tutorial to `tablite`. There's nothing more to it.\n",
    "But oh boy it'll save a lot of time.\n",
    "\n",
    "Here's a summary of features:\n",
    "\n",
    "- Everything a list can do.\n",
    "- import csv*, fods, json, html, simple, rst, mediawiki, xlsx, xls, xlsm, csv, tsv, txt, ods using `Table.from_file(...)`\n",
    "- Iterate over rows or columns\n",
    "- Create multikey `index`, `sort`, use `filter`, `any` and `all` to select.\n",
    "  Perform `lookup` across tables including using custom functions.\n",
    "- Perform multikey `joins` with other tables.\n",
    "- Perform `groupby` and reorganise data as a `pivot` table with max, min, sum, first, last, count, unique, average, standard deviation, median and mode.\n",
    "- Update tables with `+=` which automatically sorts out the columns - even if they're not in perfect order.\n",
    "  \n"
   ]
  },
  {
   "attachments": {},
   "cell_type": "markdown",
   "metadata": {},
   "source": [
    "# FAQ\n",
    "\n",
    "| Question | Answer |\n",
    "|:---|:---|\n",
    "|I'm not in a notebook. Is there a nice way to view tables?| Yes. `table.show()` prints the ascii version |\n",
    "| I'm looking for the equivalent to `apply` in pandas. | Just use list comprehensions: <br>`table[column] = [f(x) for x in table[column]` |\n",
    "| What about `map`? | Just use the python function:<br> `mapping = map(f, table[column name])` |\n",
    "| Is there a `where` function? | It's called `any` or `all` like in python:<br> `table.any(column_name > 0)`. |\n",
    "| I like sql and sqlite. Can I use sql? | Yes. Call `table.to_sql()` returns ANSI-92 SQL compliant table definition.<br>You can use this in any SQL compliant engine. |\n",
    "| sometimes i need to clean up data with datetimes. Is there any tool to help with that? | Yes. Look at DataTypes.<br>`DataTypes.round(value, multiple)` allows rounding of datetime.\n"
   ]
  },
  {
   "attachments": {},
   "cell_type": "markdown",
   "metadata": {},
   "source": [
    "# Coming to Tablite from Pandas\n",
    "\n",
    "If you're coming to Tablite from Pandas you will notice some differences.\n",
    "\n",
    "Here's the ultra short comparison to the documentation from Pandas called **10 minutes intro to pandas**\n",
    "\n",
    "The tutorials provide the generic overview:\n",
    "\n",
    "-  [pandas tutorial](https://pandas.pydata.org/docs/user_guide/10min.html#minutes-to-pandas) \n",
    "-  [tablite tutorial](https://github.com/root-11/tablite/blob/master/tutorial.ipynb) \n",
    "\n",
    "Some key differences\n",
    "\n",
    "\n",
    "| topic | Tablite |\n",
    "|---|---|\n",
    "| Viewing data | Just use `table.show()` |\n",
    "| Selection | Slicing works both on columns and rows, and you can filter using `any` or `all`:<br>`table['A','B', 2:30:3].any(A=lambda x:x>3)` <br>to copy a table use:<br> `t2 = t.copy()`<br>This is a very fast deep copy, that has no memory overhead as tablites memory manager keeps track of the data. |\n",
    "| Missing data | Tablite uses `mixed` column format for any format that isn't uniform<br>To get rid of rows with `None`s and `np.nan`s use any:<br>`table.drop_na(None, np.nan)` <br>Alternatively you can use replace:<br> `table.replace(None,5)` <br>following the syntax: `table.replace_missing_values(sources, target)` |\n",
    "|Operations| Descriptive statistics are on a colum by column basis:<br>`table['a'].statistics()` <br> the pandas function `df.apply` doesn't exist in tablite. Use a list comprehension instead. For example: `df.apply(np.cumsum)` is just `np.cumsum(t['A'])` <br> \"histogramming\" in tablite is per column: `table['a'].histogram()` <br> string methods? Just use a list comprehensions: `table['A', 'B'].any(A=lambda x: \"hello\" in x, B=lambda x: \"world\" in x)` |\n",
    "|Merge | Concatenation: Just use `+` or `+=` as in `t1 = t2 + t3 += t4`. <br>If the columns are out of order, tablite will sort the headers according to the order in the first table.<br>If you're worried that the header mismatch use `t1.,stack(t2)` <br> Joins are ANSI92 compliant: `t1.join(t2, <...args...>, join_type=...)`. |\n",
    "|Grouping| Tablite supports multikey groupby using `from tablite import Groupby as gb`.<br> `table.groupby(keys, functions)` |\n",
    "|Reshaping| To reshape a table use `transpose`. <br> to perform pivot table like operations, use: `table.pivot(rows, columns, functions)` subtotals aside tablite will give you everything Excels pivot table can do. |\n",
    "|Time series| To convert time series use a list comprehension.<br>`t1['GMT'] = [timedelta(hours=1) + v for v in t1['date'] ]` <br> to generate a date range use:<br>`from Tablite import daterange`<br>`t['date'] = date_range(start=2022/1/1, stop=2023/1/1, step=timedelta(days=1))`|\n",
    "|Categorical| Pandas only seems to use this for sorting and grouping. <br> Tablite table has `.sort`, `.groupby` and `.pivot`  to achieve the same task. |\n",
    "|Plotting| Import your favorite plotting package and feed it the values, such as:<br>`import matplotlib.pyplot as plt` <br> `plt.plot(t['a'],t['b'])` <br> `plt.showw()` |\n",
    "|Import/Export| Tablite supports the same import/export options as pandas.<br>Tablite pegs the free memory before IO and can therefore process larger-than-RAM files.<br> Tablite also guesses the datatypes for all ISOformats and uses multiprocessing and may therefore be faster. <br>Should you want to inspect how guess works, use `from tools import guess` and try the function out. |\n",
    "|Gotchas| None really. Should you come across something non-pythonic, then please post it on the [issue list](https://github.com/root-11/tablite/issues). |\n"
   ]
  },
  {
   "attachments": {},
   "cell_type": "markdown",
   "metadata": {},
   "source": [
    "\n",
    "Pandas also permits the usage of namedtuples, which are unpacked upon entry.\n",
    "\n",
    "```python\n",
    "from collections import namedtuple\n",
    "Point = namedtuple(\"Point\", \"x y\")\n",
    "points = [Point(0, 0), Point(0, 3)]\n",
    "pd.DataFrame(points)\n",
    "```\n",
    "\n",
    "Doing that in tablite is a bit different. To unpack the named tuple, you should do so explicitly:\n",
    "\n",
    "```python\n",
    "t = Table()\n",
    "t['x'] = [p.x for p in points]\n",
    "t['y'] = [p.y for p in points]\n",
    "```\n",
    "However should you want to keep the points as namedtuple, you can do so in tablite:\n",
    "\n",
    "```python\n",
    "t = Table()\n",
    "t['points'] = points\n",
    "```\n",
    "Tablite will store a serialised version of the points, so your memory overhead will be close to zero.\n",
    "\n"
   ]
  }
 ],
 "metadata": {
  "kernelspec": {
   "display_name": "Python 3.10.5 ('tablite310')",
   "language": "python",
   "name": "python3"
  },
  "language_info": {
   "codemirror_mode": {
    "name": "ipython",
    "version": 3
   },
   "file_extension": ".py",
   "mimetype": "text/x-python",
   "name": "python",
   "nbconvert_exporter": "python",
   "pygments_lexer": "ipython3",
   "version": "3.10.11"
  },
  "vscode": {
   "interpreter": {
    "hash": "1b75c014ea7baa1f5b7be99940e6541d4a8a7395e27dcba8ac6dff802f822df2"
   }
  }
 },
 "nbformat": 4,
 "nbformat_minor": 4
}
