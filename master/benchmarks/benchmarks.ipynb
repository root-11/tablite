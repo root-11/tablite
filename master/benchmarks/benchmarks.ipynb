{
 "cells": [
  {
   "attachments": {},
   "cell_type": "markdown",
   "metadata": {},
   "source": [
    "# Benchmarks\n",
    "\n",
    "These benchmarks seek to establish the performance of tablite as a user sees it.\n",
    "\n",
    "Overview\n",
    "\n",
    "|Input/Output|Various column functions|Base functions|Core functions|\n",
    "|---|---|---|---|\n",
    "|- Save / Load .tpz format<br>- Save tables to various formats<br>- Import data from various formats|- Setitem / getitem<br>- iter<br>- equal, not equal<br>- copy<br>- t += t<br>- t *= t<br>- contains<br>- remove all<br>- replace<br>- index<br>- unique<br>- histogram<br>- statistics<br>- count<br>|- Setitem / getitem<br>- iter / rows<br>- equal, not equal<br>- load<br>- save<br>- copy<br>- stack<br>- types<br>- display_dict<br>- show<br>- to_dict<br>- as_json_serializable<br>- index|- expression<br>- filter<br>- sort_index<br>- reindex<br>- drop_duplicates<br>- sort<br>- is_sorted<br>- any<br>- all<br>- drop <br>- replace<br>- groupby<br>- pivot<br>- joins<br>- lookup<br>- replace missing values<br>- transpose<br>- pivot_transpose<br>- diff|\n"
   ]
  },
  {
   "cell_type": "code",
   "execution_count": 2,
   "metadata": {},
   "outputs": [],
   "source": [
    "import psutil, os, gc, shutil, tempfile\n",
    "from pathlib import Path\n",
    "from time import perf_counter, time\n",
    "from tablite import Table\n",
    "from tablite.datasets import synthetic_order_data\n",
    "from tablite.config import Config\n",
    "\n",
    "Config.TQDM_DISABLE = True"
   ]
  },
  {
   "attachments": {},
   "cell_type": "markdown",
   "metadata": {},
   "source": [
    "## Input / Output"
   ]
  },
  {
   "attachments": {},
   "cell_type": "markdown",
   "metadata": {},
   "source": [
    "### Create tables from synthetic data."
   ]
  },
  {
   "cell_type": "code",
   "execution_count": 3,
   "metadata": {},
   "outputs": [
    {
     "name": "stdout",
     "output_type": "stream",
     "text": [
      "Table 1,000,000 rows is 256 Mb on disk\n",
      "Table 2,000,000 rows is 512 Mb on disk\n",
      "Table 5,000,000 rows is 1,280 Mb on disk\n",
      "Table 10,000,000 rows is 2,560 Mb on disk\n",
      "Table 20,000,000 rows is 5,120 Mb on disk\n",
      "Table 50,000,000 rows is 12,800 Mb on disk\n"
     ]
    }
   ],
   "source": [
    "process = psutil.Process(os.getpid())\n",
    "\n",
    "def make_tables(sizes=[1,2,5,10,20,50]):\n",
    "    # The last tables are too big for RAM (~24Gb), so I create subtables of 1M rows and append them.\n",
    "    t = synthetic_order_data(Config.PAGE_SIZE)\n",
    "    real, flat = t.nbytes()\n",
    "    print(f\"Table {len(t):,} rows is {real/1e6:,.0f} Mb on disk\")\n",
    "\n",
    "    tables = [t]  # 1M rows.\n",
    "\n",
    "    last = 1\n",
    "    t2 = t.copy()\n",
    "    for i in sizes[1:]:\n",
    "        t2 = t2.copy()\n",
    "        for _ in range(i-last):\n",
    "            t2 += synthetic_order_data(Config.PAGE_SIZE)  # these are all unique\n",
    "        last = i\n",
    "        real, flat = t2.nbytes()\n",
    "        tables.append(t2)\n",
    "        print(f\"Table {len(t2):,} rows is {real/1e6:,.0f} Mb on disk\")\n",
    "    return tables\n",
    "\n",
    "tables = make_tables()"
   ]
  },
  {
   "attachments": {},
   "cell_type": "markdown",
   "metadata": {},
   "source": [
    "The values in the tables above are all unique!"
   ]
  },
  {
   "cell_type": "code",
   "execution_count": 4,
   "metadata": {},
   "outputs": [
    {
     "data": {
      "text/html": [
       "<div><table border=1><tr><th>~</th><th>#</th><th>1</th><th>2</th><th>3</th><th>4</th><th>5</th><th>6</th><th>7</th><th>8</th><th>9</th><th>10</th><th>11</th></tr><tr><th>         0</th><th>1</th><th>1401495318295</th><th>2021-10-06T00:00:00</th><th>50814</th><th>1</th><th>19375</th><th>C3-4</th><th>HGQ</th><th>21°</th><th>XYZ</th><th>1.2446472682017344</th><th>21.367107051830455</th></tr><tr><th>         1</th><th>2</th><th>932023137218</th><th>2021-08-26T00:00:00</th><th>50077</th><th>1</th><th>8568</th><th>C5-5</th><th>FZU</th><th>0°</th><th></th><th>0.5529448534751613</th><th>2.6980406874392537</th></tr><tr><th>         2</th><th>3</th><th>1256960225081</th><th>2021-12-21T00:00:00</th><th>50197</th><th>0</th><th>29074</th><th>C2-3</th><th>GTK</th><th>6°</th><th>XYZ</th><th>1.997397545590656</th><th>17.513164305723787</th></tr><tr><th>         3</th><th>4</th><th>1401277781743</th><th>2021-08-23T00:00:00</th><th>50818</th><th>0</th><th>24969</th><th>C4-3</th><th>BYP</th><th>6°</th><th>XYZ</th><th>0.04749712553828957</th><th>7.388171617130485</th></tr><tr><th>         4</th><th>5</th><th>942666767426</th><th>2021-07-31T00:00:00</th><th>50307</th><th>1</th><th>13074</th><th>C5-2</th><th>CCC</th><th>21°</th><th>ABC</th><th>1.021921502761288</th><th>5.21324123446987</th></tr><tr><th>         5</th><th>6</th><th>1218613185127</th><th>2021-12-01T00:00:00</th><th>50484</th><th>1</th><th>17249</th><th>C5-4</th><th>WGT</th><th>21°</th><th></th><th>0.20387642584345567</th><th>12.190974436133764</th></tr><tr><th>         6</th><th>7</th><th>607042434398</th><th>2021-11-29T00:00:00</th><th>50578</th><th>0</th><th>11564</th><th>C2-3</th><th>LUL</th><th>0°</th><th>XYZ</th><th>2.236783515848044</th><th>4.340628097363572</th></tr><tr><th>...</th><th>...</th><th>...</th><th>...</th><th>...</th><th>...</th><th>...</th><th>...</th><th>...</th><th>...</th><th>...</th><th>...</th><th>...</th></tr><tr><th>49,999,993</th><th>999994</th><th>660269377547</th><th>2021-09-17T00:00:00</th><th>50154</th><th>0</th><th>9706</th><th>C4-3</th><th>AHQ</th><th>21°</th><th>XYZ</th><th>0.08321664584312585</th><th>6.567802977527905</th></tr><tr><th>49,999,994</th><th>999995</th><th>570979864695</th><th>2021-08-01T00:00:00</th><th>50149</th><th>1</th><th>25006</th><th>C1-2</th><th>FWH</th><th>6°</th><th></th><th>1.0476392366226641</th><th>9.507105444627065</th></tr><tr><th>49,999,995</th><th>999996</th><th>355195607825</th><th>2021-07-29T00:00:00</th><th>50007</th><th>0</th><th>26992</th><th>C4-3</th><th>GVG</th><th>21°</th><th></th><th>2.204408165609414</th><th>11.27064439742849</th></tr><tr><th>49,999,996</th><th>999997</th><th>2076224057728</th><th>2021-10-16T00:00:00</th><th>50950</th><th>1</th><th>13339</th><th>C5-4</th><th>NKS</th><th>0°</th><th></th><th>2.159311049813549</th><th>4.215756200465961</th></tr><tr><th>49,999,997</th><th>999998</th><th>657724789135</th><th>2021-12-21T00:00:00</th><th>50069</th><th>1</th><th>14747</th><th>C2-4</th><th>LYG</th><th>None</th><th></th><th>1.6480964019169868</th><th>3.0944204836258273</th></tr><tr><th>49,999,998</th><th>999999</th><th>977531243884</th><th>2021-12-02T00:00:00</th><th>50644</th><th>1</th><th>29345</th><th>C2-5</th><th>DRH</th><th>6°</th><th></th><th>2.309114216927531</th><th>10.827068672071468</th></tr><tr><th>49,999,999</th><th>1000000</th><th>1229071392065</th><th>2021-08-23T00:00:00</th><th>50706</th><th>1</th><th>19732</th><th>C4-5</th><th>AGB</th><th>6°</th><th></th><th>0.48887140559369163</th><th>0.8580085696389939</th></tr></table></div>"
      ],
      "text/plain": [
       "Table(12 columns, 50,000,000 rows)"
      ]
     },
     "execution_count": 4,
     "metadata": {},
     "output_type": "execute_result"
    }
   ],
   "source": [
    "tables[-1]"
   ]
  },
  {
   "attachments": {},
   "cell_type": "markdown",
   "metadata": {},
   "source": [
    "### Save / Load .tpz format\n",
    "\n",
    "Without default compression settings (10% slower than uncompressed, 20% of uncompressed filesize)"
   ]
  },
  {
   "cell_type": "code",
   "execution_count": 5,
   "metadata": {},
   "outputs": [],
   "source": [
    "def save_load_benchmarks(tables):\n",
    "    tmp = Path(tempfile.gettempdir()) / \"junk\"\n",
    "    tmp.mkdir(exist_ok=True)\n",
    "\n",
    "    results = Table()\n",
    "    results.add_columns('rows', 'save (sec)', 'load (sec)')\n",
    "    for t in tables:\n",
    "        fn = tmp / f'{len(t)}.tpz'\n",
    "        start = perf_counter()\n",
    "        t.save(fn)\n",
    "        end = perf_counter()\n",
    "        save = round(end-start,3)\n",
    "        assert fn.exists()\n",
    "        \n",
    "        \n",
    "        start = perf_counter()\n",
    "        t2 = Table.load(fn)\n",
    "        end = perf_counter()\n",
    "        load = round(end-start,3)\n",
    "        print(f\"saving {len(t):,} rows ({fn.stat().st_size/1e6:,.0f} Mb) took {save:,.3f} seconds. loading took {load:,.3f} seconds\")\n",
    "        del t2\n",
    "        fn.unlink()\n",
    "        results.add_rows(len(t), save, load)\n",
    "    \n",
    "    r = results\n",
    "    r['save r/sec'] = [int(a/b) if b!=0  else \"nil\" for a,b in zip(r['rows'], r['save (sec)']) ]\n",
    "    r['load r/sec'] = [int(a/b) if b!=0  else \"nil\" for a,b in zip(r['rows'], r['load (sec)'])]\n",
    "\n",
    "    return results\n"
   ]
  },
  {
   "cell_type": "code",
   "execution_count": 6,
   "metadata": {},
   "outputs": [
    {
     "name": "stdout",
     "output_type": "stream",
     "text": [
      "saving 1,000,000 rows (49 Mb) took 2.148 seconds. loading took 0.922 seconds\n",
      "saving 2,000,000 rows (98 Mb) took 4.267 seconds. loading took 1.820 seconds\n",
      "saving 5,000,000 rows (246 Mb) took 10.618 seconds. loading took 4.482 seconds\n",
      "saving 10,000,000 rows (492 Mb) took 21.291 seconds. loading took 8.944 seconds\n",
      "saving 20,000,000 rows (984 Mb) took 42.603 seconds. loading took 17.821 seconds\n",
      "saving 50,000,000 rows (2,461 Mb) took 106.644 seconds. loading took 44.600 seconds\n"
     ]
    }
   ],
   "source": [
    "slb = save_load_benchmarks(tables)"
   ]
  },
  {
   "cell_type": "code",
   "execution_count": 7,
   "metadata": {},
   "outputs": [
    {
     "data": {
      "text/html": [
       "<div><table border=1><tr><th>#</th><th>rows</th><th>save (sec)</th><th>load (sec)</th><th>save r/sec</th><th>load r/sec</th></tr><tr><th> 0</th><th>1000000</th><th>2.148</th><th>0.922</th><th>465549</th><th>1084598</th></tr><tr><th> 1</th><th>2000000</th><th>4.267</th><th>1.82</th><th>468713</th><th>1098901</th></tr><tr><th> 2</th><th>5000000</th><th>10.618</th><th>4.482</th><th>470898</th><th>1115573</th></tr><tr><th> 3</th><th>10000000</th><th>21.291</th><th>8.944</th><th>469682</th><th>1118067</th></tr><tr><th> 4</th><th>20000000</th><th>42.603</th><th>17.821</th><th>469450</th><th>1122271</th></tr><tr><th> 5</th><th>50000000</th><th>106.644</th><th>44.6</th><th>468849</th><th>1121076</th></tr></table></div>"
      ],
      "text/plain": [
       "Table(5 columns, 6 rows)"
      ]
     },
     "execution_count": 7,
     "metadata": {},
     "output_type": "execute_result"
    }
   ],
   "source": [
    "slb"
   ]
  },
  {
   "attachments": {},
   "cell_type": "markdown",
   "metadata": {},
   "source": [
    "With various compression options"
   ]
  },
  {
   "cell_type": "code",
   "execution_count": 8,
   "metadata": {},
   "outputs": [],
   "source": [
    "def save_compression_benchmarks(t):\n",
    "    tmp = Path(tempfile.gettempdir()) / \"junk\"\n",
    "    tmp.mkdir(exist_ok=True)\n",
    "\n",
    "    import zipfile  # https://docs.python.org/3/library/zipfile.html#zipfile.ZipFile\n",
    "    methods = [(None, zipfile.ZIP_STORED, \"zip stored\"), (None, zipfile.ZIP_LZMA, \"zip lzma\")]\n",
    "    methods += [(i, zipfile.ZIP_DEFLATED, \"zip deflated\") for i in range(0,10)]\n",
    "    methods += [(i, zipfile.ZIP_BZIP2, \"zip bzip2\") for i in range(1,10)]\n",
    "\n",
    "    results = Table()\n",
    "    results.add_columns('file size (Mb)', 'method', 'write (sec)', 'read (sec)')\n",
    "    for level, method, name in methods:\n",
    "        fn = tmp / f'{len(t)}.tpz'\n",
    "        start = perf_counter()  \n",
    "        t.save(fn, compression_method=method, compression_level=level)\n",
    "        end = perf_counter()\n",
    "        write = round(end-start,3)\n",
    "        assert fn.exists()\n",
    "        size = int(fn.stat().st_size/1e6)\n",
    "        # print(f\"{name}(level={level}): {len(t):,} rows ({size} Mb) took {write:,.3f} secconds to save\", end='')\n",
    "        \n",
    "        start = perf_counter()\n",
    "        t2 = Table.load(fn)\n",
    "        end = perf_counter()\n",
    "        read = round(end-start,3)\n",
    "        # print(f\" and {end-start:,.3} seconds to load\")\n",
    "        print(\".\", end='')\n",
    "        \n",
    "        del t2\n",
    "        fn.unlink()\n",
    "        results.add_rows(size, f\"{name}(level={level})\", write, read)\n",
    "        \n",
    "    \n",
    "    r = results\n",
    "    r.sort({'write (sec)':True})\n",
    "    r['write (rps)'] = [int(1_000_000/b) for b in r['write (sec)']]\n",
    "    r['read (rps)'] = [int(1_000_000/b) for b in r['read (sec)']]\n",
    "    return results"
   ]
  },
  {
   "cell_type": "code",
   "execution_count": 9,
   "metadata": {},
   "outputs": [
    {
     "name": "stdout",
     "output_type": "stream",
     "text": [
      "....................."
     ]
    },
    {
     "name": "stderr",
     "output_type": "stream",
     "text": [
      "creating sort index:   0%|          | 0/1 [00:00<?, ?it/s]\rcreating sort index: 100%|██████████| 1/1 [00:00<00:00, 268.92it/s]\n"
     ]
    }
   ],
   "source": [
    "scb = save_compression_benchmarks(tables[0])"
   ]
  },
  {
   "cell_type": "code",
   "execution_count": 10,
   "metadata": {},
   "outputs": [
    {
     "data": {
      "text/html": [
       "<div><table border=1><tr><th>#</th><th>file size (Mb)</th><th>method</th><th>write (sec)</th><th>read (sec)</th><th>write (rps)</th><th>read (rps)</th></tr><tr><th> 0</th><th>256</th><th>zip stored(level=None)</th><th>0.396</th><th>0.475</th><th>2525252</th><th>2105263</th></tr><tr><th> 1</th><th>29</th><th>zip lzma(level=None)</th><th>95.137</th><th>2.228</th><th>10511</th><th>448833</th></tr><tr><th> 2</th><th>256</th><th>zip deflated(level=0)</th><th>0.535</th><th>0.595</th><th>1869158</th><th>1680672</th></tr><tr><th> 3</th><th>49</th><th>zip deflated(level=1)</th><th>2.15</th><th>0.922</th><th>465116</th><th>1084598</th></tr><tr><th> 4</th><th>47</th><th>zip deflated(level=2)</th><th>2.264</th><th>0.912</th><th>441696</th><th>1096491</th></tr><tr><th> 5</th><th>43</th><th>zip deflated(level=3)</th><th>3.049</th><th>0.83</th><th>327976</th><th>1204819</th></tr><tr><th> 6</th><th>44</th><th>zip deflated(level=4)</th><th>2.92</th><th>0.862</th><th>342465</th><th>1160092</th></tr><tr><th> 7</th><th>42</th><th>zip deflated(level=5)</th><th>4.034</th><th>0.869</th><th>247892</th><th>1150747</th></tr><tr><th> 8</th><th>40</th><th>zip deflated(level=6)</th><th>8.558</th><th>0.8</th><th>116849</th><th>1250000</th></tr><tr><th> 9</th><th>39</th><th>zip deflated(level=7)</th><th>13.695</th><th>0.778</th><th>73019</th><th>1285347</th></tr><tr><th>10</th><th>38</th><th>zip deflated(level=8)</th><th>56.972</th><th>0.792</th><th>17552</th><th>1262626</th></tr><tr><th>11</th><th>38</th><th>zip deflated(level=9)</th><th>122.623</th><th>0.791</th><th>8155</th><th>1264222</th></tr><tr><th>12</th><th>29</th><th>zip bzip2(level=1)</th><th>15.121</th><th>4.065</th><th>66133</th><th>246002</th></tr><tr><th>13</th><th>29</th><th>zip bzip2(level=2)</th><th>16.047</th><th>4.214</th><th>62316</th><th>237304</th></tr><tr><th>14</th><th>29</th><th>zip bzip2(level=3)</th><th>16.858</th><th>4.409</th><th>59319</th><th>226808</th></tr><tr><th>15</th><th>29</th><th>zip bzip2(level=4)</th><th>17.648</th><th>5.141</th><th>56663</th><th>194514</th></tr><tr><th>16</th><th>29</th><th>zip bzip2(level=5)</th><th>18.674</th><th>6.009</th><th>53550</th><th>166417</th></tr><tr><th>17</th><th>29</th><th>zip bzip2(level=6)</th><th>19.405</th><th>6.628</th><th>51533</th><th>150875</th></tr><tr><th>18</th><th>29</th><th>zip bzip2(level=7)</th><th>19.954</th><th>6.714</th><th>50115</th><th>148942</th></tr><tr><th>19</th><th>29</th><th>zip bzip2(level=8)</th><th>20.595</th><th>6.961</th><th>48555</th><th>143657</th></tr></table></div>"
      ],
      "text/plain": [
       "Table(6 columns, 20 rows)"
      ]
     },
     "execution_count": 10,
     "metadata": {},
     "output_type": "execute_result"
    }
   ],
   "source": [
    "scb[0:20]"
   ]
  },
  {
   "attachments": {},
   "cell_type": "markdown",
   "metadata": {},
   "source": [
    "**Conclusions**\n",
    "\n",
    "- Fastest: zip stored with no compression takes handles "
   ]
  },
  {
   "attachments": {},
   "cell_type": "markdown",
   "metadata": {},
   "source": [
    "### Save / load tables to / from various formats\n",
    "\n",
    "The handlers for saving / export are:\n",
    "\n",
    "- to_sql\n",
    "- to_json\n",
    "- to_xls\n",
    "- to_ods\n",
    "- to_csv\n",
    "- to_tsv\n",
    "- to_text\n",
    "- to_html\n",
    "- to_hdf5\n"
   ]
  },
  {
   "cell_type": "code",
   "execution_count": 11,
   "metadata": {},
   "outputs": [],
   "source": [
    "def to_sql_benchmark(t, rows=1_000_000):\n",
    "    t2 = t[:rows]\n",
    "    write_start = time()\n",
    "    _ = t2.to_sql(name='1')\n",
    "    write_end = time()\n",
    "    write = round(write_end-write_start,3)\n",
    "    return ( t.to_sql.__name__, write, 0, len(t2), \"\" , \"\" ) "
   ]
  },
  {
   "cell_type": "code",
   "execution_count": 12,
   "metadata": {},
   "outputs": [],
   "source": [
    "def to_json_benchmark(t, rows=1_000_000):\n",
    "    t2 = t[:rows]\n",
    "\n",
    "    tmp = Path(tempfile.gettempdir()) / \"junk\"\n",
    "    tmp.mkdir(exist_ok=True)\n",
    "    path = tmp / \"1.json\" \n",
    "    \n",
    "    write_start = time()\n",
    "    bytestr = t2.to_json()\n",
    "    with path.open('w') as fo:\n",
    "        fo.write(bytestr)\n",
    "    write_end = time()\n",
    "    write = round(write_end-write_start,3)\n",
    "\n",
    "    read_start = time()\n",
    "    with path.open('r') as fi:\n",
    "        _ = Table.from_json(fi.read())  # <-- JSON\n",
    "    read_end = time()\n",
    "    read = round(read_end-read_start,3)\n",
    "\n",
    "    return ( t.to_json.__name__, write, read, len(t2), int(path.stat().st_size/1e6), \"\" ) "
   ]
  },
  {
   "cell_type": "code",
   "execution_count": 13,
   "metadata": {},
   "outputs": [],
   "source": [
    "def f(t, args):\n",
    "    rows, c1, c1_kw, c2, c2_kw = args\n",
    "    t2 = t[:rows]\n",
    "\n",
    "    call = getattr(t2, c1)\n",
    "    assert callable(call)\n",
    "\n",
    "    write_start = time()\n",
    "    call(**c1_kw)\n",
    "    write_end = time()\n",
    "    write = round(write_end-write_start,3)\n",
    "\n",
    "    for _ in range(10):\n",
    "        gc.collect()\n",
    "\n",
    "    read_start = time()\n",
    "    if callable(c2):\n",
    "        c2(**c2_kw)\n",
    "    read_end = time()\n",
    "    read = round(read_end-read_start,3)\n",
    "\n",
    "    fn = c2_kw['path']\n",
    "    assert fn.exists()\n",
    "    fs = int(fn.stat().st_size/1e6)\n",
    "    config = {k:v for k,v in c2_kw.items() if k!= 'path'}\n",
    "\n",
    "    return ( c1, write, read, len(t2), fs , str(config))\n"
   ]
  },
  {
   "cell_type": "code",
   "execution_count": 14,
   "metadata": {},
   "outputs": [],
   "source": [
    "def import_export_benchmarks(tables):\n",
    "    Config.PROCESSING_MODE = Config.FALSE\n",
    "        \n",
    "    t = sorted(tables, key=lambda x: len(x), reverse=True)[0]\n",
    "    \n",
    "    tmp = Path(tempfile.gettempdir()) / \"junk\"\n",
    "    tmp.mkdir(exist_ok=True)   \n",
    "\n",
    "    args = [\n",
    "        (   100_000, \"to_xlsx\", {'path': tmp/'1.xlsx'}, Table.from_file, {\"path\":tmp/'1.xlsx', \"sheet\":\"pyexcel_sheet1\"}),\n",
    "        (    50_000,  \"to_ods\",  {'path': tmp/'1.ods'}, Table.from_file, {\"path\":tmp/'1.ods', \"sheet\":\"pyexcel_sheet1\"} ),  # 50k rows, otherwise MemoryError.\n",
    "        ( 1_000_000,  \"to_csv\",  {'path': tmp/'1.csv'}, Table.from_file, {\"path\":tmp/'1.csv'}                           ),\n",
    "        ( 1_000_000,  \"to_csv\",  {'path': tmp/'1.csv'}, Table.from_file, {\"path\":tmp/'1.csv', \"guess_datatypes\":False}),\n",
    "        (10_000_000,  \"to_csv\",  {'path': tmp/'1.csv'}, Table.from_file, {\"path\":tmp/'1.csv', \"guess_datatypes\":False}),\n",
    "        ( 1_000_000,  \"to_tsv\",  {'path': tmp/'1.tsv'}, Table.from_file, {\"path\":tmp/'1.tsv'}                           ),\n",
    "        ( 1_000_000, \"to_text\",  {'path': tmp/'1.txt'}, Table.from_file, {\"path\":tmp/'1.txt'}                           ),\n",
    "        ( 1_000_000, \"to_html\", {'path': tmp/'1.html'}, Table.from_file, {\"path\":tmp/'1.html'}                          ),\n",
    "        ( 1_000_000, \"to_hdf5\", {'path': tmp/'1.hdf5'}, Table.from_file, {\"path\":tmp/'1.hdf5'}                          )\n",
    "    ]\n",
    "\n",
    "    results = Table()\n",
    "    results.add_columns('method', 'write (s)', 'read (s)', 'rows', 'size (Mb)', 'config')\n",
    "\n",
    "    results.add_rows( to_sql_benchmark(t) )\n",
    "    results.add_rows( to_json_benchmark(t) )\n",
    "\n",
    "    for arg in args:\n",
    "        if len(t)<arg[0]:\n",
    "            continue\n",
    "        print(\".\", end='')\n",
    "        try:\n",
    "            results.add_rows( f(t, arg) )\n",
    "        except MemoryError:\n",
    "            results.add_rows( arg[1], \"Memory Error\", \"NIL\", args[0], \"NIL\", \"N/A\")\n",
    "    \n",
    "    r = results\n",
    "    r['read r/sec'] = [int(a/b) if b!=0  else \"nil\" for a,b in zip(r['rows'], r['read (s)']) ]\n",
    "    r['write r/sec'] = [int(a/b) if b!=0  else \"nil\" for a,b in zip(r['rows'], r['write (s)'])]\n",
    "\n",
    "    shutil.rmtree(tmp)\n",
    "    return results"
   ]
  },
  {
   "cell_type": "code",
   "execution_count": 15,
   "metadata": {},
   "outputs": [
    {
     "name": "stdout",
     "output_type": "stream",
     "text": [
      ".........writing 12,000,000 records to /tmp/junk/1.hdf5... done\n"
     ]
    }
   ],
   "source": [
    "ieb = import_export_benchmarks(tables)"
   ]
  },
  {
   "cell_type": "code",
   "execution_count": 16,
   "metadata": {},
   "outputs": [
    {
     "data": {
      "text/html": [
       "<div><table border=1><tr><th>#</th><th>method</th><th>write (s)</th><th>read (s)</th><th>rows</th><th>size (Mb)</th><th>config</th><th>read r/sec</th><th>write r/sec</th></tr><tr><th> 0</th><th>to_sql</th><th>12.345</th><th>0</th><th>1000000</th><th></th><th></th><th>nil</th><th>81004</th></tr><tr><th> 1</th><th>to_json</th><th>10.814</th><th>4.406</th><th>1000000</th><th>142</th><th></th><th>226963</th><th>92472</th></tr><tr><th> 2</th><th>to_xlsx</th><th>10.569</th><th>21.572</th><th>100000</th><th>9</th><th>{'sheet': 'pyexcel_sheet1'}</th><th>4635</th><th>9461</th></tr><tr><th> 3</th><th>to_ods</th><th>29.175</th><th>29.487</th><th>50000</th><th>3</th><th>{'sheet': 'pyexcel_sheet1'}</th><th>1695</th><th>1713</th></tr><tr><th> 4</th><th>to_csv</th><th>14.315</th><th>15.731</th><th>1000000</th><th>108</th><th>{}</th><th>63568</th><th>69856</th></tr><tr><th> 5</th><th>to_csv</th><th>14.438</th><th>8.169</th><th>1000000</th><th>108</th><th>{'guess_datatypes': False}</th><th>122414</th><th>69261</th></tr><tr><th> 6</th><th>to_csv</th><th>140.645</th><th>99.45</th><th>10000000</th><th>1080</th><th>{'guess_datatypes': False}</th><th>100553</th><th>71100</th></tr><tr><th> 7</th><th>to_tsv</th><th>13.834</th><th>15.763</th><th>1000000</th><th>108</th><th>{}</th><th>63439</th><th>72285</th></tr><tr><th> 8</th><th>to_text</th><th>13.937</th><th>15.682</th><th>1000000</th><th>108</th><th>{}</th><th>63767</th><th>71751</th></tr><tr><th> 9</th><th>to_html</th><th>12.578</th><th>0.53</th><th>1000000</th><th>228</th><th>{}</th><th>1886792</th><th>79503</th></tr><tr><th>10</th><th>to_hdf5</th><th>5.01</th><th>12.345</th><th>1000000</th><th>316</th><th>{}</th><th>81004</th><th>199600</th></tr></table></div>"
      ],
      "text/plain": [
       "Table(8 columns, 11 rows)"
      ]
     },
     "execution_count": 16,
     "metadata": {},
     "output_type": "execute_result"
    }
   ],
   "source": [
    "ieb"
   ]
  },
  {
   "attachments": {},
   "cell_type": "markdown",
   "metadata": {},
   "source": [
    "**Conclusions**\n",
    "\n",
    "Best:\n",
    "- to/from JSON wins with 2.3M rps read\n",
    "- to/from CSV/TSV/TEXT comes 2nd with config `guess_datatypes=False` with ~ 100k rps\n",
    "\n",
    "Worst:\n",
    "- to/from ods burst the memory footprint and hence had to be reduced to 100k rows. It also had the slowest read rate with 1450 rps.\n"
   ]
  },
  {
   "attachments": {},
   "cell_type": "markdown",
   "metadata": {},
   "source": [
    "## Various column functions\n",
    "\n",
    "- Setitem / getitem\n",
    "- iter\n",
    "- equal, not equal\n",
    "- copy\n",
    "- t += t\n",
    "- t *= t\n",
    "- contains\n",
    "- remove all\n",
    "- replace\n",
    "- index\n",
    "- unique\n",
    "- histogram\n",
    "- statistics\n",
    "- count"
   ]
  },
  {
   "cell_type": "code",
   "execution_count": 17,
   "metadata": {},
   "outputs": [],
   "source": [
    "def contains_benchmark(table):\n",
    "    results = Table()\n",
    "    results.add_columns( \"column\", \"time (s)\" )\n",
    "    for name,col in table.columns.items():\n",
    "        n = len(col)\n",
    "        start,stop,step = int(n*0.02), int(n*0.98), int(n/100)\n",
    "        selection = col[start:stop:step]\n",
    "        total_time = 0.0\n",
    "        for v in selection:\n",
    "            start_time = perf_counter()\n",
    "            v in col  # <--- test!\n",
    "            end_time = perf_counter()\n",
    "            total_time += (end_time - start_time)\n",
    "        avg_time = total_time / len(selection)\n",
    "        results.add_rows( name, round(avg_time,3) )\n",
    "\n",
    "    return results\n",
    "    "
   ]
  },
  {
   "cell_type": "code",
   "execution_count": 18,
   "metadata": {},
   "outputs": [
    {
     "data": {
      "text/html": [
       "<div><table border=1><tr><th>#</th><th>column</th><th>time (s)</th></tr><tr><th> 0</th><th>#</th><th>0.001</th></tr><tr><th> 1</th><th>1</th><th>0.043</th></tr><tr><th> 2</th><th>2</th><th>0.032</th></tr><tr><th> 3</th><th>3</th><th>0.001</th></tr><tr><th> 4</th><th>4</th><th>0.001</th></tr><tr><th> 5</th><th>5</th><th>0.001</th></tr><tr><th> 6</th><th>6</th><th>0.006</th></tr><tr><th> 7</th><th>7</th><th>0.003</th></tr><tr><th> 8</th><th>8</th><th>0.006</th></tr><tr><th> 9</th><th>9</th><th>0.007</th></tr><tr><th>10</th><th>10</th><th>0.043</th></tr><tr><th>11</th><th>11</th><th>0.655</th></tr></table></div>"
      ],
      "text/plain": [
       "Table(2 columns, 12 rows)"
      ]
     },
     "execution_count": 18,
     "metadata": {},
     "output_type": "execute_result"
    }
   ],
   "source": [
    "has_it = contains_benchmark(tables[-1])\n",
    "has_it"
   ]
  },
  {
   "attachments": {},
   "cell_type": "markdown",
   "metadata": {},
   "source": [
    "## Various table functions"
   ]
  },
  {
   "attachments": {},
   "cell_type": "markdown",
   "metadata": {},
   "source": [
    "### Slicing\n",
    "\n",
    "Slicing operations are used in many places."
   ]
  },
  {
   "cell_type": "code",
   "execution_count": 19,
   "metadata": {},
   "outputs": [],
   "source": [
    "def slicing_benchmark(table):\n",
    "    n = len(table)\n",
    "    start,stop,step = int(0.02*n), int(0.98*n), int(n / 20)  # from 2% to 98% in 20 large steps\n",
    "    start_time = perf_counter()\n",
    "    snip = table[start:stop:step]\n",
    "    end_time = perf_counter()\n",
    "    print(f\"reading {len(table):,} rows to find {len(snip):,} rows took {end_time-start_time:.3f} sec\")\n",
    "    return snip"
   ]
  },
  {
   "cell_type": "code",
   "execution_count": 20,
   "metadata": {},
   "outputs": [
    {
     "name": "stdout",
     "output_type": "stream",
     "text": [
      "reading 50,000,000 rows to find 20 rows took 1.435 sec\n"
     ]
    }
   ],
   "source": [
    "slice_it = slicing_benchmark(tables[-1])"
   ]
  },
  {
   "cell_type": "code",
   "execution_count": 22,
   "metadata": {},
   "outputs": [],
   "source": [
    "def column_selection_benchmark(tables):\n",
    "    results = Table()\n",
    "    results.add_columns( 'rows')\n",
    "    results.add_columns(*[f\"n cols={i}\" for i,_ in enumerate(tables[0].columns,start=1)])\n",
    "\n",
    "    for table in tables:\n",
    "        rr = [len(table)]\n",
    "        for ix, name in enumerate(table.columns):\n",
    "            cols = list(table.columns)[:ix+1]\n",
    "            start_time = perf_counter()\n",
    "            table[cols]\n",
    "            end_time = perf_counter()\n",
    "            rr.append(f\"{end_time-start_time:.5f}\")\n",
    "        results.add_rows( rr )\n",
    "    return results"
   ]
  },
  {
   "cell_type": "code",
   "execution_count": 23,
   "metadata": {},
   "outputs": [
    {
     "name": "stdout",
     "output_type": "stream",
     "text": [
      "times below are are in seconds\n"
     ]
    },
    {
     "data": {
      "text/html": [
       "<div><table border=1><tr><th>#</th><th>rows</th><th>n cols=1</th><th>n cols=2</th><th>n cols=3</th><th>n cols=4</th><th>n cols=5</th><th>n cols=6</th><th>n cols=7</th><th>n cols=8</th><th>n cols=9</th><th>n cols=10</th><th>n cols=11</th><th>n cols=12</th></tr><tr><th> 0</th><th>1000000</th><th>0.00001</th><th>0.00006</th><th>0.00004</th><th>0.00004</th><th>0.00004</th><th>0.00004</th><th>0.00004</th><th>0.00004</th><th>0.00004</th><th>0.00004</th><th>0.00004</th><th>0.00004</th></tr><tr><th> 1</th><th>2000000</th><th>0.00001</th><th>0.00008</th><th>0.00003</th><th>0.00003</th><th>0.00003</th><th>0.00003</th><th>0.00003</th><th>0.00003</th><th>0.00003</th><th>0.00003</th><th>0.00004</th><th>0.00004</th></tr><tr><th> 2</th><th>5000000</th><th>0.00001</th><th>0.00005</th><th>0.00004</th><th>0.00004</th><th>0.00004</th><th>0.00004</th><th>0.00004</th><th>0.00004</th><th>0.00004</th><th>0.00004</th><th>0.00004</th><th>0.00004</th></tr><tr><th> 3</th><th>10000000</th><th>0.00002</th><th>0.00005</th><th>0.00004</th><th>0.00004</th><th>0.00004</th><th>0.00004</th><th>0.00007</th><th>0.00005</th><th>0.00005</th><th>0.00005</th><th>0.00005</th><th>0.00005</th></tr><tr><th> 4</th><th>20000000</th><th>0.00003</th><th>0.00006</th><th>0.00005</th><th>0.00005</th><th>0.00005</th><th>0.00005</th><th>0.00006</th><th>0.00006</th><th>0.00006</th><th>0.00006</th><th>0.00006</th><th>0.00006</th></tr><tr><th> 5</th><th>50000000</th><th>0.00009</th><th>0.00011</th><th>0.00010</th><th>0.00009</th><th>0.00009</th><th>0.00009</th><th>0.00009</th><th>0.00009</th><th>0.00009</th><th>0.00009</th><th>0.00010</th><th>0.00009</th></tr></table></div>"
      ],
      "text/plain": [
       "Table(13 columns, 6 rows)"
      ]
     },
     "execution_count": 23,
     "metadata": {},
     "output_type": "execute_result"
    }
   ],
   "source": [
    "csb = column_selection_benchmark(tables)\n",
    "print(\"times below are are in seconds\")\n",
    "csb"
   ]
  },
  {
   "cell_type": "code",
   "execution_count": 33,
   "metadata": {},
   "outputs": [],
   "source": [
    "def iterrows_benchmark(table):\n",
    "    results = Table()\n",
    "    results.add_columns( 'n columns', 'time (s)')\n",
    "\n",
    "    columns = ['1']\n",
    "    for column in list(table.columns):\n",
    "        columns.append(column)\n",
    "        snip = table[columns, slice(500_000,1_500_000)]\n",
    "        start_time = perf_counter()\n",
    "        counts = 0\n",
    "        for row in snip.rows:\n",
    "            counts += 1\n",
    "        end_time = perf_counter()\n",
    "        results.add_rows( len(columns), round(end_time-start_time,3))\n",
    "\n",
    "    return results\n"
   ]
  },
  {
   "cell_type": "code",
   "execution_count": 34,
   "metadata": {},
   "outputs": [
    {
     "data": {
      "text/html": [
       "<div><table border=1><tr><th>#</th><th>n columns</th><th>time (s)</th></tr><tr><th> 0</th><th>2</th><th>9.951</th></tr><tr><th> 1</th><th>3</th><th>9.816</th></tr><tr><th> 2</th><th>4</th><th>9.859</th></tr><tr><th> 3</th><th>5</th><th>9.93</th></tr><tr><th> 4</th><th>6</th><th>9.985</th></tr><tr><th> 5</th><th>7</th><th>9.942</th></tr><tr><th> 6</th><th>8</th><th>9.958</th></tr><tr><th> 7</th><th>9</th><th>9.867</th></tr><tr><th> 8</th><th>10</th><th>9.96</th></tr><tr><th> 9</th><th>11</th><th>9.932</th></tr><tr><th>10</th><th>12</th><th>9.83</th></tr><tr><th>11</th><th>13</th><th>9.861</th></tr></table></div>"
      ],
      "text/plain": [
       "Table(2 columns, 12 rows)"
      ]
     },
     "execution_count": 34,
     "metadata": {},
     "output_type": "execute_result"
    }
   ],
   "source": [
    "iterb = iterrows_benchmark(tables[-1])\n",
    "iterb"
   ]
  },
  {
   "cell_type": "code",
   "execution_count": 35,
   "metadata": {},
   "outputs": [
    {
     "data": {
      "image/png": "[encoded data removed]",
      "text/plain": [
       "<Figure size 640x480 with 1 Axes>"
      ]
     },
     "metadata": {},
     "output_type": "display_data"
    }
   ],
   "source": [
    "import matplotlib.pyplot as plt\n",
    "plt.plot(iterb['n columns'], iterb['time (s)'])\n",
    "plt.show()\n"
   ]
  },
  {
   "attachments": {},
   "cell_type": "markdown",
   "metadata": {},
   "source": [
    "### Table.types()\n",
    "\n",
    "Table.types() is implemented for near constant speed lookup.\n",
    "\n",
    "Here is an example:"
   ]
  },
  {
   "cell_type": "code",
   "execution_count": 28,
   "metadata": {},
   "outputs": [
    {
     "data": {
      "text/plain": [
       "{'#': {int: 50000000},\n",
       " '1': {int: 50000000},\n",
       " '2': {str: 50000000},\n",
       " '3': {int: 50000000},\n",
       " '4': {int: 50000000},\n",
       " '5': {int: 50000000},\n",
       " '6': {str: 50000000},\n",
       " '7': {str: 50000000},\n",
       " '8': {str: 50000000},\n",
       " '9': {str: 50000000},\n",
       " '10': {float: 50000000},\n",
       " '11': {str: 50000000}}"
      ]
     },
     "execution_count": 28,
     "metadata": {},
     "output_type": "execute_result"
    }
   ],
   "source": [
    "tables[-1].types()"
   ]
  },
  {
   "cell_type": "code",
   "execution_count": 29,
   "metadata": {},
   "outputs": [],
   "source": [
    "def dtypes_benchmark(tables):\n",
    "    dtypes_results = Table()\n",
    "    dtypes_results.add_columns(\"rows\", \"time (s)\")\n",
    "\n",
    "    for table in tables:\n",
    "        start_time = perf_counter()\n",
    "        dt = table.types()\n",
    "        end_time = perf_counter()\n",
    "        assert isinstance(dt, dict) and len(dt) != 0\n",
    "        dtypes_results.add_rows( len(table), round(end_time-start_time, 3) )\n",
    "\n",
    "    return dtypes_results"
   ]
  },
  {
   "cell_type": "code",
   "execution_count": 30,
   "metadata": {},
   "outputs": [
    {
     "data": {
      "text/html": [
       "<div><table border=1><tr><th>#</th><th>rows</th><th>time (s)</th></tr><tr><th> 0</th><th>1000000</th><th>0.0</th></tr><tr><th> 1</th><th>2000000</th><th>0.0</th></tr><tr><th> 2</th><th>5000000</th><th>0.0</th></tr><tr><th> 3</th><th>10000000</th><th>0.0</th></tr><tr><th> 4</th><th>20000000</th><th>0.0</th></tr><tr><th> 5</th><th>50000000</th><th>0.001</th></tr></table></div>"
      ],
      "text/plain": [
       "Table(2 columns, 6 rows)"
      ]
     },
     "execution_count": 30,
     "metadata": {},
     "output_type": "execute_result"
    }
   ],
   "source": [
    "dtype_b = dtypes_benchmark(tables)\n",
    "dtype_b"
   ]
  },
  {
   "attachments": {},
   "cell_type": "markdown",
   "metadata": {},
   "source": [
    "### Table.any"
   ]
  },
  {
   "cell_type": "code",
   "execution_count": 31,
   "metadata": {},
   "outputs": [],
   "source": [
    "def any_benchmark(tables):\n",
    "    results = Table()\n",
    "    results.add_columns(\"rows\", *list(tables[0].columns))\n",
    "\n",
    "    for table in tables:\n",
    "        tmp = [len(table)]\n",
    "        for column in list(table.columns):\n",
    "            v = table[column][0]\n",
    "            start_time = perf_counter()\n",
    "            _ = table.any(**{column: v})\n",
    "            end_time = perf_counter()           \n",
    "            tmp.append(round(end_time-start_time,3))\n",
    "\n",
    "        results.add_rows( tmp )\n",
    "    return results\n"
   ]
  },
  {
   "cell_type": "code",
   "execution_count": 32,
   "metadata": {},
   "outputs": [
    {
     "data": {
      "text/html": [
       "<div><table border=1><tr><th>~</th><th>rows</th><th>#</th><th>1</th><th>2</th><th>3</th><th>4</th><th>5</th><th>6</th><th>7</th><th>8</th><th>9</th><th>10</th><th>11</th></tr><tr><th> 0</th><th>1000000</th><th>0.133</th><th>0.133</th><th>0.178</th><th>0.133</th><th>0.292</th><th>0.147</th><th>0.169</th><th>0.143</th><th>0.227</th><th>0.259</th><th>0.146</th><th>0.17</th></tr><tr><th> 1</th><th>2000000</th><th>0.268</th><th>0.263</th><th>0.343</th><th>0.265</th><th>0.567</th><th>0.294</th><th>0.335</th><th>0.275</th><th>0.464</th><th>0.523</th><th>0.289</th><th>0.323</th></tr><tr><th> 2</th><th>5000000</th><th>0.669</th><th>0.653</th><th>0.914</th><th>0.669</th><th>1.436</th><th>0.723</th><th>0.838</th><th>0.694</th><th>1.174</th><th>1.335</th><th>0.678</th><th>0.818</th></tr><tr><th> 3</th><th>10000000</th><th>1.314</th><th>1.35</th><th>1.745</th><th>1.336</th><th>2.902</th><th>1.49</th><th>1.683</th><th>1.414</th><th>2.354</th><th>2.618</th><th>1.343</th><th>1.536</th></tr><tr><th> 4</th><th>20000000</th><th>2.556</th><th>2.534</th><th>3.337</th><th>2.602</th><th>5.645</th><th>2.827</th><th>3.225</th><th>2.646</th><th>4.514</th><th>5.08</th><th>2.693</th><th>3.083</th></tr><tr><th> 5</th><th>50000000</th><th>6.571</th><th>6.423</th><th>8.455</th><th>6.699</th><th>14.484</th><th>7.989</th><th>7.798</th><th>6.259</th><th>10.989</th><th>12.48</th><th>6.732</th><th>7.767</th></tr></table></div>"
      ],
      "text/plain": [
       "Table(13 columns, 6 rows)"
      ]
     },
     "execution_count": 32,
     "metadata": {},
     "output_type": "execute_result"
    }
   ],
   "source": [
    "\n",
    "anyb = any_benchmark(tables)\n",
    "anyb"
   ]
  },
  {
   "attachments": {},
   "cell_type": "markdown",
   "metadata": {},
   "source": [
    "### Table.all"
   ]
  },
  {
   "cell_type": "code",
   "execution_count": 36,
   "metadata": {},
   "outputs": [],
   "source": [
    "def all_benchmark(tables):\n",
    "    results = Table()\n",
    "    results.add_columns(\"rows\", *list(tables[0].columns))\n",
    "\n",
    "    for table in tables:\n",
    "        tmp = [len(table)]\n",
    "        for column in list(table.columns):\n",
    "            v = table[column][0]\n",
    "            start_time = perf_counter()\n",
    "            _ = table.all(**{column: v})\n",
    "            end_time = perf_counter()           \n",
    "            tmp.append(round(end_time-start_time,3))\n",
    "\n",
    "        results.add_rows( tmp )\n",
    "    return results\n"
   ]
  },
  {
   "cell_type": "code",
   "execution_count": 37,
   "metadata": {},
   "outputs": [
    {
     "data": {
      "text/html": [
       "<div><table border=1><tr><th>~</th><th>rows</th><th>#</th><th>1</th><th>2</th><th>3</th><th>4</th><th>5</th><th>6</th><th>7</th><th>8</th><th>9</th><th>10</th><th>11</th></tr><tr><th> 0</th><th>1000000</th><th>0.12</th><th>0.121</th><th>0.162</th><th>0.122</th><th>0.264</th><th>0.138</th><th>0.155</th><th>0.127</th><th>0.209</th><th>0.237</th><th>0.133</th><th>0.151</th></tr><tr><th> 1</th><th>2000000</th><th>0.237</th><th>0.235</th><th>0.311</th><th>0.238</th><th>0.52</th><th>0.266</th><th>0.297</th><th>0.341</th><th>0.451</th><th>0.53</th><th>0.261</th><th>0.285</th></tr><tr><th> 2</th><th>5000000</th><th>0.675</th><th>0.698</th><th>0.952</th><th>0.594</th><th>1.605</th><th>0.659</th><th>0.812</th><th>0.719</th><th>1.224</th><th>1.353</th><th>0.664</th><th>0.914</th></tr><tr><th> 3</th><th>10000000</th><th>1.314</th><th>1.332</th><th>1.707</th><th>1.332</th><th>3.091</th><th>1.463</th><th>1.781</th><th>1.366</th><th>2.358</th><th>2.638</th><th>1.409</th><th>1.714</th></tr><tr><th> 4</th><th>20000000</th><th>2.576</th><th>2.313</th><th>3.11</th><th>2.396</th><th>5.207</th><th>2.573</th><th>2.921</th><th>2.403</th><th>4.041</th><th>4.658</th><th>2.463</th><th>2.808</th></tr><tr><th> 5</th><th>50000000</th><th>5.896</th><th>5.82</th><th>7.73</th><th>5.956</th><th>12.909</th><th>7.45</th><th>7.27</th><th>5.981</th><th>10.183</th><th>11.576</th><th>6.372</th><th>7.414</th></tr></table></div>"
      ],
      "text/plain": [
       "Table(13 columns, 6 rows)"
      ]
     },
     "execution_count": 37,
     "metadata": {},
     "output_type": "execute_result"
    }
   ],
   "source": [
    "allb = all_benchmark(tables)\n",
    "allb"
   ]
  },
  {
   "attachments": {},
   "cell_type": "markdown",
   "metadata": {},
   "source": [
    "### Table.filter"
   ]
  },
  {
   "cell_type": "code",
   "execution_count": null,
   "metadata": {},
   "outputs": [],
   "source": []
  },
  {
   "attachments": {},
   "cell_type": "markdown",
   "metadata": {},
   "source": [
    "### Table.unique"
   ]
  },
  {
   "cell_type": "code",
   "execution_count": 38,
   "metadata": {},
   "outputs": [],
   "source": [
    "def unique_benchmark(tables):\n",
    "    results = Table()\n",
    "    results.add_columns(\"rows\", *list(tables[0].columns))\n",
    "    \n",
    "    for table in tables:\n",
    "        length = len(table)\n",
    "\n",
    "        tmp = [len(table)]\n",
    "        for column in list(table.columns):\n",
    "            start_time = perf_counter()\n",
    "            try:\n",
    "                L = table[column].unique()\n",
    "                dt = perf_counter() - start_time\n",
    "            except MemoryError:\n",
    "                dt = -1\n",
    "            tmp.append(round(dt,3))\n",
    "            assert 0 < len(L) <= length    \n",
    "\n",
    "        results.add_rows( tmp )\n",
    "    return results"
   ]
  },
  {
   "cell_type": "code",
   "execution_count": 39,
   "metadata": {},
   "outputs": [
    {
     "data": {
      "text/html": [
       "<div><table border=1><tr><th>~</th><th>rows</th><th>#</th><th>1</th><th>2</th><th>3</th><th>4</th><th>5</th><th>6</th><th>7</th><th>8</th><th>9</th><th>10</th><th>11</th></tr><tr><th> 0</th><th>1000000</th><th>0.022</th><th>0.081</th><th>0.248</th><th>0.044</th><th>0.016</th><th>0.061</th><th>0.115</th><th>0.136</th><th>0.096</th><th>0.085</th><th>0.094</th><th>0.447</th></tr><tr><th> 1</th><th>2000000</th><th>0.176</th><th>0.271</th><th>0.505</th><th>0.087</th><th>0.031</th><th>0.124</th><th>0.229</th><th>0.279</th><th>0.198</th><th>0.17</th><th>0.305</th><th>1.471</th></tr><tr><th> 2</th><th>5000000</th><th>0.198</th><th>0.499</th><th>1.263</th><th>0.218</th><th>0.076</th><th>0.311</th><th>0.57</th><th>0.685</th><th>0.474</th><th>0.425</th><th>0.595</th><th>2.744</th></tr><tr><th> 3</th><th>10000000</th><th>0.502</th><th>1.123</th><th>2.535</th><th>0.433</th><th>0.155</th><th>0.615</th><th>1.128</th><th>1.375</th><th>0.96</th><th>0.85</th><th>1.316</th><th>5.826</th></tr><tr><th> 4</th><th>20000000</th><th>0.956</th><th>2.336</th><th>5.035</th><th>0.883</th><th>0.319</th><th>1.229</th><th>2.268</th><th>2.748</th><th>1.913</th><th>1.746</th><th>2.733</th><th>11.883</th></tr><tr><th> 5</th><th>50000000</th><th>2.395</th><th>6.019</th><th>12.499</th><th>2.178</th><th>0.764</th><th>3.073</th><th>5.608</th><th>6.819</th><th>4.828</th><th>4.279</th><th>7.097</th><th>30.511</th></tr></table></div>"
      ],
      "text/plain": [
       "Table(13 columns, 6 rows)"
      ]
     },
     "execution_count": 39,
     "metadata": {},
     "output_type": "execute_result"
    }
   ],
   "source": [
    "ubm = unique_benchmark(tables)\n",
    "ubm"
   ]
  },
  {
   "attachments": {},
   "cell_type": "markdown",
   "metadata": {},
   "source": [
    "### Table.index\n",
    "\n",
    "Single column index first:"
   ]
  },
  {
   "cell_type": "code",
   "execution_count": 40,
   "metadata": {},
   "outputs": [],
   "source": [
    "def index_benchmark(tables):\n",
    "    results = Table()\n",
    "    results.add_columns(\"rows\", *list(tables[0].columns))\n",
    "    \n",
    "    for table in tables:\n",
    "\n",
    "        tmp = [len(table)]\n",
    "        for column in list(table.columns):\n",
    "            start_time = perf_counter()\n",
    "            try:\n",
    "                _ = table.index(column)\n",
    "                dt = perf_counter() - start_time\n",
    "            except MemoryError:\n",
    "                dt = -1\n",
    "            tmp.append(round(dt,3))\n",
    "            \n",
    "        results.add_rows( tmp )\n",
    "    return results  "
   ]
  },
  {
   "cell_type": "code",
   "execution_count": 41,
   "metadata": {},
   "outputs": [
    {
     "data": {
      "text/html": [
       "<div><table border=1><tr><th>~</th><th>rows</th><th>#</th><th>1</th><th>2</th><th>3</th><th>4</th><th>5</th><th>6</th><th>7</th><th>8</th><th>9</th><th>10</th><th>11</th></tr><tr><th> 0</th><th>1000000</th><th>1.949</th><th>1.793</th><th>1.432</th><th>1.106</th><th>1.051</th><th>1.23</th><th>1.338</th><th>1.493</th><th>1.411</th><th>1.303</th><th>1.999</th><th>2.325</th></tr><tr><th> 1</th><th>2000000</th><th>2.883</th><th>3.517</th><th>2.856</th><th>2.217</th><th>2.124</th><th>2.462</th><th>2.676</th><th>2.986</th><th>2.709</th><th>2.606</th><th>4.049</th><th>4.461</th></tr><tr><th> 2</th><th>5000000</th><th>6.382</th><th>9.049</th><th>7.096</th><th>5.628</th><th>5.353</th><th>6.312</th><th>6.649</th><th>7.521</th><th>6.71</th><th>6.459</th><th>10.27</th><th>10.747</th></tr><tr><th> 3</th><th>10000000</th><th>12.553</th><th>18.506</th><th>13.95</th><th>11.335</th><th>10.724</th><th>12.509</th><th>13.33</th><th>15.051</th><th>13.502</th><th>12.899</th><th>19.769</th><th>21.999</th></tr><tr><th> 4</th><th>20000000</th><th>24.717</th><th>37.896</th><th>28.568</th><th>22.666</th><th>21.472</th><th>26.327</th><th>27.157</th><th>30.064</th><th>27.332</th><th>25.822</th><th>38.311</th><th>43.399</th></tr><tr><th> 5</th><th>50000000</th><th>63.016</th><th>97.077</th><th>72.007</th><th>55.609</th><th>54.099</th><th>61.797</th><th>68.236</th><th>75.07</th><th>69.022</th><th>66.152</th><th>99.183</th><th>109.969</th></tr></table></div>"
      ],
      "text/plain": [
       "Table(13 columns, 6 rows)"
      ]
     },
     "execution_count": 41,
     "metadata": {},
     "output_type": "execute_result"
    }
   ],
   "source": [
    "ibm = index_benchmark(tables)\n",
    "ibm"
   ]
  },
  {
   "attachments": {},
   "cell_type": "markdown",
   "metadata": {},
   "source": [
    "Multi-column index next:"
   ]
  },
  {
   "cell_type": "code",
   "execution_count": 42,
   "metadata": {},
   "outputs": [],
   "source": [
    "def multi_column_index_benchmark(tables):\n",
    "    \n",
    "    selection = [\"4\", \"7\", \"8\", \"9\"]\n",
    "    results = Table()\n",
    "    results.add_columns(\"rows\", *range(1,len(selection)+1))\n",
    "    \n",
    "    for table in tables:\n",
    "\n",
    "        tmp = [len(table)]\n",
    "        for index in range(1,5):\n",
    "            start_time = perf_counter()\n",
    "            try:\n",
    "                _ = table.index(*selection[:index])\n",
    "                dt = perf_counter() - start_time\n",
    "            except MemoryError:\n",
    "                dt = -1\n",
    "            tmp.append(round(dt,3))\n",
    "            print('.', end='')\n",
    "            \n",
    "        results.add_rows( tmp )\n",
    "    return results  "
   ]
  },
  {
   "cell_type": "code",
   "execution_count": 43,
   "metadata": {},
   "outputs": [
    {
     "name": "stdout",
     "output_type": "stream",
     "text": [
      "........................"
     ]
    },
    {
     "data": {
      "text/html": [
       "<div><table border=1><tr><th>#</th><th>rows</th><th>1</th><th>2</th><th>3</th><th>4</th></tr><tr><th> 0</th><th>1000000</th><th>1.058</th><th>2.133</th><th>3.215</th><th>4.052</th></tr><tr><th> 1</th><th>2000000</th><th>2.12</th><th>4.278</th><th>6.546</th><th>8.328</th></tr><tr><th> 2</th><th>5000000</th><th>5.303</th><th>10.89</th><th>16.693</th><th>20.793</th></tr><tr><th> 3</th><th>10000000</th><th>10.581</th><th>22.407</th><th>33.462</th><th>41.91</th></tr><tr><th> 4</th><th>20000000</th><th>21.064</th><th>45.954</th><th>67.781</th><th>84.828</th></tr><tr><th> 5</th><th>50000000</th><th>52.347</th><th>109.551</th><th>166.6</th><th>211.053</th></tr></table></div>"
      ],
      "text/plain": [
       "Table(5 columns, 6 rows)"
      ]
     },
     "execution_count": 43,
     "metadata": {},
     "output_type": "execute_result"
    }
   ],
   "source": [
    "mcib = multi_column_index_benchmark(tables)\n",
    "mcib"
   ]
  },
  {
   "attachments": {},
   "cell_type": "markdown",
   "metadata": {},
   "source": []
  },
  {
   "attachments": {},
   "cell_type": "markdown",
   "metadata": {},
   "source": [
    "### drop duplicates"
   ]
  },
  {
   "cell_type": "code",
   "execution_count": 44,
   "metadata": {},
   "outputs": [],
   "source": [
    "def drop_duplicates_benchmark(tables):\n",
    "    results = Table()\n",
    "    results.add_columns(\"rows\", *list(tables[0].columns))\n",
    "    \n",
    "    for table in tables:\n",
    "        result = [len(table)]\n",
    "        cols = []\n",
    "        for name in list(table.columns):\n",
    "            cols.append(name)\n",
    "            start_time = perf_counter()\n",
    "            try:\n",
    "                _ = table.drop_duplicates(*cols)\n",
    "                dt = perf_counter() - start_time\n",
    "            except MemoryError:\n",
    "                dt = -1\n",
    "            result.append(round(dt,3))\n",
    "            print('.', end='')\n",
    "        \n",
    "        results.add_rows( result )\n",
    "    return results  "
   ]
  },
  {
   "cell_type": "code",
   "execution_count": 45,
   "metadata": {},
   "outputs": [
    {
     "name": "stdout",
     "output_type": "stream",
     "text": [
      "........................................................................"
     ]
    },
    {
     "data": {
      "text/html": [
       "<div><table border=1><tr><th>~</th><th>rows</th><th>#</th><th>1</th><th>2</th><th>3</th><th>4</th><th>5</th><th>6</th><th>7</th><th>8</th><th>9</th><th>10</th><th>11</th></tr><tr><th> 0</th><th>1000000</th><th>1.761</th><th>2.358</th><th>3.313</th><th>3.901</th><th>4.615</th><th>4.961</th><th>5.835</th><th>6.534</th><th>7.454</th><th>8.108</th><th>8.803</th><th>9.682</th></tr><tr><th> 1</th><th>2000000</th><th>3.011</th><th>4.93</th><th>6.934</th><th>7.97</th><th>9.264</th><th>10.268</th><th>12.006</th><th>13.517</th><th>14.92</th><th>16.631</th><th>17.932</th><th>19.493</th></tr><tr><th> 2</th><th>5000000</th><th>6.827</th><th>13.853</th><th>18.637</th><th>21.237</th><th>24.548</th><th>27.11</th><th>31.157</th><th>35.026</th><th>38.992</th><th>43.531</th><th>46.022</th><th>50.433</th></tr><tr><th> 3</th><th>10000000</th><th>13.238</th><th>31.746</th><th>41.141</th><th>46.917</th><th>53.172</th><th>58.241</th><th>67.992</th><th>74.651</th><th>82.74</th><th>91.458</th><th>97.666</th><th>104.82</th></tr><tr><th> 4</th><th>20000000</th><th>25.932</th><th>77.75</th><th>100.34</th><th>109.314</th><th>123.514</th><th>131.874</th><th>148.432</th><th>163.57</th><th>179.121</th><th>196.047</th><th>208.686</th><th>228.059</th></tr><tr><th> 5</th><th>50000000</th><th>64.237</th><th>312.222</th><th>364.886</th><th>388.249</th><th>429.724</th><th>466.685</th><th>494.418</th><th>535.367</th><th>581.666</th><th>607.306</th><th>634.343</th><th>683.858</th></tr></table></div>"
      ],
      "text/plain": [
       "Table(13 columns, 6 rows)"
      ]
     },
     "execution_count": 45,
     "metadata": {},
     "output_type": "execute_result"
    }
   ],
   "source": [
    "ddb = drop_duplicates_benchmark(tables)\n",
    "ddb"
   ]
  }
 ],
 "metadata": {
  "kernelspec": {
   "display_name": "venv",
   "language": "python",
   "name": "python3"
  },
  "language_info": {
   "codemirror_mode": {
    "name": "ipython",
    "version": 3
   },
   "file_extension": ".py",
   "mimetype": "text/x-python",
   "name": "python",
   "nbconvert_exporter": "python",
   "pygments_lexer": "ipython3",
   "version": "3.10.6"
  },
  "orig_nbformat": 4,
  "vscode": {
   "interpreter": {
    "hash": "7a3173b2d71a684a700b83a712af34101c6c30546bd939611a8388b9e6f84244"
   }
  }
 },
 "nbformat": 4,
 "nbformat_minor": 2
}
